{
  "nbformat": 4,
  "nbformat_minor": 0,
  "metadata": {
    "colab": {
      "provenance": [],
      "collapsed_sections": [
        "c6WhFqu_VeeQ",
        "K4gIFcDoY0MK",
        "sZ1OTLGyZFBv"
      ]
    },
    "kernelspec": {
      "name": "python3",
      "display_name": "Python 3"
    },
    "language_info": {
      "name": "python"
    }
  },
  "cells": [
    {
      "cell_type": "markdown",
      "source": [
        "# Pandas y Análisis Exploratorio de Datos"
      ],
      "metadata": {
        "id": "i20ao3kaVWqC"
      }
    },
    {
      "cell_type": "markdown",
      "source": [
        "## SERIES"
      ],
      "metadata": {
        "id": "c6WhFqu_VeeQ"
      }
    },
    {
      "cell_type": "markdown",
      "source": [
        "Es la estructura más simple que proporciona Pandas, y se asemeja a una columna en una hoja de cálculo de Excel.\n",
        "\n",
        "Un objeto Series tiene dos componentes principales: un índice y un vector de datos. Ambos componentes son listas con la misma longitud. El índice contiene valores únicos y, por lo general, ordenados, y se usa para acceder a valores individuales de los datos."
      ],
      "metadata": {
        "id": "V4XEumHvVlit"
      }
    },
    {
      "cell_type": "code",
      "execution_count": null,
      "metadata": {
        "id": "o0-TpgnWT_Za"
      },
      "outputs": [],
      "source": [
        "import pandas as pd"
      ]
    },
    {
      "cell_type": "markdown",
      "source": [
        "Las Series son secuencias ordenadas de unidimensionales que pueden contener diferentes tipos de valores. En esto se parecen a las listas. De hecho podemos crear Series usando listas."
      ],
      "metadata": {
        "id": "cWMNWBytWS86"
      }
    },
    {
      "cell_type": "code",
      "source": [
        "serie_1 = pd.Series([3, 7, 9, 8])\n"
      ],
      "metadata": {
        "id": "6qzYCUUxVxg-"
      },
      "execution_count": null,
      "outputs": []
    },
    {
      "cell_type": "code",
      "source": [
        "m = ['a', 'b','c']\n",
        "n= [1,2,3]"
      ],
      "metadata": {
        "id": "Tynv7n4_08ro"
      },
      "execution_count": null,
      "outputs": []
    },
    {
      "cell_type": "code",
      "source": [
        "pd.Series(index = m, data = n)"
      ],
      "metadata": {
        "colab": {
          "base_uri": "https://localhost:8080/"
        },
        "id": "mgQZm_ROzwIz",
        "outputId": "cf01011d-02de-4346-cd19-919f6d1c86dd"
      },
      "execution_count": null,
      "outputs": [
        {
          "output_type": "execute_result",
          "data": {
            "text/plain": [
              "a    1\n",
              "b    2\n",
              "c    3\n",
              "dtype: int64"
            ]
          },
          "metadata": {},
          "execution_count": 57
        }
      ]
    },
    {
      "cell_type": "code",
      "source": [
        "pd.Series(['a', 'b','c'], ['m','n','p'])"
      ],
      "metadata": {
        "colab": {
          "base_uri": "https://localhost:8080/"
        },
        "id": "85UYUGwrz7NB",
        "outputId": "d8a79292-8fe6-4cb2-a395-d8bb287a5370"
      },
      "execution_count": null,
      "outputs": [
        {
          "output_type": "execute_result",
          "data": {
            "text/plain": [
              "m    a\n",
              "n    b\n",
              "p    c\n",
              "dtype: object"
            ]
          },
          "metadata": {},
          "execution_count": 55
        }
      ]
    },
    {
      "cell_type": "code",
      "source": [
        "pd.Series()"
      ],
      "metadata": {
        "id": "WAokHdmt0bF7"
      },
      "execution_count": null,
      "outputs": []
    },
    {
      "cell_type": "markdown",
      "source": [
        "Una gran diferencia que tienen con las listas es que cada elemento en una Serie tiene un índice asociado que no necesariamente es una secuencia de enteros como en las listas. En este aspecto, nuestras Series se parecen a los diccionarios:\n",
        "\n"
      ],
      "metadata": {
        "id": "qkLZZaiOWXFQ"
      }
    },
    {
      "cell_type": "code",
      "source": [
        "serie_1"
      ],
      "metadata": {
        "id": "ZrkledndWVMC",
        "colab": {
          "base_uri": "https://localhost:8080/"
        },
        "outputId": "899dc4c2-649e-4877-9090-b3ceabb73f05"
      },
      "execution_count": null,
      "outputs": [
        {
          "output_type": "execute_result",
          "data": {
            "text/plain": [
              "0    3\n",
              "1    7\n",
              "2    9\n",
              "3    8\n",
              "dtype: int64"
            ]
          },
          "metadata": {},
          "execution_count": 3
        }
      ]
    },
    {
      "cell_type": "markdown",
      "source": [
        "La columna de la izquierda es nuestro índice, la columna de la derecha son los datos almacenados en la Serie. El texto en la parte inferior es el tipo de dato que tenemos en nuestra Serie.\n",
        "\n",
        "Los tipos de datos más comunes que podemos encontrar son:\n",
        "\n",
        "1. int64: Equivalente a int\n",
        "2. float64: Equivalente a float\n",
        "3. bool: Equivalente a bool\n",
        "4. object: Equivalente a str, o indica que hay una mezcla de tipos de datos numéricos y no-numéricos en la Serie"
      ],
      "metadata": {
        "id": "vqNH8fQiWZTM"
      }
    },
    {
      "cell_type": "code",
      "source": [
        "serie_2 = pd.Series([4, 7, 9, 8], index=[10, 11, 12,19])\n",
        "\n",
        "serie_2"
      ],
      "metadata": {
        "id": "YvbD-25mWhFK",
        "colab": {
          "base_uri": "https://localhost:8080/"
        },
        "outputId": "b4c95639-fe26-4ea0-882e-7ddb09608c1f"
      },
      "execution_count": null,
      "outputs": [
        {
          "output_type": "execute_result",
          "data": {
            "text/plain": [
              "10    4\n",
              "11    7\n",
              "12    9\n",
              "19    8\n",
              "dtype: int64"
            ]
          },
          "metadata": {},
          "execution_count": 6
        }
      ]
    },
    {
      "cell_type": "code",
      "source": [
        "serie_3 = pd.Series([5, 8, 7, 2], index=['a', 'b', 'c', 'd'])\n"
      ],
      "metadata": {
        "id": "-PJQYbiXWlhQ"
      },
      "execution_count": null,
      "outputs": []
    },
    {
      "cell_type": "code",
      "source": [
        "datos = {\n",
        "    \"Juan\": 45,\n",
        "    \"Pepe\": 56,\n",
        "    \"Alfonsina\": 12,\n",
        "    \"Jenny\": 49,\n",
        "    \"Marco P.\": 12\n",
        "}\n",
        "\n",
        "serie_4 = pd.Series(datos)\n",
        "\n",
        "serie_4"
      ],
      "metadata": {
        "id": "XAsi5GDxWnhK",
        "colab": {
          "base_uri": "https://localhost:8080/"
        },
        "outputId": "099c7a15-4353-4b16-d3d4-0d4fba8f8d9e"
      },
      "execution_count": null,
      "outputs": [
        {
          "output_type": "execute_result",
          "data": {
            "text/plain": [
              "Juan         45\n",
              "Pepe         56\n",
              "Alfonsina    12\n",
              "Jenny        49\n",
              "Marco P.     12\n",
              "dtype: int64"
            ]
          },
          "metadata": {},
          "execution_count": 10
        }
      ]
    },
    {
      "cell_type": "markdown",
      "source": [
        "Al igual que en las listas, podemos acceder a nuestros datos usando el operador de indexación. La diferencia es que en una Serie tenemos que incluir el operador loc para indicarle a la Serie que estamos accesándola usando los nombres de los índices:\n",
        "\n"
      ],
      "metadata": {
        "id": "1xyzSHz0XhzC"
      }
    },
    {
      "cell_type": "code",
      "source": [
        "serie_1.loc[2]\n"
      ],
      "metadata": {
        "id": "ithn_Q3hXjRS",
        "colab": {
          "base_uri": "https://localhost:8080/"
        },
        "outputId": "7ed53fe1-e17c-41cb-ffd5-f5c31922b075"
      },
      "execution_count": null,
      "outputs": [
        {
          "output_type": "execute_result",
          "data": {
            "text/plain": [
              "9"
            ]
          },
          "metadata": {},
          "execution_count": 29
        }
      ]
    },
    {
      "cell_type": "code",
      "source": [
        "serie_2.loc[12]\n"
      ],
      "metadata": {
        "id": "XphrnjCyXnAv",
        "colab": {
          "base_uri": "https://localhost:8080/"
        },
        "outputId": "e6f1842d-f586-485b-91d4-3f5e4065f985"
      },
      "execution_count": null,
      "outputs": [
        {
          "output_type": "execute_result",
          "data": {
            "text/plain": [
              "9"
            ]
          },
          "metadata": {},
          "execution_count": 30
        }
      ]
    },
    {
      "cell_type": "code",
      "source": [
        "serie_3.loc['c']\n"
      ],
      "metadata": {
        "id": "8rb2YkmIXor2",
        "colab": {
          "base_uri": "https://localhost:8080/"
        },
        "outputId": "28e7d426-126f-451f-edb0-e9e53fc93d4a"
      },
      "execution_count": null,
      "outputs": [
        {
          "output_type": "execute_result",
          "data": {
            "text/plain": [
              "7"
            ]
          },
          "metadata": {},
          "execution_count": 32
        }
      ]
    },
    {
      "cell_type": "code",
      "source": [
        "serie_4.loc['Marco P.']\n"
      ],
      "metadata": {
        "id": "vaOdAXLPXqJ1",
        "colab": {
          "base_uri": "https://localhost:8080/"
        },
        "outputId": "cf05f7e7-5adf-4d62-a379-bef222548e51"
      },
      "execution_count": null,
      "outputs": [
        {
          "output_type": "execute_result",
          "data": {
            "text/plain": [
              "12"
            ]
          },
          "metadata": {},
          "execution_count": 33
        }
      ]
    },
    {
      "cell_type": "markdown",
      "source": [
        "**Métodos de Indexación** "
      ],
      "metadata": {
        "id": "MfhSHkWCXz6T"
      }
    },
    {
      "cell_type": "markdown",
      "source": [
        "Las Series nos permiten muchas más maneras de acceder a sus datos que vuelven a su sistema de indexación sumamente flexible. Veamos algunas de ellas:\n",
        "\n"
      ],
      "metadata": {
        "id": "hL6b0l-rYCsG"
      }
    },
    {
      "cell_type": "code",
      "source": [
        "serie = pd.Series(['a', 'b', 'c', 'd', 'e', 'f', 'g', 'h', 'i'])\n",
        "\n",
        "serie"
      ],
      "metadata": {
        "id": "A2NOh3hMX-Wf",
        "colab": {
          "base_uri": "https://localhost:8080/"
        },
        "outputId": "2b48a067-6edd-426d-cef2-7db3b9d7fc7e"
      },
      "execution_count": null,
      "outputs": [
        {
          "output_type": "execute_result",
          "data": {
            "text/plain": [
              "0    a\n",
              "1    b\n",
              "2    c\n",
              "3    d\n",
              "4    e\n",
              "5    f\n",
              "6    g\n",
              "7    h\n",
              "8    i\n",
              "dtype: object"
            ]
          },
          "metadata": {},
          "execution_count": 34
        }
      ]
    },
    {
      "cell_type": "code",
      "source": [
        "serie.loc[9]"
      ],
      "metadata": {
        "id": "xOgS0PsjwiN-"
      },
      "execution_count": null,
      "outputs": []
    },
    {
      "cell_type": "markdown",
      "source": [
        "Podemos pedir más de un elemento al mismo tiempo pasando una lista de índices:\n",
        "\n"
      ],
      "metadata": {
        "id": "Q4t2FIERYHz_"
      }
    },
    {
      "cell_type": "code",
      "source": [
        "serie.loc[[0, 1, 2]]\n"
      ],
      "metadata": {
        "id": "am36N54RYFL2",
        "colab": {
          "base_uri": "https://localhost:8080/"
        },
        "outputId": "a81d2fb4-6c14-4714-c35b-e3c02adb9eb6"
      },
      "execution_count": null,
      "outputs": [
        {
          "output_type": "execute_result",
          "data": {
            "text/plain": [
              "0    a\n",
              "1    b\n",
              "2    c\n",
              "dtype: object"
            ]
          },
          "metadata": {},
          "execution_count": 35
        }
      ]
    },
    {
      "cell_type": "markdown",
      "source": [
        "Los elementos serán regresados en el orden en el que los pedimos:\n",
        "\n"
      ],
      "metadata": {
        "id": "xjh9ZTT5YcI_"
      }
    },
    {
      "cell_type": "code",
      "source": [
        "serie.loc[[5, 8, 2, 4]]\n"
      ],
      "metadata": {
        "id": "kNJNxbt9YeDP",
        "colab": {
          "base_uri": "https://localhost:8080/"
        },
        "outputId": "b65ca375-7532-4a9a-ac2d-724966316444"
      },
      "execution_count": null,
      "outputs": [
        {
          "output_type": "execute_result",
          "data": {
            "text/plain": [
              "5    f\n",
              "8    i\n",
              "2    c\n",
              "4    e\n",
              "dtype: object"
            ]
          },
          "metadata": {},
          "execution_count": 36
        }
      ]
    },
    {
      "cell_type": "markdown",
      "source": [
        "Podemos pedir \"desde el principio hasta el índice x\" o \"desde el índice x hasta el final\" de esta manera:\n",
        "\n"
      ],
      "metadata": {
        "id": "E_yGXVXTYhzo"
      }
    },
    {
      "cell_type": "code",
      "source": [
        "serie.loc[:]\n"
      ],
      "metadata": {
        "id": "WmANsZOzYfon",
        "colab": {
          "base_uri": "https://localhost:8080/"
        },
        "outputId": "843ca84e-6761-4a70-ce35-2000e02905f3"
      },
      "execution_count": null,
      "outputs": [
        {
          "output_type": "execute_result",
          "data": {
            "text/plain": [
              "0    a\n",
              "1    b\n",
              "2    c\n",
              "3    d\n",
              "4    e\n",
              "5    f\n",
              "6    g\n",
              "7    h\n",
              "8    i\n",
              "dtype: object"
            ]
          },
          "metadata": {},
          "execution_count": 40
        }
      ]
    },
    {
      "cell_type": "markdown",
      "source": [
        "Podemos pedir incluso rangos:\n",
        "\n"
      ],
      "metadata": {
        "id": "Kc41GduEYnwp"
      }
    },
    {
      "cell_type": "code",
      "source": [
        "serie.loc[3:5]\n"
      ],
      "metadata": {
        "id": "qYs33lBEYqS4",
        "colab": {
          "base_uri": "https://localhost:8080/"
        },
        "outputId": "bdc26db1-320a-4301-b8eb-964f9809c1c4"
      },
      "execution_count": null,
      "outputs": [
        {
          "output_type": "execute_result",
          "data": {
            "text/plain": [
              "3    d\n",
              "4    e\n",
              "5    f\n",
              "dtype: object"
            ]
          },
          "metadata": {},
          "execution_count": 42
        }
      ]
    },
    {
      "cell_type": "markdown",
      "source": [
        "También podemos usar rangos cuando nuestro índice no es numérico:\n",
        "\n"
      ],
      "metadata": {
        "id": "xiDqwjgcYslg"
      }
    },
    {
      "cell_type": "code",
      "source": [
        "serie_2 = pd.Series([1, 2, 3, 4, 5, 6, 7, 8], index=['a', 'b', 'c', 'd', 'e', 'f', 'g', 'h'])\n"
      ],
      "metadata": {
        "id": "EQQmOLYPYuCU",
        "colab": {
          "base_uri": "https://localhost:8080/"
        },
        "outputId": "ec5fe4b0-0ee5-4cb3-fab3-b48ed4b1ac28"
      },
      "execution_count": null,
      "outputs": [
        {
          "output_type": "execute_result",
          "data": {
            "text/plain": [
              "8"
            ]
          },
          "metadata": {},
          "execution_count": 46
        }
      ]
    },
    {
      "cell_type": "code",
      "source": [
        "serie_2.loc['f':'c']\n"
      ],
      "metadata": {
        "id": "41rL4n3kYx3c",
        "colab": {
          "base_uri": "https://localhost:8080/"
        },
        "outputId": "e64827c0-978f-40b2-fd1c-c2e4a92a739f"
      },
      "execution_count": null,
      "outputs": [
        {
          "output_type": "execute_result",
          "data": {
            "text/plain": [
              "Series([], dtype: int64)"
            ]
          },
          "metadata": {},
          "execution_count": 45
        }
      ]
    },
    {
      "cell_type": "code",
      "source": [
        "import numpy as np\n",
        "x = np.arange(-10,10,1) # Crear un rango de -10 a 9 contando uno a uno\n",
        "s = pd.Series(index=x, data=x**2) # x**2 devuelve el valor de cada elemento de x elevado al cuadrado\n",
        "print(s)"
      ],
      "metadata": {
        "id": "0dUz_oQ4ZMWR",
        "colab": {
          "base_uri": "https://localhost:8080/"
        },
        "outputId": "df3bbaf3-3a83-4fe1-d000-0aa130154be6"
      },
      "execution_count": null,
      "outputs": [
        {
          "output_type": "stream",
          "name": "stdout",
          "text": [
            "-10    100\n",
            "-9      81\n",
            "-8      64\n",
            "-7      49\n",
            "-6      36\n",
            "-5      25\n",
            "-4      16\n",
            "-3       9\n",
            "-2       4\n",
            "-1       1\n",
            " 0       0\n",
            " 1       1\n",
            " 2       4\n",
            " 3       9\n",
            " 4      16\n",
            " 5      25\n",
            " 6      36\n",
            " 7      49\n",
            " 8      64\n",
            " 9      81\n",
            "dtype: int64\n"
          ]
        }
      ]
    },
    {
      "cell_type": "code",
      "source": [
        "smayor64 = s.loc[s>50]\n",
        "smayor64"
      ],
      "metadata": {
        "id": "_f-WpPXLZVaI",
        "colab": {
          "base_uri": "https://localhost:8080/"
        },
        "outputId": "5fa6ad9f-453b-4489-94f1-a8b4291b7e3a"
      },
      "execution_count": null,
      "outputs": [
        {
          "output_type": "execute_result",
          "data": {
            "text/plain": [
              "-10    100\n",
              "-9      81\n",
              "-8      64\n",
              " 8      64\n",
              " 9      81\n",
              "dtype: int64"
            ]
          },
          "metadata": {},
          "execution_count": 60
        }
      ]
    },
    {
      "cell_type": "markdown",
      "source": [
        "## DATAFRAMES"
      ],
      "metadata": {
        "id": "K4gIFcDoY0MK"
      }
    },
    {
      "cell_type": "markdown",
      "source": [
        "Los DataFrames son la segunda estructura de datos de pandas que vamos estar usando constantemente. Un DataFrame está hecho de dos o más Series acomodadas de manera que obtenemos una estructura tabular.\n",
        "\n",
        "Los DataFrames son bidimensionales, tienen filas y columnas. Cada columna es una Serie que tiene un nombre. Los DataFrames nos ayudan a manejar datos en estructura tabular de manera muy eficiente."
      ],
      "metadata": {
        "id": "AlYvpPj9Y_eR"
      }
    },
    {
      "cell_type": "code",
      "source": [
        "sel_mex = {\n",
        "    'Nombre': ['Javier', 'Raul', 'Diego', 'Memo'],\n",
        "    'Apellido': ['Hernández', 'Jiménez', 'Lainez', 'Ochoa'],\n",
        "    'Equipo': ['Galaxy', 'Wolves', 'Braga', 'América'],\n",
        "    'Posición': ['Delantero', 'Delantero', 'Delantero', 'Portero'],\n",
        "    'Status' : ['R', 'A','A','A']\n",
        "}\n",
        "\n",
        "sel_mex"
      ],
      "metadata": {
        "id": "paahwHk1ZmPa",
        "colab": {
          "base_uri": "https://localhost:8080/"
        },
        "outputId": "c4ce7f90-0bb5-4a82-a8d9-f964cb4d02d6"
      },
      "execution_count": null,
      "outputs": [
        {
          "output_type": "execute_result",
          "data": {
            "text/plain": [
              "{'Nombre': ['Javier', 'Raul', 'Diego', 'Memo'],\n",
              " 'Apellido': ['Hernández', 'Jiménez', 'Lainez', 'Ochoa'],\n",
              " 'Equipo': ['Galaxy', 'Wolves', 'Braga', 'América'],\n",
              " 'Posición': ['Delantero', 'Delantero', 'Delantero', 'Portero'],\n",
              " 'Status': ['R', 'A', 'A', 'A']}"
            ]
          },
          "metadata": {},
          "execution_count": 65
        }
      ]
    },
    {
      "cell_type": "code",
      "source": [
        "df = pd.DataFrame(sel_mex)\n",
        "\n",
        "df"
      ],
      "metadata": {
        "colab": {
          "base_uri": "https://localhost:8080/",
          "height": 175
        },
        "id": "FRqxCWaAblEu",
        "outputId": "4e64b7ec-18cd-4215-9aee-618848327181"
      },
      "execution_count": null,
      "outputs": [
        {
          "output_type": "execute_result",
          "data": {
            "text/plain": [
              "   Nombre   Apellido   Equipo   Posición Status\n",
              "0  Javier  Hernández   Galaxy  Delantero      R\n",
              "1    Raul    Jiménez   Wolves  Delantero      A\n",
              "2   Diego     Lainez    Braga  Delantero      A\n",
              "3    Memo      Ochoa  América    Portero      A"
            ],
            "text/html": [
              "\n",
              "  <div id=\"df-8b5df84a-45dd-4a99-9670-ce1171a3e739\">\n",
              "    <div class=\"colab-df-container\">\n",
              "      <div>\n",
              "<style scoped>\n",
              "    .dataframe tbody tr th:only-of-type {\n",
              "        vertical-align: middle;\n",
              "    }\n",
              "\n",
              "    .dataframe tbody tr th {\n",
              "        vertical-align: top;\n",
              "    }\n",
              "\n",
              "    .dataframe thead th {\n",
              "        text-align: right;\n",
              "    }\n",
              "</style>\n",
              "<table border=\"1\" class=\"dataframe\">\n",
              "  <thead>\n",
              "    <tr style=\"text-align: right;\">\n",
              "      <th></th>\n",
              "      <th>Nombre</th>\n",
              "      <th>Apellido</th>\n",
              "      <th>Equipo</th>\n",
              "      <th>Posición</th>\n",
              "      <th>Status</th>\n",
              "    </tr>\n",
              "  </thead>\n",
              "  <tbody>\n",
              "    <tr>\n",
              "      <th>0</th>\n",
              "      <td>Javier</td>\n",
              "      <td>Hernández</td>\n",
              "      <td>Galaxy</td>\n",
              "      <td>Delantero</td>\n",
              "      <td>R</td>\n",
              "    </tr>\n",
              "    <tr>\n",
              "      <th>1</th>\n",
              "      <td>Raul</td>\n",
              "      <td>Jiménez</td>\n",
              "      <td>Wolves</td>\n",
              "      <td>Delantero</td>\n",
              "      <td>A</td>\n",
              "    </tr>\n",
              "    <tr>\n",
              "      <th>2</th>\n",
              "      <td>Diego</td>\n",
              "      <td>Lainez</td>\n",
              "      <td>Braga</td>\n",
              "      <td>Delantero</td>\n",
              "      <td>A</td>\n",
              "    </tr>\n",
              "    <tr>\n",
              "      <th>3</th>\n",
              "      <td>Memo</td>\n",
              "      <td>Ochoa</td>\n",
              "      <td>América</td>\n",
              "      <td>Portero</td>\n",
              "      <td>A</td>\n",
              "    </tr>\n",
              "  </tbody>\n",
              "</table>\n",
              "</div>\n",
              "      <button class=\"colab-df-convert\" onclick=\"convertToInteractive('df-8b5df84a-45dd-4a99-9670-ce1171a3e739')\"\n",
              "              title=\"Convert this dataframe to an interactive table.\"\n",
              "              style=\"display:none;\">\n",
              "        \n",
              "  <svg xmlns=\"http://www.w3.org/2000/svg\" height=\"24px\"viewBox=\"0 0 24 24\"\n",
              "       width=\"24px\">\n",
              "    <path d=\"M0 0h24v24H0V0z\" fill=\"none\"/>\n",
              "    <path d=\"M18.56 5.44l.94 2.06.94-2.06 2.06-.94-2.06-.94-.94-2.06-.94 2.06-2.06.94zm-11 1L8.5 8.5l.94-2.06 2.06-.94-2.06-.94L8.5 2.5l-.94 2.06-2.06.94zm10 10l.94 2.06.94-2.06 2.06-.94-2.06-.94-.94-2.06-.94 2.06-2.06.94z\"/><path d=\"M17.41 7.96l-1.37-1.37c-.4-.4-.92-.59-1.43-.59-.52 0-1.04.2-1.43.59L10.3 9.45l-7.72 7.72c-.78.78-.78 2.05 0 2.83L4 21.41c.39.39.9.59 1.41.59.51 0 1.02-.2 1.41-.59l7.78-7.78 2.81-2.81c.8-.78.8-2.07 0-2.86zM5.41 20L4 18.59l7.72-7.72 1.47 1.35L5.41 20z\"/>\n",
              "  </svg>\n",
              "      </button>\n",
              "      \n",
              "  <style>\n",
              "    .colab-df-container {\n",
              "      display:flex;\n",
              "      flex-wrap:wrap;\n",
              "      gap: 12px;\n",
              "    }\n",
              "\n",
              "    .colab-df-convert {\n",
              "      background-color: #E8F0FE;\n",
              "      border: none;\n",
              "      border-radius: 50%;\n",
              "      cursor: pointer;\n",
              "      display: none;\n",
              "      fill: #1967D2;\n",
              "      height: 32px;\n",
              "      padding: 0 0 0 0;\n",
              "      width: 32px;\n",
              "    }\n",
              "\n",
              "    .colab-df-convert:hover {\n",
              "      background-color: #E2EBFA;\n",
              "      box-shadow: 0px 1px 2px rgba(60, 64, 67, 0.3), 0px 1px 3px 1px rgba(60, 64, 67, 0.15);\n",
              "      fill: #174EA6;\n",
              "    }\n",
              "\n",
              "    [theme=dark] .colab-df-convert {\n",
              "      background-color: #3B4455;\n",
              "      fill: #D2E3FC;\n",
              "    }\n",
              "\n",
              "    [theme=dark] .colab-df-convert:hover {\n",
              "      background-color: #434B5C;\n",
              "      box-shadow: 0px 1px 3px 1px rgba(0, 0, 0, 0.15);\n",
              "      filter: drop-shadow(0px 1px 2px rgba(0, 0, 0, 0.3));\n",
              "      fill: #FFFFFF;\n",
              "    }\n",
              "  </style>\n",
              "\n",
              "      <script>\n",
              "        const buttonEl =\n",
              "          document.querySelector('#df-8b5df84a-45dd-4a99-9670-ce1171a3e739 button.colab-df-convert');\n",
              "        buttonEl.style.display =\n",
              "          google.colab.kernel.accessAllowed ? 'block' : 'none';\n",
              "\n",
              "        async function convertToInteractive(key) {\n",
              "          const element = document.querySelector('#df-8b5df84a-45dd-4a99-9670-ce1171a3e739');\n",
              "          const dataTable =\n",
              "            await google.colab.kernel.invokeFunction('convertToInteractive',\n",
              "                                                     [key], {});\n",
              "          if (!dataTable) return;\n",
              "\n",
              "          const docLinkHtml = 'Like what you see? Visit the ' +\n",
              "            '<a target=\"_blank\" href=https://colab.research.google.com/notebooks/data_table.ipynb>data table notebook</a>'\n",
              "            + ' to learn more about interactive tables.';\n",
              "          element.innerHTML = '';\n",
              "          dataTable['output_type'] = 'display_data';\n",
              "          await google.colab.output.renderOutput(dataTable, element);\n",
              "          const docLink = document.createElement('div');\n",
              "          docLink.innerHTML = docLinkHtml;\n",
              "          element.appendChild(docLink);\n",
              "        }\n",
              "      </script>\n",
              "    </div>\n",
              "  </div>\n",
              "  "
            ]
          },
          "metadata": {},
          "execution_count": 66
        }
      ]
    },
    {
      "cell_type": "code",
      "source": [
        "df = pd.DataFrame(sel_mex, index=['a', 'b', 'c', 'd'])\n"
      ],
      "metadata": {
        "id": "U6q36srlcHlG",
        "colab": {
          "base_uri": "https://localhost:8080/",
          "height": 175
        },
        "outputId": "3a9a3629-38f5-441e-8f92-229f15b1ae88"
      },
      "execution_count": null,
      "outputs": [
        {
          "output_type": "execute_result",
          "data": {
            "text/plain": [
              "   Nombre   Apellido   Equipo   Posición Status\n",
              "a  Javier  Hernández   Galaxy  Delantero      R\n",
              "b    Raul    Jiménez   Wolves  Delantero      A\n",
              "c   Diego     Lainez    Braga  Delantero      A\n",
              "d    Memo      Ochoa  América    Portero      A"
            ],
            "text/html": [
              "\n",
              "  <div id=\"df-74738e64-f6d2-4ee1-8b74-5310c4dd8125\">\n",
              "    <div class=\"colab-df-container\">\n",
              "      <div>\n",
              "<style scoped>\n",
              "    .dataframe tbody tr th:only-of-type {\n",
              "        vertical-align: middle;\n",
              "    }\n",
              "\n",
              "    .dataframe tbody tr th {\n",
              "        vertical-align: top;\n",
              "    }\n",
              "\n",
              "    .dataframe thead th {\n",
              "        text-align: right;\n",
              "    }\n",
              "</style>\n",
              "<table border=\"1\" class=\"dataframe\">\n",
              "  <thead>\n",
              "    <tr style=\"text-align: right;\">\n",
              "      <th></th>\n",
              "      <th>Nombre</th>\n",
              "      <th>Apellido</th>\n",
              "      <th>Equipo</th>\n",
              "      <th>Posición</th>\n",
              "      <th>Status</th>\n",
              "    </tr>\n",
              "  </thead>\n",
              "  <tbody>\n",
              "    <tr>\n",
              "      <th>a</th>\n",
              "      <td>Javier</td>\n",
              "      <td>Hernández</td>\n",
              "      <td>Galaxy</td>\n",
              "      <td>Delantero</td>\n",
              "      <td>R</td>\n",
              "    </tr>\n",
              "    <tr>\n",
              "      <th>b</th>\n",
              "      <td>Raul</td>\n",
              "      <td>Jiménez</td>\n",
              "      <td>Wolves</td>\n",
              "      <td>Delantero</td>\n",
              "      <td>A</td>\n",
              "    </tr>\n",
              "    <tr>\n",
              "      <th>c</th>\n",
              "      <td>Diego</td>\n",
              "      <td>Lainez</td>\n",
              "      <td>Braga</td>\n",
              "      <td>Delantero</td>\n",
              "      <td>A</td>\n",
              "    </tr>\n",
              "    <tr>\n",
              "      <th>d</th>\n",
              "      <td>Memo</td>\n",
              "      <td>Ochoa</td>\n",
              "      <td>América</td>\n",
              "      <td>Portero</td>\n",
              "      <td>A</td>\n",
              "    </tr>\n",
              "  </tbody>\n",
              "</table>\n",
              "</div>\n",
              "      <button class=\"colab-df-convert\" onclick=\"convertToInteractive('df-74738e64-f6d2-4ee1-8b74-5310c4dd8125')\"\n",
              "              title=\"Convert this dataframe to an interactive table.\"\n",
              "              style=\"display:none;\">\n",
              "        \n",
              "  <svg xmlns=\"http://www.w3.org/2000/svg\" height=\"24px\"viewBox=\"0 0 24 24\"\n",
              "       width=\"24px\">\n",
              "    <path d=\"M0 0h24v24H0V0z\" fill=\"none\"/>\n",
              "    <path d=\"M18.56 5.44l.94 2.06.94-2.06 2.06-.94-2.06-.94-.94-2.06-.94 2.06-2.06.94zm-11 1L8.5 8.5l.94-2.06 2.06-.94-2.06-.94L8.5 2.5l-.94 2.06-2.06.94zm10 10l.94 2.06.94-2.06 2.06-.94-2.06-.94-.94-2.06-.94 2.06-2.06.94z\"/><path d=\"M17.41 7.96l-1.37-1.37c-.4-.4-.92-.59-1.43-.59-.52 0-1.04.2-1.43.59L10.3 9.45l-7.72 7.72c-.78.78-.78 2.05 0 2.83L4 21.41c.39.39.9.59 1.41.59.51 0 1.02-.2 1.41-.59l7.78-7.78 2.81-2.81c.8-.78.8-2.07 0-2.86zM5.41 20L4 18.59l7.72-7.72 1.47 1.35L5.41 20z\"/>\n",
              "  </svg>\n",
              "      </button>\n",
              "      \n",
              "  <style>\n",
              "    .colab-df-container {\n",
              "      display:flex;\n",
              "      flex-wrap:wrap;\n",
              "      gap: 12px;\n",
              "    }\n",
              "\n",
              "    .colab-df-convert {\n",
              "      background-color: #E8F0FE;\n",
              "      border: none;\n",
              "      border-radius: 50%;\n",
              "      cursor: pointer;\n",
              "      display: none;\n",
              "      fill: #1967D2;\n",
              "      height: 32px;\n",
              "      padding: 0 0 0 0;\n",
              "      width: 32px;\n",
              "    }\n",
              "\n",
              "    .colab-df-convert:hover {\n",
              "      background-color: #E2EBFA;\n",
              "      box-shadow: 0px 1px 2px rgba(60, 64, 67, 0.3), 0px 1px 3px 1px rgba(60, 64, 67, 0.15);\n",
              "      fill: #174EA6;\n",
              "    }\n",
              "\n",
              "    [theme=dark] .colab-df-convert {\n",
              "      background-color: #3B4455;\n",
              "      fill: #D2E3FC;\n",
              "    }\n",
              "\n",
              "    [theme=dark] .colab-df-convert:hover {\n",
              "      background-color: #434B5C;\n",
              "      box-shadow: 0px 1px 3px 1px rgba(0, 0, 0, 0.15);\n",
              "      filter: drop-shadow(0px 1px 2px rgba(0, 0, 0, 0.3));\n",
              "      fill: #FFFFFF;\n",
              "    }\n",
              "  </style>\n",
              "\n",
              "      <script>\n",
              "        const buttonEl =\n",
              "          document.querySelector('#df-74738e64-f6d2-4ee1-8b74-5310c4dd8125 button.colab-df-convert');\n",
              "        buttonEl.style.display =\n",
              "          google.colab.kernel.accessAllowed ? 'block' : 'none';\n",
              "\n",
              "        async function convertToInteractive(key) {\n",
              "          const element = document.querySelector('#df-74738e64-f6d2-4ee1-8b74-5310c4dd8125');\n",
              "          const dataTable =\n",
              "            await google.colab.kernel.invokeFunction('convertToInteractive',\n",
              "                                                     [key], {});\n",
              "          if (!dataTable) return;\n",
              "\n",
              "          const docLinkHtml = 'Like what you see? Visit the ' +\n",
              "            '<a target=\"_blank\" href=https://colab.research.google.com/notebooks/data_table.ipynb>data table notebook</a>'\n",
              "            + ' to learn more about interactive tables.';\n",
              "          element.innerHTML = '';\n",
              "          dataTable['output_type'] = 'display_data';\n",
              "          await google.colab.output.renderOutput(dataTable, element);\n",
              "          const docLink = document.createElement('div');\n",
              "          docLink.innerHTML = docLinkHtml;\n",
              "          element.appendChild(docLink);\n",
              "        }\n",
              "      </script>\n",
              "    </div>\n",
              "  </div>\n",
              "  "
            ]
          },
          "metadata": {},
          "execution_count": 70
        }
      ]
    },
    {
      "cell_type": "code",
      "source": [
        "df['Nombre']\n",
        "\n"
      ],
      "metadata": {
        "id": "UwfqzcbucQbE",
        "colab": {
          "base_uri": "https://localhost:8080/"
        },
        "outputId": "a342e50e-a4ff-49df-8aaa-4d44b91c2c90"
      },
      "execution_count": null,
      "outputs": [
        {
          "output_type": "execute_result",
          "data": {
            "text/plain": [
              "a    Javier\n",
              "b      Raul\n",
              "c     Diego\n",
              "d      Memo\n",
              "Name: Nombre, dtype: object"
            ]
          },
          "metadata": {},
          "execution_count": 71
        }
      ]
    },
    {
      "cell_type": "code",
      "source": [
        "serie_nombre = pd.Series(['Javier', 'Raul', 'Diego', 'Memo'], index = ['a', 'b', 'c', 'd'])\n",
        "serie_nombre"
      ],
      "metadata": {
        "colab": {
          "base_uri": "https://localhost:8080/"
        },
        "id": "m_PD3hzl5dxm",
        "outputId": "4cd16b75-27cf-4cb5-b047-bf35fe142552"
      },
      "execution_count": null,
      "outputs": [
        {
          "output_type": "execute_result",
          "data": {
            "text/plain": [
              "a    Javier\n",
              "b      Raul\n",
              "c     Diego\n",
              "d      Memo\n",
              "dtype: object"
            ]
          },
          "metadata": {},
          "execution_count": 73
        }
      ]
    },
    {
      "cell_type": "code",
      "source": [
        "df['Apellido']"
      ],
      "metadata": {
        "id": "Qu3s--tPc0hX",
        "colab": {
          "base_uri": "https://localhost:8080/"
        },
        "outputId": "de1c2811-4798-4a4a-d965-fe09d7291ed7"
      },
      "execution_count": null,
      "outputs": [
        {
          "output_type": "execute_result",
          "data": {
            "text/plain": [
              "a    Hernández\n",
              "b      Jiménez\n",
              "c       Lainez\n",
              "d        Ochoa\n",
              "Name: Apellido, dtype: object"
            ]
          },
          "metadata": {},
          "execution_count": 74
        }
      ]
    },
    {
      "cell_type": "code",
      "source": [
        "df['Equipo']"
      ],
      "metadata": {
        "id": "ObkIeuqac24w",
        "colab": {
          "base_uri": "https://localhost:8080/"
        },
        "outputId": "9486ab78-6ac9-4e42-eaba-99a7a37fda08"
      },
      "execution_count": null,
      "outputs": [
        {
          "output_type": "execute_result",
          "data": {
            "text/plain": [
              "a     Galaxy\n",
              "b     Wolves\n",
              "c      Braga\n",
              "d    América\n",
              "Name: Equipo, dtype: object"
            ]
          },
          "metadata": {},
          "execution_count": 75
        }
      ]
    },
    {
      "cell_type": "code",
      "source": [
        "df['Posición']"
      ],
      "metadata": {
        "id": "xaNguYISc5NL",
        "colab": {
          "base_uri": "https://localhost:8080/"
        },
        "outputId": "3a81d357-d7d6-42d3-c54c-13e9f74407ea"
      },
      "execution_count": null,
      "outputs": [
        {
          "output_type": "execute_result",
          "data": {
            "text/plain": [
              "a    Delantero\n",
              "b    Delantero\n",
              "c    Delantero\n",
              "d      Portero\n",
              "Name: Posición, dtype: object"
            ]
          },
          "metadata": {},
          "execution_count": 76
        }
      ]
    },
    {
      "cell_type": "markdown",
      "source": [
        "También podemos ver más de una columna pasando una lista con los nombres de las columnas que queremos en el orden que las queremos:\n",
        "\n"
      ],
      "metadata": {
        "id": "eaZpHsT7dgFm"
      }
    },
    {
      "cell_type": "code",
      "source": [
        "df[['Nombre', 'Posición']]\n"
      ],
      "metadata": {
        "id": "GTOaii3tdid5",
        "colab": {
          "base_uri": "https://localhost:8080/",
          "height": 175
        },
        "outputId": "ce250035-b5db-477d-b851-17d509b679d0"
      },
      "execution_count": null,
      "outputs": [
        {
          "output_type": "execute_result",
          "data": {
            "text/plain": [
              "   Nombre   Posición\n",
              "a  Javier  Delantero\n",
              "b    Raul  Delantero\n",
              "c   Diego  Delantero\n",
              "d    Memo    Portero"
            ],
            "text/html": [
              "\n",
              "  <div id=\"df-52193702-97ab-4662-9967-30d09bfd4d14\">\n",
              "    <div class=\"colab-df-container\">\n",
              "      <div>\n",
              "<style scoped>\n",
              "    .dataframe tbody tr th:only-of-type {\n",
              "        vertical-align: middle;\n",
              "    }\n",
              "\n",
              "    .dataframe tbody tr th {\n",
              "        vertical-align: top;\n",
              "    }\n",
              "\n",
              "    .dataframe thead th {\n",
              "        text-align: right;\n",
              "    }\n",
              "</style>\n",
              "<table border=\"1\" class=\"dataframe\">\n",
              "  <thead>\n",
              "    <tr style=\"text-align: right;\">\n",
              "      <th></th>\n",
              "      <th>Nombre</th>\n",
              "      <th>Posición</th>\n",
              "    </tr>\n",
              "  </thead>\n",
              "  <tbody>\n",
              "    <tr>\n",
              "      <th>a</th>\n",
              "      <td>Javier</td>\n",
              "      <td>Delantero</td>\n",
              "    </tr>\n",
              "    <tr>\n",
              "      <th>b</th>\n",
              "      <td>Raul</td>\n",
              "      <td>Delantero</td>\n",
              "    </tr>\n",
              "    <tr>\n",
              "      <th>c</th>\n",
              "      <td>Diego</td>\n",
              "      <td>Delantero</td>\n",
              "    </tr>\n",
              "    <tr>\n",
              "      <th>d</th>\n",
              "      <td>Memo</td>\n",
              "      <td>Portero</td>\n",
              "    </tr>\n",
              "  </tbody>\n",
              "</table>\n",
              "</div>\n",
              "      <button class=\"colab-df-convert\" onclick=\"convertToInteractive('df-52193702-97ab-4662-9967-30d09bfd4d14')\"\n",
              "              title=\"Convert this dataframe to an interactive table.\"\n",
              "              style=\"display:none;\">\n",
              "        \n",
              "  <svg xmlns=\"http://www.w3.org/2000/svg\" height=\"24px\"viewBox=\"0 0 24 24\"\n",
              "       width=\"24px\">\n",
              "    <path d=\"M0 0h24v24H0V0z\" fill=\"none\"/>\n",
              "    <path d=\"M18.56 5.44l.94 2.06.94-2.06 2.06-.94-2.06-.94-.94-2.06-.94 2.06-2.06.94zm-11 1L8.5 8.5l.94-2.06 2.06-.94-2.06-.94L8.5 2.5l-.94 2.06-2.06.94zm10 10l.94 2.06.94-2.06 2.06-.94-2.06-.94-.94-2.06-.94 2.06-2.06.94z\"/><path d=\"M17.41 7.96l-1.37-1.37c-.4-.4-.92-.59-1.43-.59-.52 0-1.04.2-1.43.59L10.3 9.45l-7.72 7.72c-.78.78-.78 2.05 0 2.83L4 21.41c.39.39.9.59 1.41.59.51 0 1.02-.2 1.41-.59l7.78-7.78 2.81-2.81c.8-.78.8-2.07 0-2.86zM5.41 20L4 18.59l7.72-7.72 1.47 1.35L5.41 20z\"/>\n",
              "  </svg>\n",
              "      </button>\n",
              "      \n",
              "  <style>\n",
              "    .colab-df-container {\n",
              "      display:flex;\n",
              "      flex-wrap:wrap;\n",
              "      gap: 12px;\n",
              "    }\n",
              "\n",
              "    .colab-df-convert {\n",
              "      background-color: #E8F0FE;\n",
              "      border: none;\n",
              "      border-radius: 50%;\n",
              "      cursor: pointer;\n",
              "      display: none;\n",
              "      fill: #1967D2;\n",
              "      height: 32px;\n",
              "      padding: 0 0 0 0;\n",
              "      width: 32px;\n",
              "    }\n",
              "\n",
              "    .colab-df-convert:hover {\n",
              "      background-color: #E2EBFA;\n",
              "      box-shadow: 0px 1px 2px rgba(60, 64, 67, 0.3), 0px 1px 3px 1px rgba(60, 64, 67, 0.15);\n",
              "      fill: #174EA6;\n",
              "    }\n",
              "\n",
              "    [theme=dark] .colab-df-convert {\n",
              "      background-color: #3B4455;\n",
              "      fill: #D2E3FC;\n",
              "    }\n",
              "\n",
              "    [theme=dark] .colab-df-convert:hover {\n",
              "      background-color: #434B5C;\n",
              "      box-shadow: 0px 1px 3px 1px rgba(0, 0, 0, 0.15);\n",
              "      filter: drop-shadow(0px 1px 2px rgba(0, 0, 0, 0.3));\n",
              "      fill: #FFFFFF;\n",
              "    }\n",
              "  </style>\n",
              "\n",
              "      <script>\n",
              "        const buttonEl =\n",
              "          document.querySelector('#df-52193702-97ab-4662-9967-30d09bfd4d14 button.colab-df-convert');\n",
              "        buttonEl.style.display =\n",
              "          google.colab.kernel.accessAllowed ? 'block' : 'none';\n",
              "\n",
              "        async function convertToInteractive(key) {\n",
              "          const element = document.querySelector('#df-52193702-97ab-4662-9967-30d09bfd4d14');\n",
              "          const dataTable =\n",
              "            await google.colab.kernel.invokeFunction('convertToInteractive',\n",
              "                                                     [key], {});\n",
              "          if (!dataTable) return;\n",
              "\n",
              "          const docLinkHtml = 'Like what you see? Visit the ' +\n",
              "            '<a target=\"_blank\" href=https://colab.research.google.com/notebooks/data_table.ipynb>data table notebook</a>'\n",
              "            + ' to learn more about interactive tables.';\n",
              "          element.innerHTML = '';\n",
              "          dataTable['output_type'] = 'display_data';\n",
              "          await google.colab.output.renderOutput(dataTable, element);\n",
              "          const docLink = document.createElement('div');\n",
              "          docLink.innerHTML = docLinkHtml;\n",
              "          element.appendChild(docLink);\n",
              "        }\n",
              "      </script>\n",
              "    </div>\n",
              "  </div>\n",
              "  "
            ]
          },
          "metadata": {},
          "execution_count": 77
        }
      ]
    },
    {
      "cell_type": "code",
      "source": [
        "df.loc['a']"
      ],
      "metadata": {
        "id": "Ontx0_hEdvAu",
        "colab": {
          "base_uri": "https://localhost:8080/"
        },
        "outputId": "15673b3d-b982-4287-b679-f0e5b411b972"
      },
      "execution_count": null,
      "outputs": [
        {
          "output_type": "execute_result",
          "data": {
            "text/plain": [
              "Nombre         Javier\n",
              "Apellido    Hernández\n",
              "Equipo         Galaxy\n",
              "Posición    Delantero\n",
              "Status              R\n",
              "Name: a, dtype: object"
            ]
          },
          "metadata": {},
          "execution_count": 78
        }
      ]
    },
    {
      "cell_type": "code",
      "source": [
        "df.loc[['c', 'a']]\n"
      ],
      "metadata": {
        "id": "ANsaUpTrdxZD",
        "colab": {
          "base_uri": "https://localhost:8080/",
          "height": 112
        },
        "outputId": "e1378925-0a01-4be1-c4f2-3819bc7da72f"
      },
      "execution_count": null,
      "outputs": [
        {
          "output_type": "execute_result",
          "data": {
            "text/plain": [
              "   Nombre   Apellido  Equipo   Posición Status\n",
              "c   Diego     Lainez   Braga  Delantero      A\n",
              "a  Javier  Hernández  Galaxy  Delantero      R"
            ],
            "text/html": [
              "\n",
              "  <div id=\"df-4d6915e4-35c4-41ff-8229-ad4ed39ae5f6\">\n",
              "    <div class=\"colab-df-container\">\n",
              "      <div>\n",
              "<style scoped>\n",
              "    .dataframe tbody tr th:only-of-type {\n",
              "        vertical-align: middle;\n",
              "    }\n",
              "\n",
              "    .dataframe tbody tr th {\n",
              "        vertical-align: top;\n",
              "    }\n",
              "\n",
              "    .dataframe thead th {\n",
              "        text-align: right;\n",
              "    }\n",
              "</style>\n",
              "<table border=\"1\" class=\"dataframe\">\n",
              "  <thead>\n",
              "    <tr style=\"text-align: right;\">\n",
              "      <th></th>\n",
              "      <th>Nombre</th>\n",
              "      <th>Apellido</th>\n",
              "      <th>Equipo</th>\n",
              "      <th>Posición</th>\n",
              "      <th>Status</th>\n",
              "    </tr>\n",
              "  </thead>\n",
              "  <tbody>\n",
              "    <tr>\n",
              "      <th>c</th>\n",
              "      <td>Diego</td>\n",
              "      <td>Lainez</td>\n",
              "      <td>Braga</td>\n",
              "      <td>Delantero</td>\n",
              "      <td>A</td>\n",
              "    </tr>\n",
              "    <tr>\n",
              "      <th>a</th>\n",
              "      <td>Javier</td>\n",
              "      <td>Hernández</td>\n",
              "      <td>Galaxy</td>\n",
              "      <td>Delantero</td>\n",
              "      <td>R</td>\n",
              "    </tr>\n",
              "  </tbody>\n",
              "</table>\n",
              "</div>\n",
              "      <button class=\"colab-df-convert\" onclick=\"convertToInteractive('df-4d6915e4-35c4-41ff-8229-ad4ed39ae5f6')\"\n",
              "              title=\"Convert this dataframe to an interactive table.\"\n",
              "              style=\"display:none;\">\n",
              "        \n",
              "  <svg xmlns=\"http://www.w3.org/2000/svg\" height=\"24px\"viewBox=\"0 0 24 24\"\n",
              "       width=\"24px\">\n",
              "    <path d=\"M0 0h24v24H0V0z\" fill=\"none\"/>\n",
              "    <path d=\"M18.56 5.44l.94 2.06.94-2.06 2.06-.94-2.06-.94-.94-2.06-.94 2.06-2.06.94zm-11 1L8.5 8.5l.94-2.06 2.06-.94-2.06-.94L8.5 2.5l-.94 2.06-2.06.94zm10 10l.94 2.06.94-2.06 2.06-.94-2.06-.94-.94-2.06-.94 2.06-2.06.94z\"/><path d=\"M17.41 7.96l-1.37-1.37c-.4-.4-.92-.59-1.43-.59-.52 0-1.04.2-1.43.59L10.3 9.45l-7.72 7.72c-.78.78-.78 2.05 0 2.83L4 21.41c.39.39.9.59 1.41.59.51 0 1.02-.2 1.41-.59l7.78-7.78 2.81-2.81c.8-.78.8-2.07 0-2.86zM5.41 20L4 18.59l7.72-7.72 1.47 1.35L5.41 20z\"/>\n",
              "  </svg>\n",
              "      </button>\n",
              "      \n",
              "  <style>\n",
              "    .colab-df-container {\n",
              "      display:flex;\n",
              "      flex-wrap:wrap;\n",
              "      gap: 12px;\n",
              "    }\n",
              "\n",
              "    .colab-df-convert {\n",
              "      background-color: #E8F0FE;\n",
              "      border: none;\n",
              "      border-radius: 50%;\n",
              "      cursor: pointer;\n",
              "      display: none;\n",
              "      fill: #1967D2;\n",
              "      height: 32px;\n",
              "      padding: 0 0 0 0;\n",
              "      width: 32px;\n",
              "    }\n",
              "\n",
              "    .colab-df-convert:hover {\n",
              "      background-color: #E2EBFA;\n",
              "      box-shadow: 0px 1px 2px rgba(60, 64, 67, 0.3), 0px 1px 3px 1px rgba(60, 64, 67, 0.15);\n",
              "      fill: #174EA6;\n",
              "    }\n",
              "\n",
              "    [theme=dark] .colab-df-convert {\n",
              "      background-color: #3B4455;\n",
              "      fill: #D2E3FC;\n",
              "    }\n",
              "\n",
              "    [theme=dark] .colab-df-convert:hover {\n",
              "      background-color: #434B5C;\n",
              "      box-shadow: 0px 1px 3px 1px rgba(0, 0, 0, 0.15);\n",
              "      filter: drop-shadow(0px 1px 2px rgba(0, 0, 0, 0.3));\n",
              "      fill: #FFFFFF;\n",
              "    }\n",
              "  </style>\n",
              "\n",
              "      <script>\n",
              "        const buttonEl =\n",
              "          document.querySelector('#df-4d6915e4-35c4-41ff-8229-ad4ed39ae5f6 button.colab-df-convert');\n",
              "        buttonEl.style.display =\n",
              "          google.colab.kernel.accessAllowed ? 'block' : 'none';\n",
              "\n",
              "        async function convertToInteractive(key) {\n",
              "          const element = document.querySelector('#df-4d6915e4-35c4-41ff-8229-ad4ed39ae5f6');\n",
              "          const dataTable =\n",
              "            await google.colab.kernel.invokeFunction('convertToInteractive',\n",
              "                                                     [key], {});\n",
              "          if (!dataTable) return;\n",
              "\n",
              "          const docLinkHtml = 'Like what you see? Visit the ' +\n",
              "            '<a target=\"_blank\" href=https://colab.research.google.com/notebooks/data_table.ipynb>data table notebook</a>'\n",
              "            + ' to learn more about interactive tables.';\n",
              "          element.innerHTML = '';\n",
              "          dataTable['output_type'] = 'display_data';\n",
              "          await google.colab.output.renderOutput(dataTable, element);\n",
              "          const docLink = document.createElement('div');\n",
              "          docLink.innerHTML = docLinkHtml;\n",
              "          element.appendChild(docLink);\n",
              "        }\n",
              "      </script>\n",
              "    </div>\n",
              "  </div>\n",
              "  "
            ]
          },
          "metadata": {},
          "execution_count": 79
        }
      ]
    },
    {
      "cell_type": "code",
      "source": [
        "df.loc['b':]\n"
      ],
      "metadata": {
        "id": "8m7eTpfvd8Tl",
        "colab": {
          "base_uri": "https://localhost:8080/",
          "height": 143
        },
        "outputId": "7fa7fd3d-b158-4a24-cdaa-657e38a23ab1"
      },
      "execution_count": null,
      "outputs": [
        {
          "output_type": "execute_result",
          "data": {
            "text/plain": [
              "  Nombre Apellido   Equipo   Posición Status\n",
              "b   Raul  Jiménez   Wolves  Delantero      A\n",
              "c  Diego   Lainez    Braga  Delantero      A\n",
              "d   Memo    Ochoa  América    Portero      A"
            ],
            "text/html": [
              "\n",
              "  <div id=\"df-cd4b0461-ca3c-46a2-9113-2e3719a70f01\">\n",
              "    <div class=\"colab-df-container\">\n",
              "      <div>\n",
              "<style scoped>\n",
              "    .dataframe tbody tr th:only-of-type {\n",
              "        vertical-align: middle;\n",
              "    }\n",
              "\n",
              "    .dataframe tbody tr th {\n",
              "        vertical-align: top;\n",
              "    }\n",
              "\n",
              "    .dataframe thead th {\n",
              "        text-align: right;\n",
              "    }\n",
              "</style>\n",
              "<table border=\"1\" class=\"dataframe\">\n",
              "  <thead>\n",
              "    <tr style=\"text-align: right;\">\n",
              "      <th></th>\n",
              "      <th>Nombre</th>\n",
              "      <th>Apellido</th>\n",
              "      <th>Equipo</th>\n",
              "      <th>Posición</th>\n",
              "      <th>Status</th>\n",
              "    </tr>\n",
              "  </thead>\n",
              "  <tbody>\n",
              "    <tr>\n",
              "      <th>b</th>\n",
              "      <td>Raul</td>\n",
              "      <td>Jiménez</td>\n",
              "      <td>Wolves</td>\n",
              "      <td>Delantero</td>\n",
              "      <td>A</td>\n",
              "    </tr>\n",
              "    <tr>\n",
              "      <th>c</th>\n",
              "      <td>Diego</td>\n",
              "      <td>Lainez</td>\n",
              "      <td>Braga</td>\n",
              "      <td>Delantero</td>\n",
              "      <td>A</td>\n",
              "    </tr>\n",
              "    <tr>\n",
              "      <th>d</th>\n",
              "      <td>Memo</td>\n",
              "      <td>Ochoa</td>\n",
              "      <td>América</td>\n",
              "      <td>Portero</td>\n",
              "      <td>A</td>\n",
              "    </tr>\n",
              "  </tbody>\n",
              "</table>\n",
              "</div>\n",
              "      <button class=\"colab-df-convert\" onclick=\"convertToInteractive('df-cd4b0461-ca3c-46a2-9113-2e3719a70f01')\"\n",
              "              title=\"Convert this dataframe to an interactive table.\"\n",
              "              style=\"display:none;\">\n",
              "        \n",
              "  <svg xmlns=\"http://www.w3.org/2000/svg\" height=\"24px\"viewBox=\"0 0 24 24\"\n",
              "       width=\"24px\">\n",
              "    <path d=\"M0 0h24v24H0V0z\" fill=\"none\"/>\n",
              "    <path d=\"M18.56 5.44l.94 2.06.94-2.06 2.06-.94-2.06-.94-.94-2.06-.94 2.06-2.06.94zm-11 1L8.5 8.5l.94-2.06 2.06-.94-2.06-.94L8.5 2.5l-.94 2.06-2.06.94zm10 10l.94 2.06.94-2.06 2.06-.94-2.06-.94-.94-2.06-.94 2.06-2.06.94z\"/><path d=\"M17.41 7.96l-1.37-1.37c-.4-.4-.92-.59-1.43-.59-.52 0-1.04.2-1.43.59L10.3 9.45l-7.72 7.72c-.78.78-.78 2.05 0 2.83L4 21.41c.39.39.9.59 1.41.59.51 0 1.02-.2 1.41-.59l7.78-7.78 2.81-2.81c.8-.78.8-2.07 0-2.86zM5.41 20L4 18.59l7.72-7.72 1.47 1.35L5.41 20z\"/>\n",
              "  </svg>\n",
              "      </button>\n",
              "      \n",
              "  <style>\n",
              "    .colab-df-container {\n",
              "      display:flex;\n",
              "      flex-wrap:wrap;\n",
              "      gap: 12px;\n",
              "    }\n",
              "\n",
              "    .colab-df-convert {\n",
              "      background-color: #E8F0FE;\n",
              "      border: none;\n",
              "      border-radius: 50%;\n",
              "      cursor: pointer;\n",
              "      display: none;\n",
              "      fill: #1967D2;\n",
              "      height: 32px;\n",
              "      padding: 0 0 0 0;\n",
              "      width: 32px;\n",
              "    }\n",
              "\n",
              "    .colab-df-convert:hover {\n",
              "      background-color: #E2EBFA;\n",
              "      box-shadow: 0px 1px 2px rgba(60, 64, 67, 0.3), 0px 1px 3px 1px rgba(60, 64, 67, 0.15);\n",
              "      fill: #174EA6;\n",
              "    }\n",
              "\n",
              "    [theme=dark] .colab-df-convert {\n",
              "      background-color: #3B4455;\n",
              "      fill: #D2E3FC;\n",
              "    }\n",
              "\n",
              "    [theme=dark] .colab-df-convert:hover {\n",
              "      background-color: #434B5C;\n",
              "      box-shadow: 0px 1px 3px 1px rgba(0, 0, 0, 0.15);\n",
              "      filter: drop-shadow(0px 1px 2px rgba(0, 0, 0, 0.3));\n",
              "      fill: #FFFFFF;\n",
              "    }\n",
              "  </style>\n",
              "\n",
              "      <script>\n",
              "        const buttonEl =\n",
              "          document.querySelector('#df-cd4b0461-ca3c-46a2-9113-2e3719a70f01 button.colab-df-convert');\n",
              "        buttonEl.style.display =\n",
              "          google.colab.kernel.accessAllowed ? 'block' : 'none';\n",
              "\n",
              "        async function convertToInteractive(key) {\n",
              "          const element = document.querySelector('#df-cd4b0461-ca3c-46a2-9113-2e3719a70f01');\n",
              "          const dataTable =\n",
              "            await google.colab.kernel.invokeFunction('convertToInteractive',\n",
              "                                                     [key], {});\n",
              "          if (!dataTable) return;\n",
              "\n",
              "          const docLinkHtml = 'Like what you see? Visit the ' +\n",
              "            '<a target=\"_blank\" href=https://colab.research.google.com/notebooks/data_table.ipynb>data table notebook</a>'\n",
              "            + ' to learn more about interactive tables.';\n",
              "          element.innerHTML = '';\n",
              "          dataTable['output_type'] = 'display_data';\n",
              "          await google.colab.output.renderOutput(dataTable, element);\n",
              "          const docLink = document.createElement('div');\n",
              "          docLink.innerHTML = docLinkHtml;\n",
              "          element.appendChild(docLink);\n",
              "        }\n",
              "      </script>\n",
              "    </div>\n",
              "  </div>\n",
              "  "
            ]
          },
          "metadata": {},
          "execution_count": 81
        }
      ]
    },
    {
      "cell_type": "code",
      "source": [
        "df.loc['b':'d']\n"
      ],
      "metadata": {
        "id": "Oztv-NIdWzX_",
        "colab": {
          "base_uri": "https://localhost:8080/",
          "height": 143
        },
        "outputId": "91e9b088-a398-419f-b19b-b2b9011480f1"
      },
      "execution_count": null,
      "outputs": [
        {
          "output_type": "execute_result",
          "data": {
            "text/plain": [
              "  Nombre Apellido   Equipo   Posición Status\n",
              "b   Raul  Jiménez   Wolves  Delantero      A\n",
              "c  Diego   Lainez    Braga  Delantero      A\n",
              "d   Memo    Ochoa  América    Portero      A"
            ],
            "text/html": [
              "\n",
              "  <div id=\"df-6abe7df4-3349-4af3-997a-c0aca2e1c106\">\n",
              "    <div class=\"colab-df-container\">\n",
              "      <div>\n",
              "<style scoped>\n",
              "    .dataframe tbody tr th:only-of-type {\n",
              "        vertical-align: middle;\n",
              "    }\n",
              "\n",
              "    .dataframe tbody tr th {\n",
              "        vertical-align: top;\n",
              "    }\n",
              "\n",
              "    .dataframe thead th {\n",
              "        text-align: right;\n",
              "    }\n",
              "</style>\n",
              "<table border=\"1\" class=\"dataframe\">\n",
              "  <thead>\n",
              "    <tr style=\"text-align: right;\">\n",
              "      <th></th>\n",
              "      <th>Nombre</th>\n",
              "      <th>Apellido</th>\n",
              "      <th>Equipo</th>\n",
              "      <th>Posición</th>\n",
              "      <th>Status</th>\n",
              "    </tr>\n",
              "  </thead>\n",
              "  <tbody>\n",
              "    <tr>\n",
              "      <th>b</th>\n",
              "      <td>Raul</td>\n",
              "      <td>Jiménez</td>\n",
              "      <td>Wolves</td>\n",
              "      <td>Delantero</td>\n",
              "      <td>A</td>\n",
              "    </tr>\n",
              "    <tr>\n",
              "      <th>c</th>\n",
              "      <td>Diego</td>\n",
              "      <td>Lainez</td>\n",
              "      <td>Braga</td>\n",
              "      <td>Delantero</td>\n",
              "      <td>A</td>\n",
              "    </tr>\n",
              "    <tr>\n",
              "      <th>d</th>\n",
              "      <td>Memo</td>\n",
              "      <td>Ochoa</td>\n",
              "      <td>América</td>\n",
              "      <td>Portero</td>\n",
              "      <td>A</td>\n",
              "    </tr>\n",
              "  </tbody>\n",
              "</table>\n",
              "</div>\n",
              "      <button class=\"colab-df-convert\" onclick=\"convertToInteractive('df-6abe7df4-3349-4af3-997a-c0aca2e1c106')\"\n",
              "              title=\"Convert this dataframe to an interactive table.\"\n",
              "              style=\"display:none;\">\n",
              "        \n",
              "  <svg xmlns=\"http://www.w3.org/2000/svg\" height=\"24px\"viewBox=\"0 0 24 24\"\n",
              "       width=\"24px\">\n",
              "    <path d=\"M0 0h24v24H0V0z\" fill=\"none\"/>\n",
              "    <path d=\"M18.56 5.44l.94 2.06.94-2.06 2.06-.94-2.06-.94-.94-2.06-.94 2.06-2.06.94zm-11 1L8.5 8.5l.94-2.06 2.06-.94-2.06-.94L8.5 2.5l-.94 2.06-2.06.94zm10 10l.94 2.06.94-2.06 2.06-.94-2.06-.94-.94-2.06-.94 2.06-2.06.94z\"/><path d=\"M17.41 7.96l-1.37-1.37c-.4-.4-.92-.59-1.43-.59-.52 0-1.04.2-1.43.59L10.3 9.45l-7.72 7.72c-.78.78-.78 2.05 0 2.83L4 21.41c.39.39.9.59 1.41.59.51 0 1.02-.2 1.41-.59l7.78-7.78 2.81-2.81c.8-.78.8-2.07 0-2.86zM5.41 20L4 18.59l7.72-7.72 1.47 1.35L5.41 20z\"/>\n",
              "  </svg>\n",
              "      </button>\n",
              "      \n",
              "  <style>\n",
              "    .colab-df-container {\n",
              "      display:flex;\n",
              "      flex-wrap:wrap;\n",
              "      gap: 12px;\n",
              "    }\n",
              "\n",
              "    .colab-df-convert {\n",
              "      background-color: #E8F0FE;\n",
              "      border: none;\n",
              "      border-radius: 50%;\n",
              "      cursor: pointer;\n",
              "      display: none;\n",
              "      fill: #1967D2;\n",
              "      height: 32px;\n",
              "      padding: 0 0 0 0;\n",
              "      width: 32px;\n",
              "    }\n",
              "\n",
              "    .colab-df-convert:hover {\n",
              "      background-color: #E2EBFA;\n",
              "      box-shadow: 0px 1px 2px rgba(60, 64, 67, 0.3), 0px 1px 3px 1px rgba(60, 64, 67, 0.15);\n",
              "      fill: #174EA6;\n",
              "    }\n",
              "\n",
              "    [theme=dark] .colab-df-convert {\n",
              "      background-color: #3B4455;\n",
              "      fill: #D2E3FC;\n",
              "    }\n",
              "\n",
              "    [theme=dark] .colab-df-convert:hover {\n",
              "      background-color: #434B5C;\n",
              "      box-shadow: 0px 1px 3px 1px rgba(0, 0, 0, 0.15);\n",
              "      filter: drop-shadow(0px 1px 2px rgba(0, 0, 0, 0.3));\n",
              "      fill: #FFFFFF;\n",
              "    }\n",
              "  </style>\n",
              "\n",
              "      <script>\n",
              "        const buttonEl =\n",
              "          document.querySelector('#df-6abe7df4-3349-4af3-997a-c0aca2e1c106 button.colab-df-convert');\n",
              "        buttonEl.style.display =\n",
              "          google.colab.kernel.accessAllowed ? 'block' : 'none';\n",
              "\n",
              "        async function convertToInteractive(key) {\n",
              "          const element = document.querySelector('#df-6abe7df4-3349-4af3-997a-c0aca2e1c106');\n",
              "          const dataTable =\n",
              "            await google.colab.kernel.invokeFunction('convertToInteractive',\n",
              "                                                     [key], {});\n",
              "          if (!dataTable) return;\n",
              "\n",
              "          const docLinkHtml = 'Like what you see? Visit the ' +\n",
              "            '<a target=\"_blank\" href=https://colab.research.google.com/notebooks/data_table.ipynb>data table notebook</a>'\n",
              "            + ' to learn more about interactive tables.';\n",
              "          element.innerHTML = '';\n",
              "          dataTable['output_type'] = 'display_data';\n",
              "          await google.colab.output.renderOutput(dataTable, element);\n",
              "          const docLink = document.createElement('div');\n",
              "          docLink.innerHTML = docLinkHtml;\n",
              "          element.appendChild(docLink);\n",
              "        }\n",
              "      </script>\n",
              "    </div>\n",
              "  </div>\n",
              "  "
            ]
          },
          "metadata": {},
          "execution_count": 82
        }
      ]
    },
    {
      "cell_type": "code",
      "source": [
        "df.loc['b', 'Posición']\n"
      ],
      "metadata": {
        "id": "QJ17ggwdW1Ik",
        "colab": {
          "base_uri": "https://localhost:8080/",
          "height": 36
        },
        "outputId": "21395651-0ae7-494d-dea2-da6fe9ec6d7d"
      },
      "execution_count": null,
      "outputs": [
        {
          "output_type": "execute_result",
          "data": {
            "text/plain": [
              "'Delantero'"
            ],
            "application/vnd.google.colaboratory.intrinsic+json": {
              "type": "string"
            }
          },
          "metadata": {},
          "execution_count": 83
        }
      ]
    },
    {
      "cell_type": "code",
      "source": [
        "df.loc[['b', 'c', 'd'], ['Nombre', 'Equipo']]\n"
      ],
      "metadata": {
        "id": "PA_YP7XBXB78",
        "colab": {
          "base_uri": "https://localhost:8080/",
          "height": 143
        },
        "outputId": "80e961d4-261b-41ec-98c3-9c47f756b637"
      },
      "execution_count": null,
      "outputs": [
        {
          "output_type": "execute_result",
          "data": {
            "text/plain": [
              "  Nombre   Equipo\n",
              "b   Raul   Wolves\n",
              "c  Diego    Braga\n",
              "d   Memo  América"
            ],
            "text/html": [
              "\n",
              "  <div id=\"df-99258c1f-10ba-40f1-ba29-fb6713708188\">\n",
              "    <div class=\"colab-df-container\">\n",
              "      <div>\n",
              "<style scoped>\n",
              "    .dataframe tbody tr th:only-of-type {\n",
              "        vertical-align: middle;\n",
              "    }\n",
              "\n",
              "    .dataframe tbody tr th {\n",
              "        vertical-align: top;\n",
              "    }\n",
              "\n",
              "    .dataframe thead th {\n",
              "        text-align: right;\n",
              "    }\n",
              "</style>\n",
              "<table border=\"1\" class=\"dataframe\">\n",
              "  <thead>\n",
              "    <tr style=\"text-align: right;\">\n",
              "      <th></th>\n",
              "      <th>Nombre</th>\n",
              "      <th>Equipo</th>\n",
              "    </tr>\n",
              "  </thead>\n",
              "  <tbody>\n",
              "    <tr>\n",
              "      <th>b</th>\n",
              "      <td>Raul</td>\n",
              "      <td>Wolves</td>\n",
              "    </tr>\n",
              "    <tr>\n",
              "      <th>c</th>\n",
              "      <td>Diego</td>\n",
              "      <td>Braga</td>\n",
              "    </tr>\n",
              "    <tr>\n",
              "      <th>d</th>\n",
              "      <td>Memo</td>\n",
              "      <td>América</td>\n",
              "    </tr>\n",
              "  </tbody>\n",
              "</table>\n",
              "</div>\n",
              "      <button class=\"colab-df-convert\" onclick=\"convertToInteractive('df-99258c1f-10ba-40f1-ba29-fb6713708188')\"\n",
              "              title=\"Convert this dataframe to an interactive table.\"\n",
              "              style=\"display:none;\">\n",
              "        \n",
              "  <svg xmlns=\"http://www.w3.org/2000/svg\" height=\"24px\"viewBox=\"0 0 24 24\"\n",
              "       width=\"24px\">\n",
              "    <path d=\"M0 0h24v24H0V0z\" fill=\"none\"/>\n",
              "    <path d=\"M18.56 5.44l.94 2.06.94-2.06 2.06-.94-2.06-.94-.94-2.06-.94 2.06-2.06.94zm-11 1L8.5 8.5l.94-2.06 2.06-.94-2.06-.94L8.5 2.5l-.94 2.06-2.06.94zm10 10l.94 2.06.94-2.06 2.06-.94-2.06-.94-.94-2.06-.94 2.06-2.06.94z\"/><path d=\"M17.41 7.96l-1.37-1.37c-.4-.4-.92-.59-1.43-.59-.52 0-1.04.2-1.43.59L10.3 9.45l-7.72 7.72c-.78.78-.78 2.05 0 2.83L4 21.41c.39.39.9.59 1.41.59.51 0 1.02-.2 1.41-.59l7.78-7.78 2.81-2.81c.8-.78.8-2.07 0-2.86zM5.41 20L4 18.59l7.72-7.72 1.47 1.35L5.41 20z\"/>\n",
              "  </svg>\n",
              "      </button>\n",
              "      \n",
              "  <style>\n",
              "    .colab-df-container {\n",
              "      display:flex;\n",
              "      flex-wrap:wrap;\n",
              "      gap: 12px;\n",
              "    }\n",
              "\n",
              "    .colab-df-convert {\n",
              "      background-color: #E8F0FE;\n",
              "      border: none;\n",
              "      border-radius: 50%;\n",
              "      cursor: pointer;\n",
              "      display: none;\n",
              "      fill: #1967D2;\n",
              "      height: 32px;\n",
              "      padding: 0 0 0 0;\n",
              "      width: 32px;\n",
              "    }\n",
              "\n",
              "    .colab-df-convert:hover {\n",
              "      background-color: #E2EBFA;\n",
              "      box-shadow: 0px 1px 2px rgba(60, 64, 67, 0.3), 0px 1px 3px 1px rgba(60, 64, 67, 0.15);\n",
              "      fill: #174EA6;\n",
              "    }\n",
              "\n",
              "    [theme=dark] .colab-df-convert {\n",
              "      background-color: #3B4455;\n",
              "      fill: #D2E3FC;\n",
              "    }\n",
              "\n",
              "    [theme=dark] .colab-df-convert:hover {\n",
              "      background-color: #434B5C;\n",
              "      box-shadow: 0px 1px 3px 1px rgba(0, 0, 0, 0.15);\n",
              "      filter: drop-shadow(0px 1px 2px rgba(0, 0, 0, 0.3));\n",
              "      fill: #FFFFFF;\n",
              "    }\n",
              "  </style>\n",
              "\n",
              "      <script>\n",
              "        const buttonEl =\n",
              "          document.querySelector('#df-99258c1f-10ba-40f1-ba29-fb6713708188 button.colab-df-convert');\n",
              "        buttonEl.style.display =\n",
              "          google.colab.kernel.accessAllowed ? 'block' : 'none';\n",
              "\n",
              "        async function convertToInteractive(key) {\n",
              "          const element = document.querySelector('#df-99258c1f-10ba-40f1-ba29-fb6713708188');\n",
              "          const dataTable =\n",
              "            await google.colab.kernel.invokeFunction('convertToInteractive',\n",
              "                                                     [key], {});\n",
              "          if (!dataTable) return;\n",
              "\n",
              "          const docLinkHtml = 'Like what you see? Visit the ' +\n",
              "            '<a target=\"_blank\" href=https://colab.research.google.com/notebooks/data_table.ipynb>data table notebook</a>'\n",
              "            + ' to learn more about interactive tables.';\n",
              "          element.innerHTML = '';\n",
              "          dataTable['output_type'] = 'display_data';\n",
              "          await google.colab.output.renderOutput(dataTable, element);\n",
              "          const docLink = document.createElement('div');\n",
              "          docLink.innerHTML = docLinkHtml;\n",
              "          element.appendChild(docLink);\n",
              "        }\n",
              "      </script>\n",
              "    </div>\n",
              "  </div>\n",
              "  "
            ]
          },
          "metadata": {},
          "execution_count": 87
        }
      ]
    },
    {
      "cell_type": "markdown",
      "source": [
        "**Manipulación de Columnas**"
      ],
      "metadata": {
        "id": "xQaVdrI4Xaek"
      }
    },
    {
      "cell_type": "code",
      "source": [
        "import numpy as np\n",
        "\n",
        "datos = {\n",
        "    \"Nombre\": [\"Marco\", \"Armando \", \"Juan\", \"Jimmy\", \"Lorenzo\", \"Saúl\" ],\n",
        "    \"Cereal favorito\": [\"Korn Floks\", \"Verdurinis\", \"Zumbaritas\", \"Diabetukis, Papá\", \"Fibra Máxima 3000\", \"Korn Flocks\"],\n",
        "    \"Hora del desayuno\": [\"11:00\", \"07:30\", \"07:00\", \"08:30\", \"09:30\", \"12:00\"]\n",
        "}\n"
      ],
      "metadata": {
        "id": "qQ4FMQioXc8Q"
      },
      "execution_count": null,
      "outputs": []
    },
    {
      "cell_type": "code",
      "source": [
        "datos['Edad'] = [32,45,19,23,56,89]\n",
        "datos"
      ],
      "metadata": {
        "colab": {
          "base_uri": "https://localhost:8080/"
        },
        "id": "AmmPANUQaPpA",
        "outputId": "c34270d8-265e-4e5c-992b-c4f215446af3"
      },
      "execution_count": null,
      "outputs": [
        {
          "output_type": "execute_result",
          "data": {
            "text/plain": [
              "{'Nombre': ['Marco', 'Armando ', 'Juan', 'Jimmy', 'Lorenzo', 'Saúl'],\n",
              " 'Cereal favorito': ['Korn Floks',\n",
              "  'Verdurinis',\n",
              "  'Zumbaritas',\n",
              "  'Diabetukis, Papá',\n",
              "  'Fibra Máxima 3000',\n",
              "  'Korn Flocks'],\n",
              " 'Hora del desayuno': ['11:00', '07:30', '07:00', '08:30', '09:30', '12:00'],\n",
              " 'Edad': [32, 45, 19, 23, 56, 89]}"
            ]
          },
          "metadata": {},
          "execution_count": 14
        }
      ]
    },
    {
      "cell_type": "code",
      "source": [
        "import pandas as pd"
      ],
      "metadata": {
        "id": "LllWP2z9ZdcY"
      },
      "execution_count": null,
      "outputs": []
    },
    {
      "cell_type": "code",
      "source": [
        "df = pd.DataFrame(datos)\n",
        "df"
      ],
      "metadata": {
        "colab": {
          "base_uri": "https://localhost:8080/",
          "height": 237
        },
        "id": "yaZMER9xZcRZ",
        "outputId": "a67fed39-e677-4abe-c64d-950807f16cf7"
      },
      "execution_count": null,
      "outputs": [
        {
          "output_type": "execute_result",
          "data": {
            "text/plain": [
              "     Nombre    Cereal favorito Hora del desayuno  Edad\n",
              "0     Marco         Korn Floks             11:00    32\n",
              "1  Armando          Verdurinis             07:30    45\n",
              "2      Juan         Zumbaritas             07:00    19\n",
              "3     Jimmy   Diabetukis, Papá             08:30    23\n",
              "4   Lorenzo  Fibra Máxima 3000             09:30    56\n",
              "5      Saúl        Korn Flocks             12:00    89"
            ],
            "text/html": [
              "\n",
              "  <div id=\"df-0a4b70d8-29c3-4e22-b4ad-e010e51d90bc\">\n",
              "    <div class=\"colab-df-container\">\n",
              "      <div>\n",
              "<style scoped>\n",
              "    .dataframe tbody tr th:only-of-type {\n",
              "        vertical-align: middle;\n",
              "    }\n",
              "\n",
              "    .dataframe tbody tr th {\n",
              "        vertical-align: top;\n",
              "    }\n",
              "\n",
              "    .dataframe thead th {\n",
              "        text-align: right;\n",
              "    }\n",
              "</style>\n",
              "<table border=\"1\" class=\"dataframe\">\n",
              "  <thead>\n",
              "    <tr style=\"text-align: right;\">\n",
              "      <th></th>\n",
              "      <th>Nombre</th>\n",
              "      <th>Cereal favorito</th>\n",
              "      <th>Hora del desayuno</th>\n",
              "      <th>Edad</th>\n",
              "    </tr>\n",
              "  </thead>\n",
              "  <tbody>\n",
              "    <tr>\n",
              "      <th>0</th>\n",
              "      <td>Marco</td>\n",
              "      <td>Korn Floks</td>\n",
              "      <td>11:00</td>\n",
              "      <td>32</td>\n",
              "    </tr>\n",
              "    <tr>\n",
              "      <th>1</th>\n",
              "      <td>Armando</td>\n",
              "      <td>Verdurinis</td>\n",
              "      <td>07:30</td>\n",
              "      <td>45</td>\n",
              "    </tr>\n",
              "    <tr>\n",
              "      <th>2</th>\n",
              "      <td>Juan</td>\n",
              "      <td>Zumbaritas</td>\n",
              "      <td>07:00</td>\n",
              "      <td>19</td>\n",
              "    </tr>\n",
              "    <tr>\n",
              "      <th>3</th>\n",
              "      <td>Jimmy</td>\n",
              "      <td>Diabetukis, Papá</td>\n",
              "      <td>08:30</td>\n",
              "      <td>23</td>\n",
              "    </tr>\n",
              "    <tr>\n",
              "      <th>4</th>\n",
              "      <td>Lorenzo</td>\n",
              "      <td>Fibra Máxima 3000</td>\n",
              "      <td>09:30</td>\n",
              "      <td>56</td>\n",
              "    </tr>\n",
              "    <tr>\n",
              "      <th>5</th>\n",
              "      <td>Saúl</td>\n",
              "      <td>Korn Flocks</td>\n",
              "      <td>12:00</td>\n",
              "      <td>89</td>\n",
              "    </tr>\n",
              "  </tbody>\n",
              "</table>\n",
              "</div>\n",
              "      <button class=\"colab-df-convert\" onclick=\"convertToInteractive('df-0a4b70d8-29c3-4e22-b4ad-e010e51d90bc')\"\n",
              "              title=\"Convert this dataframe to an interactive table.\"\n",
              "              style=\"display:none;\">\n",
              "        \n",
              "  <svg xmlns=\"http://www.w3.org/2000/svg\" height=\"24px\"viewBox=\"0 0 24 24\"\n",
              "       width=\"24px\">\n",
              "    <path d=\"M0 0h24v24H0V0z\" fill=\"none\"/>\n",
              "    <path d=\"M18.56 5.44l.94 2.06.94-2.06 2.06-.94-2.06-.94-.94-2.06-.94 2.06-2.06.94zm-11 1L8.5 8.5l.94-2.06 2.06-.94-2.06-.94L8.5 2.5l-.94 2.06-2.06.94zm10 10l.94 2.06.94-2.06 2.06-.94-2.06-.94-.94-2.06-.94 2.06-2.06.94z\"/><path d=\"M17.41 7.96l-1.37-1.37c-.4-.4-.92-.59-1.43-.59-.52 0-1.04.2-1.43.59L10.3 9.45l-7.72 7.72c-.78.78-.78 2.05 0 2.83L4 21.41c.39.39.9.59 1.41.59.51 0 1.02-.2 1.41-.59l7.78-7.78 2.81-2.81c.8-.78.8-2.07 0-2.86zM5.41 20L4 18.59l7.72-7.72 1.47 1.35L5.41 20z\"/>\n",
              "  </svg>\n",
              "      </button>\n",
              "      \n",
              "  <style>\n",
              "    .colab-df-container {\n",
              "      display:flex;\n",
              "      flex-wrap:wrap;\n",
              "      gap: 12px;\n",
              "    }\n",
              "\n",
              "    .colab-df-convert {\n",
              "      background-color: #E8F0FE;\n",
              "      border: none;\n",
              "      border-radius: 50%;\n",
              "      cursor: pointer;\n",
              "      display: none;\n",
              "      fill: #1967D2;\n",
              "      height: 32px;\n",
              "      padding: 0 0 0 0;\n",
              "      width: 32px;\n",
              "    }\n",
              "\n",
              "    .colab-df-convert:hover {\n",
              "      background-color: #E2EBFA;\n",
              "      box-shadow: 0px 1px 2px rgba(60, 64, 67, 0.3), 0px 1px 3px 1px rgba(60, 64, 67, 0.15);\n",
              "      fill: #174EA6;\n",
              "    }\n",
              "\n",
              "    [theme=dark] .colab-df-convert {\n",
              "      background-color: #3B4455;\n",
              "      fill: #D2E3FC;\n",
              "    }\n",
              "\n",
              "    [theme=dark] .colab-df-convert:hover {\n",
              "      background-color: #434B5C;\n",
              "      box-shadow: 0px 1px 3px 1px rgba(0, 0, 0, 0.15);\n",
              "      filter: drop-shadow(0px 1px 2px rgba(0, 0, 0, 0.3));\n",
              "      fill: #FFFFFF;\n",
              "    }\n",
              "  </style>\n",
              "\n",
              "      <script>\n",
              "        const buttonEl =\n",
              "          document.querySelector('#df-0a4b70d8-29c3-4e22-b4ad-e010e51d90bc button.colab-df-convert');\n",
              "        buttonEl.style.display =\n",
              "          google.colab.kernel.accessAllowed ? 'block' : 'none';\n",
              "\n",
              "        async function convertToInteractive(key) {\n",
              "          const element = document.querySelector('#df-0a4b70d8-29c3-4e22-b4ad-e010e51d90bc');\n",
              "          const dataTable =\n",
              "            await google.colab.kernel.invokeFunction('convertToInteractive',\n",
              "                                                     [key], {});\n",
              "          if (!dataTable) return;\n",
              "\n",
              "          const docLinkHtml = 'Like what you see? Visit the ' +\n",
              "            '<a target=\"_blank\" href=https://colab.research.google.com/notebooks/data_table.ipynb>data table notebook</a>'\n",
              "            + ' to learn more about interactive tables.';\n",
              "          element.innerHTML = '';\n",
              "          dataTable['output_type'] = 'display_data';\n",
              "          await google.colab.output.renderOutput(dataTable, element);\n",
              "          const docLink = document.createElement('div');\n",
              "          docLink.innerHTML = docLinkHtml;\n",
              "          element.appendChild(docLink);\n",
              "        }\n",
              "      </script>\n",
              "    </div>\n",
              "  </div>\n",
              "  "
            ]
          },
          "metadata": {},
          "execution_count": 15
        }
      ]
    },
    {
      "cell_type": "code",
      "source": [
        "datos[\"correo electronico\"] = [\"DSda@gmail.com\", \"dsjdhsj@gmail.com\", \"xsnds@gmail.com\", \"dsdsj@gmail.com\", \"hcjdf@gmail.com\", \"jdskds@gmail.com\"]"
      ],
      "metadata": {
        "id": "h34MtqIHYHjh"
      },
      "execution_count": null,
      "outputs": []
    },
    {
      "cell_type": "code",
      "source": [
        "datos[\"Nombre\"] = [\"Jose\", \"Jorge\", \"David\", \"Pao\", \"Mary\", \"Lore\"]"
      ],
      "metadata": {
        "id": "CuxZeWr_EZes"
      },
      "execution_count": null,
      "outputs": []
    },
    {
      "cell_type": "code",
      "source": [
        "datos[\"Fruta con la que acompaña el cereal\"] = ['Pera', 'Manzana', 'Plátano', 'Guayaba', 'Pizza', np.NAN]"
      ],
      "metadata": {
        "id": "rpdH3U-xGmAf"
      },
      "execution_count": null,
      "outputs": []
    },
    {
      "cell_type": "code",
      "source": [
        "df = pd.DataFrame(datos)\n",
        "df"
      ],
      "metadata": {
        "colab": {
          "base_uri": "https://localhost:8080/",
          "height": 237
        },
        "id": "-HoBsolbFcR5",
        "outputId": "6363e89c-c93e-45b5-cf36-80dbf807ca6d"
      },
      "execution_count": null,
      "outputs": [
        {
          "output_type": "execute_result",
          "data": {
            "text/plain": [
              "  Nombre    Cereal favorito Hora del desayuno  Edad correo electronico  \\\n",
              "0   Jose         Korn Floks             11:00    32     DSda@gmail.com   \n",
              "1  Jorge         Verdurinis             07:30    45  dsjdhsj@gmail.com   \n",
              "2  David         Zumbaritas             07:00    19    xsnds@gmail.com   \n",
              "3    Pao   Diabetukis, Papá             08:30    23    dsdsj@gmail.com   \n",
              "4   Mary  Fibra Máxima 3000             09:30    56    hcjdf@gmail.com   \n",
              "5   Lore        Korn Flocks             12:00    89   jdskds@gmail.com   \n",
              "\n",
              "  Fruta con la que acompaña el cereal  \n",
              "0                                Pera  \n",
              "1                             Manzana  \n",
              "2                             Plátano  \n",
              "3                             Guayaba  \n",
              "4                               Pizza  \n",
              "5                                 NaN  "
            ],
            "text/html": [
              "\n",
              "  <div id=\"df-de727cac-535d-43a5-9e85-d84f5a77b430\">\n",
              "    <div class=\"colab-df-container\">\n",
              "      <div>\n",
              "<style scoped>\n",
              "    .dataframe tbody tr th:only-of-type {\n",
              "        vertical-align: middle;\n",
              "    }\n",
              "\n",
              "    .dataframe tbody tr th {\n",
              "        vertical-align: top;\n",
              "    }\n",
              "\n",
              "    .dataframe thead th {\n",
              "        text-align: right;\n",
              "    }\n",
              "</style>\n",
              "<table border=\"1\" class=\"dataframe\">\n",
              "  <thead>\n",
              "    <tr style=\"text-align: right;\">\n",
              "      <th></th>\n",
              "      <th>Nombre</th>\n",
              "      <th>Cereal favorito</th>\n",
              "      <th>Hora del desayuno</th>\n",
              "      <th>Edad</th>\n",
              "      <th>correo electronico</th>\n",
              "      <th>Fruta con la que acompaña el cereal</th>\n",
              "    </tr>\n",
              "  </thead>\n",
              "  <tbody>\n",
              "    <tr>\n",
              "      <th>0</th>\n",
              "      <td>Jose</td>\n",
              "      <td>Korn Floks</td>\n",
              "      <td>11:00</td>\n",
              "      <td>32</td>\n",
              "      <td>DSda@gmail.com</td>\n",
              "      <td>Pera</td>\n",
              "    </tr>\n",
              "    <tr>\n",
              "      <th>1</th>\n",
              "      <td>Jorge</td>\n",
              "      <td>Verdurinis</td>\n",
              "      <td>07:30</td>\n",
              "      <td>45</td>\n",
              "      <td>dsjdhsj@gmail.com</td>\n",
              "      <td>Manzana</td>\n",
              "    </tr>\n",
              "    <tr>\n",
              "      <th>2</th>\n",
              "      <td>David</td>\n",
              "      <td>Zumbaritas</td>\n",
              "      <td>07:00</td>\n",
              "      <td>19</td>\n",
              "      <td>xsnds@gmail.com</td>\n",
              "      <td>Plátano</td>\n",
              "    </tr>\n",
              "    <tr>\n",
              "      <th>3</th>\n",
              "      <td>Pao</td>\n",
              "      <td>Diabetukis, Papá</td>\n",
              "      <td>08:30</td>\n",
              "      <td>23</td>\n",
              "      <td>dsdsj@gmail.com</td>\n",
              "      <td>Guayaba</td>\n",
              "    </tr>\n",
              "    <tr>\n",
              "      <th>4</th>\n",
              "      <td>Mary</td>\n",
              "      <td>Fibra Máxima 3000</td>\n",
              "      <td>09:30</td>\n",
              "      <td>56</td>\n",
              "      <td>hcjdf@gmail.com</td>\n",
              "      <td>Pizza</td>\n",
              "    </tr>\n",
              "    <tr>\n",
              "      <th>5</th>\n",
              "      <td>Lore</td>\n",
              "      <td>Korn Flocks</td>\n",
              "      <td>12:00</td>\n",
              "      <td>89</td>\n",
              "      <td>jdskds@gmail.com</td>\n",
              "      <td>NaN</td>\n",
              "    </tr>\n",
              "  </tbody>\n",
              "</table>\n",
              "</div>\n",
              "      <button class=\"colab-df-convert\" onclick=\"convertToInteractive('df-de727cac-535d-43a5-9e85-d84f5a77b430')\"\n",
              "              title=\"Convert this dataframe to an interactive table.\"\n",
              "              style=\"display:none;\">\n",
              "        \n",
              "  <svg xmlns=\"http://www.w3.org/2000/svg\" height=\"24px\"viewBox=\"0 0 24 24\"\n",
              "       width=\"24px\">\n",
              "    <path d=\"M0 0h24v24H0V0z\" fill=\"none\"/>\n",
              "    <path d=\"M18.56 5.44l.94 2.06.94-2.06 2.06-.94-2.06-.94-.94-2.06-.94 2.06-2.06.94zm-11 1L8.5 8.5l.94-2.06 2.06-.94-2.06-.94L8.5 2.5l-.94 2.06-2.06.94zm10 10l.94 2.06.94-2.06 2.06-.94-2.06-.94-.94-2.06-.94 2.06-2.06.94z\"/><path d=\"M17.41 7.96l-1.37-1.37c-.4-.4-.92-.59-1.43-.59-.52 0-1.04.2-1.43.59L10.3 9.45l-7.72 7.72c-.78.78-.78 2.05 0 2.83L4 21.41c.39.39.9.59 1.41.59.51 0 1.02-.2 1.41-.59l7.78-7.78 2.81-2.81c.8-.78.8-2.07 0-2.86zM5.41 20L4 18.59l7.72-7.72 1.47 1.35L5.41 20z\"/>\n",
              "  </svg>\n",
              "      </button>\n",
              "      \n",
              "  <style>\n",
              "    .colab-df-container {\n",
              "      display:flex;\n",
              "      flex-wrap:wrap;\n",
              "      gap: 12px;\n",
              "    }\n",
              "\n",
              "    .colab-df-convert {\n",
              "      background-color: #E8F0FE;\n",
              "      border: none;\n",
              "      border-radius: 50%;\n",
              "      cursor: pointer;\n",
              "      display: none;\n",
              "      fill: #1967D2;\n",
              "      height: 32px;\n",
              "      padding: 0 0 0 0;\n",
              "      width: 32px;\n",
              "    }\n",
              "\n",
              "    .colab-df-convert:hover {\n",
              "      background-color: #E2EBFA;\n",
              "      box-shadow: 0px 1px 2px rgba(60, 64, 67, 0.3), 0px 1px 3px 1px rgba(60, 64, 67, 0.15);\n",
              "      fill: #174EA6;\n",
              "    }\n",
              "\n",
              "    [theme=dark] .colab-df-convert {\n",
              "      background-color: #3B4455;\n",
              "      fill: #D2E3FC;\n",
              "    }\n",
              "\n",
              "    [theme=dark] .colab-df-convert:hover {\n",
              "      background-color: #434B5C;\n",
              "      box-shadow: 0px 1px 3px 1px rgba(0, 0, 0, 0.15);\n",
              "      filter: drop-shadow(0px 1px 2px rgba(0, 0, 0, 0.3));\n",
              "      fill: #FFFFFF;\n",
              "    }\n",
              "  </style>\n",
              "\n",
              "      <script>\n",
              "        const buttonEl =\n",
              "          document.querySelector('#df-de727cac-535d-43a5-9e85-d84f5a77b430 button.colab-df-convert');\n",
              "        buttonEl.style.display =\n",
              "          google.colab.kernel.accessAllowed ? 'block' : 'none';\n",
              "\n",
              "        async function convertToInteractive(key) {\n",
              "          const element = document.querySelector('#df-de727cac-535d-43a5-9e85-d84f5a77b430');\n",
              "          const dataTable =\n",
              "            await google.colab.kernel.invokeFunction('convertToInteractive',\n",
              "                                                     [key], {});\n",
              "          if (!dataTable) return;\n",
              "\n",
              "          const docLinkHtml = 'Like what you see? Visit the ' +\n",
              "            '<a target=\"_blank\" href=https://colab.research.google.com/notebooks/data_table.ipynb>data table notebook</a>'\n",
              "            + ' to learn more about interactive tables.';\n",
              "          element.innerHTML = '';\n",
              "          dataTable['output_type'] = 'display_data';\n",
              "          await google.colab.output.renderOutput(dataTable, element);\n",
              "          const docLink = document.createElement('div');\n",
              "          docLink.innerHTML = docLinkHtml;\n",
              "          element.appendChild(docLink);\n",
              "        }\n",
              "      </script>\n",
              "    </div>\n",
              "  </div>\n",
              "  "
            ]
          },
          "metadata": {},
          "execution_count": 19
        }
      ]
    },
    {
      "cell_type": "code",
      "source": [
        "df['Equipo Favorito'] = pd.Series(['Chivas', ' America', 'Pumas', 'Cruz Azul', 'Atlas', 'San Luis'])"
      ],
      "metadata": {
        "id": "3BQR72HKbXur"
      },
      "execution_count": null,
      "outputs": []
    },
    {
      "cell_type": "code",
      "source": [
        "df"
      ],
      "metadata": {
        "colab": {
          "base_uri": "https://localhost:8080/",
          "height": 237
        },
        "id": "L25rrap1buCJ",
        "outputId": "76f16408-b7fa-4fce-959e-c66976005ecf"
      },
      "execution_count": null,
      "outputs": [
        {
          "output_type": "execute_result",
          "data": {
            "text/plain": [
              "  Nombre    Cereal favorito Hora del desayuno  Edad correo electronico  \\\n",
              "0   Jose         Korn Floks             11:00    32     DSda@gmail.com   \n",
              "1  Jorge         Verdurinis             07:30    45  dsjdhsj@gmail.com   \n",
              "2  David         Zumbaritas             07:00    19    xsnds@gmail.com   \n",
              "3    Pao   Diabetukis, Papá             08:30    23    dsdsj@gmail.com   \n",
              "4   Mary  Fibra Máxima 3000             09:30    56    hcjdf@gmail.com   \n",
              "5   Lore        Korn Flocks             12:00    89   jdskds@gmail.com   \n",
              "\n",
              "  Fruta con la que acompaña el cereal Equipo Favorito  \n",
              "0                                Pera          Chivas  \n",
              "1                             Manzana         America  \n",
              "2                             Plátano           Pumas  \n",
              "3                             Guayaba       Cruz Azul  \n",
              "4                               Pizza           Atlas  \n",
              "5                                 NaN        San Luis  "
            ],
            "text/html": [
              "\n",
              "  <div id=\"df-70b853d4-cba7-47f9-9abc-750307805001\">\n",
              "    <div class=\"colab-df-container\">\n",
              "      <div>\n",
              "<style scoped>\n",
              "    .dataframe tbody tr th:only-of-type {\n",
              "        vertical-align: middle;\n",
              "    }\n",
              "\n",
              "    .dataframe tbody tr th {\n",
              "        vertical-align: top;\n",
              "    }\n",
              "\n",
              "    .dataframe thead th {\n",
              "        text-align: right;\n",
              "    }\n",
              "</style>\n",
              "<table border=\"1\" class=\"dataframe\">\n",
              "  <thead>\n",
              "    <tr style=\"text-align: right;\">\n",
              "      <th></th>\n",
              "      <th>Nombre</th>\n",
              "      <th>Cereal favorito</th>\n",
              "      <th>Hora del desayuno</th>\n",
              "      <th>Edad</th>\n",
              "      <th>correo electronico</th>\n",
              "      <th>Fruta con la que acompaña el cereal</th>\n",
              "      <th>Equipo Favorito</th>\n",
              "    </tr>\n",
              "  </thead>\n",
              "  <tbody>\n",
              "    <tr>\n",
              "      <th>0</th>\n",
              "      <td>Jose</td>\n",
              "      <td>Korn Floks</td>\n",
              "      <td>11:00</td>\n",
              "      <td>32</td>\n",
              "      <td>DSda@gmail.com</td>\n",
              "      <td>Pera</td>\n",
              "      <td>Chivas</td>\n",
              "    </tr>\n",
              "    <tr>\n",
              "      <th>1</th>\n",
              "      <td>Jorge</td>\n",
              "      <td>Verdurinis</td>\n",
              "      <td>07:30</td>\n",
              "      <td>45</td>\n",
              "      <td>dsjdhsj@gmail.com</td>\n",
              "      <td>Manzana</td>\n",
              "      <td>America</td>\n",
              "    </tr>\n",
              "    <tr>\n",
              "      <th>2</th>\n",
              "      <td>David</td>\n",
              "      <td>Zumbaritas</td>\n",
              "      <td>07:00</td>\n",
              "      <td>19</td>\n",
              "      <td>xsnds@gmail.com</td>\n",
              "      <td>Plátano</td>\n",
              "      <td>Pumas</td>\n",
              "    </tr>\n",
              "    <tr>\n",
              "      <th>3</th>\n",
              "      <td>Pao</td>\n",
              "      <td>Diabetukis, Papá</td>\n",
              "      <td>08:30</td>\n",
              "      <td>23</td>\n",
              "      <td>dsdsj@gmail.com</td>\n",
              "      <td>Guayaba</td>\n",
              "      <td>Cruz Azul</td>\n",
              "    </tr>\n",
              "    <tr>\n",
              "      <th>4</th>\n",
              "      <td>Mary</td>\n",
              "      <td>Fibra Máxima 3000</td>\n",
              "      <td>09:30</td>\n",
              "      <td>56</td>\n",
              "      <td>hcjdf@gmail.com</td>\n",
              "      <td>Pizza</td>\n",
              "      <td>Atlas</td>\n",
              "    </tr>\n",
              "    <tr>\n",
              "      <th>5</th>\n",
              "      <td>Lore</td>\n",
              "      <td>Korn Flocks</td>\n",
              "      <td>12:00</td>\n",
              "      <td>89</td>\n",
              "      <td>jdskds@gmail.com</td>\n",
              "      <td>NaN</td>\n",
              "      <td>San Luis</td>\n",
              "    </tr>\n",
              "  </tbody>\n",
              "</table>\n",
              "</div>\n",
              "      <button class=\"colab-df-convert\" onclick=\"convertToInteractive('df-70b853d4-cba7-47f9-9abc-750307805001')\"\n",
              "              title=\"Convert this dataframe to an interactive table.\"\n",
              "              style=\"display:none;\">\n",
              "        \n",
              "  <svg xmlns=\"http://www.w3.org/2000/svg\" height=\"24px\"viewBox=\"0 0 24 24\"\n",
              "       width=\"24px\">\n",
              "    <path d=\"M0 0h24v24H0V0z\" fill=\"none\"/>\n",
              "    <path d=\"M18.56 5.44l.94 2.06.94-2.06 2.06-.94-2.06-.94-.94-2.06-.94 2.06-2.06.94zm-11 1L8.5 8.5l.94-2.06 2.06-.94-2.06-.94L8.5 2.5l-.94 2.06-2.06.94zm10 10l.94 2.06.94-2.06 2.06-.94-2.06-.94-.94-2.06-.94 2.06-2.06.94z\"/><path d=\"M17.41 7.96l-1.37-1.37c-.4-.4-.92-.59-1.43-.59-.52 0-1.04.2-1.43.59L10.3 9.45l-7.72 7.72c-.78.78-.78 2.05 0 2.83L4 21.41c.39.39.9.59 1.41.59.51 0 1.02-.2 1.41-.59l7.78-7.78 2.81-2.81c.8-.78.8-2.07 0-2.86zM5.41 20L4 18.59l7.72-7.72 1.47 1.35L5.41 20z\"/>\n",
              "  </svg>\n",
              "      </button>\n",
              "      \n",
              "  <style>\n",
              "    .colab-df-container {\n",
              "      display:flex;\n",
              "      flex-wrap:wrap;\n",
              "      gap: 12px;\n",
              "    }\n",
              "\n",
              "    .colab-df-convert {\n",
              "      background-color: #E8F0FE;\n",
              "      border: none;\n",
              "      border-radius: 50%;\n",
              "      cursor: pointer;\n",
              "      display: none;\n",
              "      fill: #1967D2;\n",
              "      height: 32px;\n",
              "      padding: 0 0 0 0;\n",
              "      width: 32px;\n",
              "    }\n",
              "\n",
              "    .colab-df-convert:hover {\n",
              "      background-color: #E2EBFA;\n",
              "      box-shadow: 0px 1px 2px rgba(60, 64, 67, 0.3), 0px 1px 3px 1px rgba(60, 64, 67, 0.15);\n",
              "      fill: #174EA6;\n",
              "    }\n",
              "\n",
              "    [theme=dark] .colab-df-convert {\n",
              "      background-color: #3B4455;\n",
              "      fill: #D2E3FC;\n",
              "    }\n",
              "\n",
              "    [theme=dark] .colab-df-convert:hover {\n",
              "      background-color: #434B5C;\n",
              "      box-shadow: 0px 1px 3px 1px rgba(0, 0, 0, 0.15);\n",
              "      filter: drop-shadow(0px 1px 2px rgba(0, 0, 0, 0.3));\n",
              "      fill: #FFFFFF;\n",
              "    }\n",
              "  </style>\n",
              "\n",
              "      <script>\n",
              "        const buttonEl =\n",
              "          document.querySelector('#df-70b853d4-cba7-47f9-9abc-750307805001 button.colab-df-convert');\n",
              "        buttonEl.style.display =\n",
              "          google.colab.kernel.accessAllowed ? 'block' : 'none';\n",
              "\n",
              "        async function convertToInteractive(key) {\n",
              "          const element = document.querySelector('#df-70b853d4-cba7-47f9-9abc-750307805001');\n",
              "          const dataTable =\n",
              "            await google.colab.kernel.invokeFunction('convertToInteractive',\n",
              "                                                     [key], {});\n",
              "          if (!dataTable) return;\n",
              "\n",
              "          const docLinkHtml = 'Like what you see? Visit the ' +\n",
              "            '<a target=\"_blank\" href=https://colab.research.google.com/notebooks/data_table.ipynb>data table notebook</a>'\n",
              "            + ' to learn more about interactive tables.';\n",
              "          element.innerHTML = '';\n",
              "          dataTable['output_type'] = 'display_data';\n",
              "          await google.colab.output.renderOutput(dataTable, element);\n",
              "          const docLink = document.createElement('div');\n",
              "          docLink.innerHTML = docLinkHtml;\n",
              "          element.appendChild(docLink);\n",
              "        }\n",
              "      </script>\n",
              "    </div>\n",
              "  </div>\n",
              "  "
            ]
          },
          "metadata": {},
          "execution_count": 21
        }
      ]
    },
    {
      "cell_type": "code",
      "source": [
        "datos"
      ],
      "metadata": {
        "colab": {
          "base_uri": "https://localhost:8080/"
        },
        "id": "sVZBj3Cobzdt",
        "outputId": "21b17d95-8e78-478a-87b5-766729d0e4c8"
      },
      "execution_count": null,
      "outputs": [
        {
          "output_type": "execute_result",
          "data": {
            "text/plain": [
              "{'Nombre': ['Jose', 'Jorge', 'David', 'Pao', 'Mary', 'Lore'],\n",
              " 'Cereal favorito': ['Korn Floks',\n",
              "  'Verdurinis',\n",
              "  'Zumbaritas',\n",
              "  'Diabetukis, Papá',\n",
              "  'Fibra Máxima 3000',\n",
              "  'Korn Flocks'],\n",
              " 'Hora del desayuno': ['11:00', '07:30', '07:00', '08:30', '09:30', '12:00'],\n",
              " 'Edad': [32, 45, 19, 23, 56, 89],\n",
              " 'correo electronico': ['DSda@gmail.com',\n",
              "  'dsjdhsj@gmail.com',\n",
              "  'xsnds@gmail.com',\n",
              "  'dsdsj@gmail.com',\n",
              "  'hcjdf@gmail.com',\n",
              "  'jdskds@gmail.com'],\n",
              " 'Fruta con la que acompaña el cereal': ['Pera',\n",
              "  'Manzana',\n",
              "  'Plátano',\n",
              "  'Guayaba',\n",
              "  'Pizza',\n",
              "  nan]}"
            ]
          },
          "metadata": {},
          "execution_count": 22
        }
      ]
    },
    {
      "cell_type": "code",
      "source": [
        "df[\"Fruta con la que acompaña el cereal\"] = pd.Series(['Pera', 'Manzana', 'Plátano', 'Guayaba', 'Pizza', 'Guanabana'], index =[5,3,2,1,0,4])"
      ],
      "metadata": {
        "id": "CyAt4O2UF7xV"
      },
      "execution_count": null,
      "outputs": []
    },
    {
      "cell_type": "markdown",
      "source": [
        "Podemos agregar nuevas columnas a nuestros DataFrames con una sintaxis muy parecida a la de los diccionarios:\n",
        "\n"
      ],
      "metadata": {
        "id": "wTJP7TPvYKRW"
      }
    },
    {
      "cell_type": "code",
      "source": [
        "df[\"Fruta con la que acompaña el cereal\"] = pd.Series(['Pera', 'Manzana', 'Plátano', 'Guayaba', 'Pizza'])\n"
      ],
      "metadata": {
        "id": "I80DktxcYIYF"
      },
      "execution_count": null,
      "outputs": []
    },
    {
      "cell_type": "markdown",
      "source": [
        "Podemos usar la misma sintaxis para asignar una nueva Serie a una columna existente:\n",
        "\n"
      ],
      "metadata": {
        "id": "GLu7GUvtYvLQ"
      }
    },
    {
      "cell_type": "code",
      "source": [
        "df[\"Hora del desayuno\"] = pd.Series([\"10:30\", \"06:30\", \"06:00\", \"07:00\", \"08:00\", \"12:00\"])\n",
        "df"
      ],
      "metadata": {
        "id": "ObTKybV9YvUp",
        "colab": {
          "base_uri": "https://localhost:8080/",
          "height": 237
        },
        "outputId": "64e9c4c2-4c45-4391-d4be-a47af460526a"
      },
      "execution_count": null,
      "outputs": [
        {
          "output_type": "execute_result",
          "data": {
            "text/plain": [
              "  Nombre    Cereal favorito Hora del desayuno  Edad correo electronico  \\\n",
              "0   Jose         Korn Floks             10:30    32     DSda@gmail.com   \n",
              "1  Jorge         Verdurinis             06:30    45  dsjdhsj@gmail.com   \n",
              "2  David         Zumbaritas             06:00    19    xsnds@gmail.com   \n",
              "3    Pao   Diabetukis, Papá             07:00    23    dsdsj@gmail.com   \n",
              "4   Mary  Fibra Máxima 3000             08:00    56    hcjdf@gmail.com   \n",
              "5   Lore        Korn Flocks             12:00    89   jdskds@gmail.com   \n",
              "\n",
              "  Fruta con la que acompaña el cereal Equipo Favorito  \n",
              "0                                Pera          Chivas  \n",
              "1                             Manzana         America  \n",
              "2                             Plátano           Pumas  \n",
              "3                             Guayaba       Cruz Azul  \n",
              "4                               Pizza           Atlas  \n",
              "5                                 NaN        San Luis  "
            ],
            "text/html": [
              "\n",
              "  <div id=\"df-96c51e8b-131a-468e-b1f8-d37d3a98d57e\">\n",
              "    <div class=\"colab-df-container\">\n",
              "      <div>\n",
              "<style scoped>\n",
              "    .dataframe tbody tr th:only-of-type {\n",
              "        vertical-align: middle;\n",
              "    }\n",
              "\n",
              "    .dataframe tbody tr th {\n",
              "        vertical-align: top;\n",
              "    }\n",
              "\n",
              "    .dataframe thead th {\n",
              "        text-align: right;\n",
              "    }\n",
              "</style>\n",
              "<table border=\"1\" class=\"dataframe\">\n",
              "  <thead>\n",
              "    <tr style=\"text-align: right;\">\n",
              "      <th></th>\n",
              "      <th>Nombre</th>\n",
              "      <th>Cereal favorito</th>\n",
              "      <th>Hora del desayuno</th>\n",
              "      <th>Edad</th>\n",
              "      <th>correo electronico</th>\n",
              "      <th>Fruta con la que acompaña el cereal</th>\n",
              "      <th>Equipo Favorito</th>\n",
              "    </tr>\n",
              "  </thead>\n",
              "  <tbody>\n",
              "    <tr>\n",
              "      <th>0</th>\n",
              "      <td>Jose</td>\n",
              "      <td>Korn Floks</td>\n",
              "      <td>10:30</td>\n",
              "      <td>32</td>\n",
              "      <td>DSda@gmail.com</td>\n",
              "      <td>Pera</td>\n",
              "      <td>Chivas</td>\n",
              "    </tr>\n",
              "    <tr>\n",
              "      <th>1</th>\n",
              "      <td>Jorge</td>\n",
              "      <td>Verdurinis</td>\n",
              "      <td>06:30</td>\n",
              "      <td>45</td>\n",
              "      <td>dsjdhsj@gmail.com</td>\n",
              "      <td>Manzana</td>\n",
              "      <td>America</td>\n",
              "    </tr>\n",
              "    <tr>\n",
              "      <th>2</th>\n",
              "      <td>David</td>\n",
              "      <td>Zumbaritas</td>\n",
              "      <td>06:00</td>\n",
              "      <td>19</td>\n",
              "      <td>xsnds@gmail.com</td>\n",
              "      <td>Plátano</td>\n",
              "      <td>Pumas</td>\n",
              "    </tr>\n",
              "    <tr>\n",
              "      <th>3</th>\n",
              "      <td>Pao</td>\n",
              "      <td>Diabetukis, Papá</td>\n",
              "      <td>07:00</td>\n",
              "      <td>23</td>\n",
              "      <td>dsdsj@gmail.com</td>\n",
              "      <td>Guayaba</td>\n",
              "      <td>Cruz Azul</td>\n",
              "    </tr>\n",
              "    <tr>\n",
              "      <th>4</th>\n",
              "      <td>Mary</td>\n",
              "      <td>Fibra Máxima 3000</td>\n",
              "      <td>08:00</td>\n",
              "      <td>56</td>\n",
              "      <td>hcjdf@gmail.com</td>\n",
              "      <td>Pizza</td>\n",
              "      <td>Atlas</td>\n",
              "    </tr>\n",
              "    <tr>\n",
              "      <th>5</th>\n",
              "      <td>Lore</td>\n",
              "      <td>Korn Flocks</td>\n",
              "      <td>12:00</td>\n",
              "      <td>89</td>\n",
              "      <td>jdskds@gmail.com</td>\n",
              "      <td>NaN</td>\n",
              "      <td>San Luis</td>\n",
              "    </tr>\n",
              "  </tbody>\n",
              "</table>\n",
              "</div>\n",
              "      <button class=\"colab-df-convert\" onclick=\"convertToInteractive('df-96c51e8b-131a-468e-b1f8-d37d3a98d57e')\"\n",
              "              title=\"Convert this dataframe to an interactive table.\"\n",
              "              style=\"display:none;\">\n",
              "        \n",
              "  <svg xmlns=\"http://www.w3.org/2000/svg\" height=\"24px\"viewBox=\"0 0 24 24\"\n",
              "       width=\"24px\">\n",
              "    <path d=\"M0 0h24v24H0V0z\" fill=\"none\"/>\n",
              "    <path d=\"M18.56 5.44l.94 2.06.94-2.06 2.06-.94-2.06-.94-.94-2.06-.94 2.06-2.06.94zm-11 1L8.5 8.5l.94-2.06 2.06-.94-2.06-.94L8.5 2.5l-.94 2.06-2.06.94zm10 10l.94 2.06.94-2.06 2.06-.94-2.06-.94-.94-2.06-.94 2.06-2.06.94z\"/><path d=\"M17.41 7.96l-1.37-1.37c-.4-.4-.92-.59-1.43-.59-.52 0-1.04.2-1.43.59L10.3 9.45l-7.72 7.72c-.78.78-.78 2.05 0 2.83L4 21.41c.39.39.9.59 1.41.59.51 0 1.02-.2 1.41-.59l7.78-7.78 2.81-2.81c.8-.78.8-2.07 0-2.86zM5.41 20L4 18.59l7.72-7.72 1.47 1.35L5.41 20z\"/>\n",
              "  </svg>\n",
              "      </button>\n",
              "      \n",
              "  <style>\n",
              "    .colab-df-container {\n",
              "      display:flex;\n",
              "      flex-wrap:wrap;\n",
              "      gap: 12px;\n",
              "    }\n",
              "\n",
              "    .colab-df-convert {\n",
              "      background-color: #E8F0FE;\n",
              "      border: none;\n",
              "      border-radius: 50%;\n",
              "      cursor: pointer;\n",
              "      display: none;\n",
              "      fill: #1967D2;\n",
              "      height: 32px;\n",
              "      padding: 0 0 0 0;\n",
              "      width: 32px;\n",
              "    }\n",
              "\n",
              "    .colab-df-convert:hover {\n",
              "      background-color: #E2EBFA;\n",
              "      box-shadow: 0px 1px 2px rgba(60, 64, 67, 0.3), 0px 1px 3px 1px rgba(60, 64, 67, 0.15);\n",
              "      fill: #174EA6;\n",
              "    }\n",
              "\n",
              "    [theme=dark] .colab-df-convert {\n",
              "      background-color: #3B4455;\n",
              "      fill: #D2E3FC;\n",
              "    }\n",
              "\n",
              "    [theme=dark] .colab-df-convert:hover {\n",
              "      background-color: #434B5C;\n",
              "      box-shadow: 0px 1px 3px 1px rgba(0, 0, 0, 0.15);\n",
              "      filter: drop-shadow(0px 1px 2px rgba(0, 0, 0, 0.3));\n",
              "      fill: #FFFFFF;\n",
              "    }\n",
              "  </style>\n",
              "\n",
              "      <script>\n",
              "        const buttonEl =\n",
              "          document.querySelector('#df-96c51e8b-131a-468e-b1f8-d37d3a98d57e button.colab-df-convert');\n",
              "        buttonEl.style.display =\n",
              "          google.colab.kernel.accessAllowed ? 'block' : 'none';\n",
              "\n",
              "        async function convertToInteractive(key) {\n",
              "          const element = document.querySelector('#df-96c51e8b-131a-468e-b1f8-d37d3a98d57e');\n",
              "          const dataTable =\n",
              "            await google.colab.kernel.invokeFunction('convertToInteractive',\n",
              "                                                     [key], {});\n",
              "          if (!dataTable) return;\n",
              "\n",
              "          const docLinkHtml = 'Like what you see? Visit the ' +\n",
              "            '<a target=\"_blank\" href=https://colab.research.google.com/notebooks/data_table.ipynb>data table notebook</a>'\n",
              "            + ' to learn more about interactive tables.';\n",
              "          element.innerHTML = '';\n",
              "          dataTable['output_type'] = 'display_data';\n",
              "          await google.colab.output.renderOutput(dataTable, element);\n",
              "          const docLink = document.createElement('div');\n",
              "          docLink.innerHTML = docLinkHtml;\n",
              "          element.appendChild(docLink);\n",
              "        }\n",
              "      </script>\n",
              "    </div>\n",
              "  </div>\n",
              "  "
            ]
          },
          "metadata": {},
          "execution_count": 24
        }
      ]
    },
    {
      "cell_type": "markdown",
      "source": [
        "También podemos eliminar una columna usando el siguiente método:\n",
        "\n"
      ],
      "metadata": {
        "id": "aEe9cqE6Y0ze"
      }
    },
    {
      "cell_type": "markdown",
      "source": [
        "Recuerda que estos métodos sólo regresan \"vistas\". Para que el cambio permanezca, tenemos que asignar el resultado de la operación a la variable df o a alguna otra variable:"
      ],
      "metadata": {
        "id": "ra-UANcUY6ej"
      }
    },
    {
      "cell_type": "code",
      "source": [
        "df_dropped = df.drop(columns=['Fruta con la que acompaña el cereal'])\n",
        "\n",
        "df"
      ],
      "metadata": {
        "id": "mXHBaYlgY96v",
        "colab": {
          "base_uri": "https://localhost:8080/",
          "height": 237
        },
        "outputId": "a6bee94c-1ae6-4747-8331-f1c625a600ec"
      },
      "execution_count": null,
      "outputs": [
        {
          "output_type": "execute_result",
          "data": {
            "text/plain": [
              "  Nombre    Cereal favorito Hora del desayuno  Edad correo electronico  \\\n",
              "0   Jose         Korn Floks             10:30    32     DSda@gmail.com   \n",
              "1  Jorge         Verdurinis             06:30    45  dsjdhsj@gmail.com   \n",
              "2  David         Zumbaritas             06:00    19    xsnds@gmail.com   \n",
              "3    Pao   Diabetukis, Papá             07:00    23    dsdsj@gmail.com   \n",
              "4   Mary  Fibra Máxima 3000             08:00    56    hcjdf@gmail.com   \n",
              "5   Lore        Korn Flocks             12:00    89   jdskds@gmail.com   \n",
              "\n",
              "  Fruta con la que acompaña el cereal Equipo Favorito  \n",
              "0                                Pera          Chivas  \n",
              "1                             Manzana         America  \n",
              "2                             Plátano           Pumas  \n",
              "3                             Guayaba       Cruz Azul  \n",
              "4                               Pizza           Atlas  \n",
              "5                                 NaN        San Luis  "
            ],
            "text/html": [
              "\n",
              "  <div id=\"df-23d9042e-4acb-49f8-b6aa-5be0ba7c46be\">\n",
              "    <div class=\"colab-df-container\">\n",
              "      <div>\n",
              "<style scoped>\n",
              "    .dataframe tbody tr th:only-of-type {\n",
              "        vertical-align: middle;\n",
              "    }\n",
              "\n",
              "    .dataframe tbody tr th {\n",
              "        vertical-align: top;\n",
              "    }\n",
              "\n",
              "    .dataframe thead th {\n",
              "        text-align: right;\n",
              "    }\n",
              "</style>\n",
              "<table border=\"1\" class=\"dataframe\">\n",
              "  <thead>\n",
              "    <tr style=\"text-align: right;\">\n",
              "      <th></th>\n",
              "      <th>Nombre</th>\n",
              "      <th>Cereal favorito</th>\n",
              "      <th>Hora del desayuno</th>\n",
              "      <th>Edad</th>\n",
              "      <th>correo electronico</th>\n",
              "      <th>Fruta con la que acompaña el cereal</th>\n",
              "      <th>Equipo Favorito</th>\n",
              "    </tr>\n",
              "  </thead>\n",
              "  <tbody>\n",
              "    <tr>\n",
              "      <th>0</th>\n",
              "      <td>Jose</td>\n",
              "      <td>Korn Floks</td>\n",
              "      <td>10:30</td>\n",
              "      <td>32</td>\n",
              "      <td>DSda@gmail.com</td>\n",
              "      <td>Pera</td>\n",
              "      <td>Chivas</td>\n",
              "    </tr>\n",
              "    <tr>\n",
              "      <th>1</th>\n",
              "      <td>Jorge</td>\n",
              "      <td>Verdurinis</td>\n",
              "      <td>06:30</td>\n",
              "      <td>45</td>\n",
              "      <td>dsjdhsj@gmail.com</td>\n",
              "      <td>Manzana</td>\n",
              "      <td>America</td>\n",
              "    </tr>\n",
              "    <tr>\n",
              "      <th>2</th>\n",
              "      <td>David</td>\n",
              "      <td>Zumbaritas</td>\n",
              "      <td>06:00</td>\n",
              "      <td>19</td>\n",
              "      <td>xsnds@gmail.com</td>\n",
              "      <td>Plátano</td>\n",
              "      <td>Pumas</td>\n",
              "    </tr>\n",
              "    <tr>\n",
              "      <th>3</th>\n",
              "      <td>Pao</td>\n",
              "      <td>Diabetukis, Papá</td>\n",
              "      <td>07:00</td>\n",
              "      <td>23</td>\n",
              "      <td>dsdsj@gmail.com</td>\n",
              "      <td>Guayaba</td>\n",
              "      <td>Cruz Azul</td>\n",
              "    </tr>\n",
              "    <tr>\n",
              "      <th>4</th>\n",
              "      <td>Mary</td>\n",
              "      <td>Fibra Máxima 3000</td>\n",
              "      <td>08:00</td>\n",
              "      <td>56</td>\n",
              "      <td>hcjdf@gmail.com</td>\n",
              "      <td>Pizza</td>\n",
              "      <td>Atlas</td>\n",
              "    </tr>\n",
              "    <tr>\n",
              "      <th>5</th>\n",
              "      <td>Lore</td>\n",
              "      <td>Korn Flocks</td>\n",
              "      <td>12:00</td>\n",
              "      <td>89</td>\n",
              "      <td>jdskds@gmail.com</td>\n",
              "      <td>NaN</td>\n",
              "      <td>San Luis</td>\n",
              "    </tr>\n",
              "  </tbody>\n",
              "</table>\n",
              "</div>\n",
              "      <button class=\"colab-df-convert\" onclick=\"convertToInteractive('df-23d9042e-4acb-49f8-b6aa-5be0ba7c46be')\"\n",
              "              title=\"Convert this dataframe to an interactive table.\"\n",
              "              style=\"display:none;\">\n",
              "        \n",
              "  <svg xmlns=\"http://www.w3.org/2000/svg\" height=\"24px\"viewBox=\"0 0 24 24\"\n",
              "       width=\"24px\">\n",
              "    <path d=\"M0 0h24v24H0V0z\" fill=\"none\"/>\n",
              "    <path d=\"M18.56 5.44l.94 2.06.94-2.06 2.06-.94-2.06-.94-.94-2.06-.94 2.06-2.06.94zm-11 1L8.5 8.5l.94-2.06 2.06-.94-2.06-.94L8.5 2.5l-.94 2.06-2.06.94zm10 10l.94 2.06.94-2.06 2.06-.94-2.06-.94-.94-2.06-.94 2.06-2.06.94z\"/><path d=\"M17.41 7.96l-1.37-1.37c-.4-.4-.92-.59-1.43-.59-.52 0-1.04.2-1.43.59L10.3 9.45l-7.72 7.72c-.78.78-.78 2.05 0 2.83L4 21.41c.39.39.9.59 1.41.59.51 0 1.02-.2 1.41-.59l7.78-7.78 2.81-2.81c.8-.78.8-2.07 0-2.86zM5.41 20L4 18.59l7.72-7.72 1.47 1.35L5.41 20z\"/>\n",
              "  </svg>\n",
              "      </button>\n",
              "      \n",
              "  <style>\n",
              "    .colab-df-container {\n",
              "      display:flex;\n",
              "      flex-wrap:wrap;\n",
              "      gap: 12px;\n",
              "    }\n",
              "\n",
              "    .colab-df-convert {\n",
              "      background-color: #E8F0FE;\n",
              "      border: none;\n",
              "      border-radius: 50%;\n",
              "      cursor: pointer;\n",
              "      display: none;\n",
              "      fill: #1967D2;\n",
              "      height: 32px;\n",
              "      padding: 0 0 0 0;\n",
              "      width: 32px;\n",
              "    }\n",
              "\n",
              "    .colab-df-convert:hover {\n",
              "      background-color: #E2EBFA;\n",
              "      box-shadow: 0px 1px 2px rgba(60, 64, 67, 0.3), 0px 1px 3px 1px rgba(60, 64, 67, 0.15);\n",
              "      fill: #174EA6;\n",
              "    }\n",
              "\n",
              "    [theme=dark] .colab-df-convert {\n",
              "      background-color: #3B4455;\n",
              "      fill: #D2E3FC;\n",
              "    }\n",
              "\n",
              "    [theme=dark] .colab-df-convert:hover {\n",
              "      background-color: #434B5C;\n",
              "      box-shadow: 0px 1px 3px 1px rgba(0, 0, 0, 0.15);\n",
              "      filter: drop-shadow(0px 1px 2px rgba(0, 0, 0, 0.3));\n",
              "      fill: #FFFFFF;\n",
              "    }\n",
              "  </style>\n",
              "\n",
              "      <script>\n",
              "        const buttonEl =\n",
              "          document.querySelector('#df-23d9042e-4acb-49f8-b6aa-5be0ba7c46be button.colab-df-convert');\n",
              "        buttonEl.style.display =\n",
              "          google.colab.kernel.accessAllowed ? 'block' : 'none';\n",
              "\n",
              "        async function convertToInteractive(key) {\n",
              "          const element = document.querySelector('#df-23d9042e-4acb-49f8-b6aa-5be0ba7c46be');\n",
              "          const dataTable =\n",
              "            await google.colab.kernel.invokeFunction('convertToInteractive',\n",
              "                                                     [key], {});\n",
              "          if (!dataTable) return;\n",
              "\n",
              "          const docLinkHtml = 'Like what you see? Visit the ' +\n",
              "            '<a target=\"_blank\" href=https://colab.research.google.com/notebooks/data_table.ipynb>data table notebook</a>'\n",
              "            + ' to learn more about interactive tables.';\n",
              "          element.innerHTML = '';\n",
              "          dataTable['output_type'] = 'display_data';\n",
              "          await google.colab.output.renderOutput(dataTable, element);\n",
              "          const docLink = document.createElement('div');\n",
              "          docLink.innerHTML = docLinkHtml;\n",
              "          element.appendChild(docLink);\n",
              "        }\n",
              "      </script>\n",
              "    </div>\n",
              "  </div>\n",
              "  "
            ]
          },
          "metadata": {},
          "execution_count": 25
        }
      ]
    },
    {
      "cell_type": "code",
      "source": [
        "df_dropped\n"
      ],
      "metadata": {
        "id": "LXcfuAZ6Y-kA",
        "colab": {
          "base_uri": "https://localhost:8080/",
          "height": 237
        },
        "outputId": "6f87f934-deb1-4990-b06b-1bedde4ba2a0"
      },
      "execution_count": null,
      "outputs": [
        {
          "output_type": "execute_result",
          "data": {
            "text/plain": [
              "  Nombre    Cereal favorito Hora del desayuno  Edad correo electronico  \\\n",
              "0   Jose         Korn Floks             10:30    32     DSda@gmail.com   \n",
              "1  Jorge         Verdurinis             06:30    45  dsjdhsj@gmail.com   \n",
              "2  David         Zumbaritas             06:00    19    xsnds@gmail.com   \n",
              "3    Pao   Diabetukis, Papá             07:00    23    dsdsj@gmail.com   \n",
              "4   Mary  Fibra Máxima 3000             08:00    56    hcjdf@gmail.com   \n",
              "5   Lore        Korn Flocks             12:00    89   jdskds@gmail.com   \n",
              "\n",
              "  Equipo Favorito  \n",
              "0          Chivas  \n",
              "1         America  \n",
              "2           Pumas  \n",
              "3       Cruz Azul  \n",
              "4           Atlas  \n",
              "5        San Luis  "
            ],
            "text/html": [
              "\n",
              "  <div id=\"df-611da05b-4d7a-488a-b740-571921ceff90\">\n",
              "    <div class=\"colab-df-container\">\n",
              "      <div>\n",
              "<style scoped>\n",
              "    .dataframe tbody tr th:only-of-type {\n",
              "        vertical-align: middle;\n",
              "    }\n",
              "\n",
              "    .dataframe tbody tr th {\n",
              "        vertical-align: top;\n",
              "    }\n",
              "\n",
              "    .dataframe thead th {\n",
              "        text-align: right;\n",
              "    }\n",
              "</style>\n",
              "<table border=\"1\" class=\"dataframe\">\n",
              "  <thead>\n",
              "    <tr style=\"text-align: right;\">\n",
              "      <th></th>\n",
              "      <th>Nombre</th>\n",
              "      <th>Cereal favorito</th>\n",
              "      <th>Hora del desayuno</th>\n",
              "      <th>Edad</th>\n",
              "      <th>correo electronico</th>\n",
              "      <th>Equipo Favorito</th>\n",
              "    </tr>\n",
              "  </thead>\n",
              "  <tbody>\n",
              "    <tr>\n",
              "      <th>0</th>\n",
              "      <td>Jose</td>\n",
              "      <td>Korn Floks</td>\n",
              "      <td>10:30</td>\n",
              "      <td>32</td>\n",
              "      <td>DSda@gmail.com</td>\n",
              "      <td>Chivas</td>\n",
              "    </tr>\n",
              "    <tr>\n",
              "      <th>1</th>\n",
              "      <td>Jorge</td>\n",
              "      <td>Verdurinis</td>\n",
              "      <td>06:30</td>\n",
              "      <td>45</td>\n",
              "      <td>dsjdhsj@gmail.com</td>\n",
              "      <td>America</td>\n",
              "    </tr>\n",
              "    <tr>\n",
              "      <th>2</th>\n",
              "      <td>David</td>\n",
              "      <td>Zumbaritas</td>\n",
              "      <td>06:00</td>\n",
              "      <td>19</td>\n",
              "      <td>xsnds@gmail.com</td>\n",
              "      <td>Pumas</td>\n",
              "    </tr>\n",
              "    <tr>\n",
              "      <th>3</th>\n",
              "      <td>Pao</td>\n",
              "      <td>Diabetukis, Papá</td>\n",
              "      <td>07:00</td>\n",
              "      <td>23</td>\n",
              "      <td>dsdsj@gmail.com</td>\n",
              "      <td>Cruz Azul</td>\n",
              "    </tr>\n",
              "    <tr>\n",
              "      <th>4</th>\n",
              "      <td>Mary</td>\n",
              "      <td>Fibra Máxima 3000</td>\n",
              "      <td>08:00</td>\n",
              "      <td>56</td>\n",
              "      <td>hcjdf@gmail.com</td>\n",
              "      <td>Atlas</td>\n",
              "    </tr>\n",
              "    <tr>\n",
              "      <th>5</th>\n",
              "      <td>Lore</td>\n",
              "      <td>Korn Flocks</td>\n",
              "      <td>12:00</td>\n",
              "      <td>89</td>\n",
              "      <td>jdskds@gmail.com</td>\n",
              "      <td>San Luis</td>\n",
              "    </tr>\n",
              "  </tbody>\n",
              "</table>\n",
              "</div>\n",
              "      <button class=\"colab-df-convert\" onclick=\"convertToInteractive('df-611da05b-4d7a-488a-b740-571921ceff90')\"\n",
              "              title=\"Convert this dataframe to an interactive table.\"\n",
              "              style=\"display:none;\">\n",
              "        \n",
              "  <svg xmlns=\"http://www.w3.org/2000/svg\" height=\"24px\"viewBox=\"0 0 24 24\"\n",
              "       width=\"24px\">\n",
              "    <path d=\"M0 0h24v24H0V0z\" fill=\"none\"/>\n",
              "    <path d=\"M18.56 5.44l.94 2.06.94-2.06 2.06-.94-2.06-.94-.94-2.06-.94 2.06-2.06.94zm-11 1L8.5 8.5l.94-2.06 2.06-.94-2.06-.94L8.5 2.5l-.94 2.06-2.06.94zm10 10l.94 2.06.94-2.06 2.06-.94-2.06-.94-.94-2.06-.94 2.06-2.06.94z\"/><path d=\"M17.41 7.96l-1.37-1.37c-.4-.4-.92-.59-1.43-.59-.52 0-1.04.2-1.43.59L10.3 9.45l-7.72 7.72c-.78.78-.78 2.05 0 2.83L4 21.41c.39.39.9.59 1.41.59.51 0 1.02-.2 1.41-.59l7.78-7.78 2.81-2.81c.8-.78.8-2.07 0-2.86zM5.41 20L4 18.59l7.72-7.72 1.47 1.35L5.41 20z\"/>\n",
              "  </svg>\n",
              "      </button>\n",
              "      \n",
              "  <style>\n",
              "    .colab-df-container {\n",
              "      display:flex;\n",
              "      flex-wrap:wrap;\n",
              "      gap: 12px;\n",
              "    }\n",
              "\n",
              "    .colab-df-convert {\n",
              "      background-color: #E8F0FE;\n",
              "      border: none;\n",
              "      border-radius: 50%;\n",
              "      cursor: pointer;\n",
              "      display: none;\n",
              "      fill: #1967D2;\n",
              "      height: 32px;\n",
              "      padding: 0 0 0 0;\n",
              "      width: 32px;\n",
              "    }\n",
              "\n",
              "    .colab-df-convert:hover {\n",
              "      background-color: #E2EBFA;\n",
              "      box-shadow: 0px 1px 2px rgba(60, 64, 67, 0.3), 0px 1px 3px 1px rgba(60, 64, 67, 0.15);\n",
              "      fill: #174EA6;\n",
              "    }\n",
              "\n",
              "    [theme=dark] .colab-df-convert {\n",
              "      background-color: #3B4455;\n",
              "      fill: #D2E3FC;\n",
              "    }\n",
              "\n",
              "    [theme=dark] .colab-df-convert:hover {\n",
              "      background-color: #434B5C;\n",
              "      box-shadow: 0px 1px 3px 1px rgba(0, 0, 0, 0.15);\n",
              "      filter: drop-shadow(0px 1px 2px rgba(0, 0, 0, 0.3));\n",
              "      fill: #FFFFFF;\n",
              "    }\n",
              "  </style>\n",
              "\n",
              "      <script>\n",
              "        const buttonEl =\n",
              "          document.querySelector('#df-611da05b-4d7a-488a-b740-571921ceff90 button.colab-df-convert');\n",
              "        buttonEl.style.display =\n",
              "          google.colab.kernel.accessAllowed ? 'block' : 'none';\n",
              "\n",
              "        async function convertToInteractive(key) {\n",
              "          const element = document.querySelector('#df-611da05b-4d7a-488a-b740-571921ceff90');\n",
              "          const dataTable =\n",
              "            await google.colab.kernel.invokeFunction('convertToInteractive',\n",
              "                                                     [key], {});\n",
              "          if (!dataTable) return;\n",
              "\n",
              "          const docLinkHtml = 'Like what you see? Visit the ' +\n",
              "            '<a target=\"_blank\" href=https://colab.research.google.com/notebooks/data_table.ipynb>data table notebook</a>'\n",
              "            + ' to learn more about interactive tables.';\n",
              "          element.innerHTML = '';\n",
              "          dataTable['output_type'] = 'display_data';\n",
              "          await google.colab.output.renderOutput(dataTable, element);\n",
              "          const docLink = document.createElement('div');\n",
              "          docLink.innerHTML = docLinkHtml;\n",
              "          element.appendChild(docLink);\n",
              "        }\n",
              "      </script>\n",
              "    </div>\n",
              "  </div>\n",
              "  "
            ]
          },
          "metadata": {},
          "execution_count": 26
        }
      ]
    },
    {
      "cell_type": "markdown",
      "source": [
        "## JSON"
      ],
      "metadata": {
        "id": "sZ1OTLGyZFBv"
      }
    },
    {
      "cell_type": "markdown",
      "source": [
        "Uno de los formatos más comunes en los que vamos a encontrar conjuntos de datos es el formato JSON. Como probablemente ya sabrás, el formato JSON se parece bastante al formato que tienen los diccionarios de Python:\n",
        "\n"
      ],
      "metadata": {
        "id": "aX9x23ZhZHnC"
      }
    },
    {
      "cell_type": "markdown",
      "source": [
        "{\n",
        "   \n",
        "    \"llave_1\": \"valor_1\",\n",
        "  \n",
        "    \"llave_2\": \"valor_2\",\n",
        "\n",
        "    \"llave_3\": \"valor_3\",\n",
        "\n",
        "    \"llave_4\": \"valor_4\"\n",
        "    \n",
        "}"
      ],
      "metadata": {
        "id": "YczEq9tFZiyo"
      }
    },
    {
      "cell_type": "markdown",
      "source": [
        "Primero tenemos que importar la librería json que nos ayuda a lidiar con formato JSON en Python:\n",
        "\n"
      ],
      "metadata": {
        "id": "tCppFccnalL2"
      }
    },
    {
      "cell_type": "code",
      "source": [
        "import json\n"
      ],
      "metadata": {
        "id": "3ee775GzZr7m"
      },
      "execution_count": null,
      "outputs": []
    },
    {
      "cell_type": "code",
      "source": [
        "from google.colab import drive\n",
        "drive.mount('/content/drive')"
      ],
      "metadata": {
        "colab": {
          "base_uri": "https://localhost:8080/"
        },
        "id": "cSc7G2PSNBBX",
        "outputId": "f7378c1d-5022-4e20-dbef-b5b8695af35e"
      },
      "execution_count": null,
      "outputs": [
        {
          "output_type": "stream",
          "name": "stdout",
          "text": [
            "Drive already mounted at /content/drive; to attempt to forcibly remount, call drive.mount(\"/content/drive\", force_remount=True).\n"
          ]
        }
      ]
    },
    {
      "cell_type": "code",
      "source": [
        "df = pd.read_json('/content/drive/MyDrive/CURSO DS/DATASETS/zomato_reviews-clean.json')\n",
        "df"
      ],
      "metadata": {
        "colab": {
          "base_uri": "https://localhost:8080/",
          "height": 641
        },
        "id": "PM9d_BUmOOWz",
        "outputId": "3e7f5e7d-3bab-43dd-9afe-810a68b977ad"
      },
      "execution_count": null,
      "outputs": [
        {
          "output_type": "execute_result",
          "data": {
            "text/plain": [
              "      has_online_delivery  price_range currency                        name  \\\n",
              "0                       1            3      Rs.            Hauz Khas Social   \n",
              "1                       0            3      Rs.  Qubitos - The Terrace Cafe   \n",
              "2                       1            2      Rs.             The Hudson Cafe   \n",
              "3                       0            3      Rs.           Summer House Cafe   \n",
              "4                       0            3      Rs.                 38 Barracks   \n",
              "...                   ...          ...      ...                         ...   \n",
              "1175                    0            3        £               The Boozy Cow   \n",
              "1176                    0            3        £                 La Favorita   \n",
              "1177                    0            3        £           Roseleaf Bar Cafe   \n",
              "1178                    0            3        £                   Civerinos   \n",
              "1179                    0            3        £             The Hanging Bat   \n",
              "\n",
              "                                               cuisines  \\\n",
              "0            Continental, American, Asian, North Indian   \n",
              "1     Thai, European, Mexican, North Indian, Chinese...   \n",
              "2                   Cafe, Italian, Continental, Chinese   \n",
              "3                                  Italian, Continental   \n",
              "4                North Indian, Italian, Asian, American   \n",
              "...                                                 ...   \n",
              "1175                                      Burger, Grill   \n",
              "1176                                            Italian   \n",
              "1177                                     Scottish, Cafe   \n",
              "1178                                     Pizza, Italian   \n",
              "1179                                           American   \n",
              "\n",
              "                                       location.address location.city  \\\n",
              "0                9-A & 12, Hauz Khas Village, New Delhi     New Delhi   \n",
              "1     C-7, Vishal Enclave, Opposite Metro Pillar 417...     New Delhi   \n",
              "2     2524, 1st Floor, Hudson Lane, Delhi University...     New Delhi   \n",
              "3     1st Floor, DDA Shopping Complex, Aurobindo Pla...     New Delhi   \n",
              "4        M-38, Outer Circle, Connaught Place, New Delhi     New Delhi   \n",
              "...                                                 ...           ...   \n",
              "1175   17 Frederick Street, New Town, Edinburgh EH2 2EY     Edinburgh   \n",
              "1176       325-331 Leith Walk, Leith, Edinburgh EH6 8SA     Edinburgh   \n",
              "1177     23-24 Sandport Place, Leith, Edinburgh EH6 6EW     Edinburgh   \n",
              "1178  5 Hunter Square, Royal Mile, Old Town, Edinbur...     Edinburgh   \n",
              "1179      133 Lothian Road, Old Town, Edinburgh EH3 9AD     Edinburgh   \n",
              "\n",
              "     user_rating.rating_text  \n",
              "0                  Very Good  \n",
              "1                  Excellent  \n",
              "2                  Very Good  \n",
              "3                  Very Good  \n",
              "4                  Very Good  \n",
              "...                      ...  \n",
              "1175               Very Good  \n",
              "1176               Excellent  \n",
              "1177               Excellent  \n",
              "1178                    Good  \n",
              "1179                    Good  \n",
              "\n",
              "[1180 rows x 8 columns]"
            ],
            "text/html": [
              "\n",
              "  <div id=\"df-2b6c35ec-5db5-418e-b137-d5255b8b9852\">\n",
              "    <div class=\"colab-df-container\">\n",
              "      <div>\n",
              "<style scoped>\n",
              "    .dataframe tbody tr th:only-of-type {\n",
              "        vertical-align: middle;\n",
              "    }\n",
              "\n",
              "    .dataframe tbody tr th {\n",
              "        vertical-align: top;\n",
              "    }\n",
              "\n",
              "    .dataframe thead th {\n",
              "        text-align: right;\n",
              "    }\n",
              "</style>\n",
              "<table border=\"1\" class=\"dataframe\">\n",
              "  <thead>\n",
              "    <tr style=\"text-align: right;\">\n",
              "      <th></th>\n",
              "      <th>has_online_delivery</th>\n",
              "      <th>price_range</th>\n",
              "      <th>currency</th>\n",
              "      <th>name</th>\n",
              "      <th>cuisines</th>\n",
              "      <th>location.address</th>\n",
              "      <th>location.city</th>\n",
              "      <th>user_rating.rating_text</th>\n",
              "    </tr>\n",
              "  </thead>\n",
              "  <tbody>\n",
              "    <tr>\n",
              "      <th>0</th>\n",
              "      <td>1</td>\n",
              "      <td>3</td>\n",
              "      <td>Rs.</td>\n",
              "      <td>Hauz Khas Social</td>\n",
              "      <td>Continental, American, Asian, North Indian</td>\n",
              "      <td>9-A &amp; 12, Hauz Khas Village, New Delhi</td>\n",
              "      <td>New Delhi</td>\n",
              "      <td>Very Good</td>\n",
              "    </tr>\n",
              "    <tr>\n",
              "      <th>1</th>\n",
              "      <td>0</td>\n",
              "      <td>3</td>\n",
              "      <td>Rs.</td>\n",
              "      <td>Qubitos - The Terrace Cafe</td>\n",
              "      <td>Thai, European, Mexican, North Indian, Chinese...</td>\n",
              "      <td>C-7, Vishal Enclave, Opposite Metro Pillar 417...</td>\n",
              "      <td>New Delhi</td>\n",
              "      <td>Excellent</td>\n",
              "    </tr>\n",
              "    <tr>\n",
              "      <th>2</th>\n",
              "      <td>1</td>\n",
              "      <td>2</td>\n",
              "      <td>Rs.</td>\n",
              "      <td>The Hudson Cafe</td>\n",
              "      <td>Cafe, Italian, Continental, Chinese</td>\n",
              "      <td>2524, 1st Floor, Hudson Lane, Delhi University...</td>\n",
              "      <td>New Delhi</td>\n",
              "      <td>Very Good</td>\n",
              "    </tr>\n",
              "    <tr>\n",
              "      <th>3</th>\n",
              "      <td>0</td>\n",
              "      <td>3</td>\n",
              "      <td>Rs.</td>\n",
              "      <td>Summer House Cafe</td>\n",
              "      <td>Italian, Continental</td>\n",
              "      <td>1st Floor, DDA Shopping Complex, Aurobindo Pla...</td>\n",
              "      <td>New Delhi</td>\n",
              "      <td>Very Good</td>\n",
              "    </tr>\n",
              "    <tr>\n",
              "      <th>4</th>\n",
              "      <td>0</td>\n",
              "      <td>3</td>\n",
              "      <td>Rs.</td>\n",
              "      <td>38 Barracks</td>\n",
              "      <td>North Indian, Italian, Asian, American</td>\n",
              "      <td>M-38, Outer Circle, Connaught Place, New Delhi</td>\n",
              "      <td>New Delhi</td>\n",
              "      <td>Very Good</td>\n",
              "    </tr>\n",
              "    <tr>\n",
              "      <th>...</th>\n",
              "      <td>...</td>\n",
              "      <td>...</td>\n",
              "      <td>...</td>\n",
              "      <td>...</td>\n",
              "      <td>...</td>\n",
              "      <td>...</td>\n",
              "      <td>...</td>\n",
              "      <td>...</td>\n",
              "    </tr>\n",
              "    <tr>\n",
              "      <th>1175</th>\n",
              "      <td>0</td>\n",
              "      <td>3</td>\n",
              "      <td>£</td>\n",
              "      <td>The Boozy Cow</td>\n",
              "      <td>Burger, Grill</td>\n",
              "      <td>17 Frederick Street, New Town, Edinburgh EH2 2EY</td>\n",
              "      <td>Edinburgh</td>\n",
              "      <td>Very Good</td>\n",
              "    </tr>\n",
              "    <tr>\n",
              "      <th>1176</th>\n",
              "      <td>0</td>\n",
              "      <td>3</td>\n",
              "      <td>£</td>\n",
              "      <td>La Favorita</td>\n",
              "      <td>Italian</td>\n",
              "      <td>325-331 Leith Walk, Leith, Edinburgh EH6 8SA</td>\n",
              "      <td>Edinburgh</td>\n",
              "      <td>Excellent</td>\n",
              "    </tr>\n",
              "    <tr>\n",
              "      <th>1177</th>\n",
              "      <td>0</td>\n",
              "      <td>3</td>\n",
              "      <td>£</td>\n",
              "      <td>Roseleaf Bar Cafe</td>\n",
              "      <td>Scottish, Cafe</td>\n",
              "      <td>23-24 Sandport Place, Leith, Edinburgh EH6 6EW</td>\n",
              "      <td>Edinburgh</td>\n",
              "      <td>Excellent</td>\n",
              "    </tr>\n",
              "    <tr>\n",
              "      <th>1178</th>\n",
              "      <td>0</td>\n",
              "      <td>3</td>\n",
              "      <td>£</td>\n",
              "      <td>Civerinos</td>\n",
              "      <td>Pizza, Italian</td>\n",
              "      <td>5 Hunter Square, Royal Mile, Old Town, Edinbur...</td>\n",
              "      <td>Edinburgh</td>\n",
              "      <td>Good</td>\n",
              "    </tr>\n",
              "    <tr>\n",
              "      <th>1179</th>\n",
              "      <td>0</td>\n",
              "      <td>3</td>\n",
              "      <td>£</td>\n",
              "      <td>The Hanging Bat</td>\n",
              "      <td>American</td>\n",
              "      <td>133 Lothian Road, Old Town, Edinburgh EH3 9AD</td>\n",
              "      <td>Edinburgh</td>\n",
              "      <td>Good</td>\n",
              "    </tr>\n",
              "  </tbody>\n",
              "</table>\n",
              "<p>1180 rows × 8 columns</p>\n",
              "</div>\n",
              "      <button class=\"colab-df-convert\" onclick=\"convertToInteractive('df-2b6c35ec-5db5-418e-b137-d5255b8b9852')\"\n",
              "              title=\"Convert this dataframe to an interactive table.\"\n",
              "              style=\"display:none;\">\n",
              "        \n",
              "  <svg xmlns=\"http://www.w3.org/2000/svg\" height=\"24px\"viewBox=\"0 0 24 24\"\n",
              "       width=\"24px\">\n",
              "    <path d=\"M0 0h24v24H0V0z\" fill=\"none\"/>\n",
              "    <path d=\"M18.56 5.44l.94 2.06.94-2.06 2.06-.94-2.06-.94-.94-2.06-.94 2.06-2.06.94zm-11 1L8.5 8.5l.94-2.06 2.06-.94-2.06-.94L8.5 2.5l-.94 2.06-2.06.94zm10 10l.94 2.06.94-2.06 2.06-.94-2.06-.94-.94-2.06-.94 2.06-2.06.94z\"/><path d=\"M17.41 7.96l-1.37-1.37c-.4-.4-.92-.59-1.43-.59-.52 0-1.04.2-1.43.59L10.3 9.45l-7.72 7.72c-.78.78-.78 2.05 0 2.83L4 21.41c.39.39.9.59 1.41.59.51 0 1.02-.2 1.41-.59l7.78-7.78 2.81-2.81c.8-.78.8-2.07 0-2.86zM5.41 20L4 18.59l7.72-7.72 1.47 1.35L5.41 20z\"/>\n",
              "  </svg>\n",
              "      </button>\n",
              "      \n",
              "  <style>\n",
              "    .colab-df-container {\n",
              "      display:flex;\n",
              "      flex-wrap:wrap;\n",
              "      gap: 12px;\n",
              "    }\n",
              "\n",
              "    .colab-df-convert {\n",
              "      background-color: #E8F0FE;\n",
              "      border: none;\n",
              "      border-radius: 50%;\n",
              "      cursor: pointer;\n",
              "      display: none;\n",
              "      fill: #1967D2;\n",
              "      height: 32px;\n",
              "      padding: 0 0 0 0;\n",
              "      width: 32px;\n",
              "    }\n",
              "\n",
              "    .colab-df-convert:hover {\n",
              "      background-color: #E2EBFA;\n",
              "      box-shadow: 0px 1px 2px rgba(60, 64, 67, 0.3), 0px 1px 3px 1px rgba(60, 64, 67, 0.15);\n",
              "      fill: #174EA6;\n",
              "    }\n",
              "\n",
              "    [theme=dark] .colab-df-convert {\n",
              "      background-color: #3B4455;\n",
              "      fill: #D2E3FC;\n",
              "    }\n",
              "\n",
              "    [theme=dark] .colab-df-convert:hover {\n",
              "      background-color: #434B5C;\n",
              "      box-shadow: 0px 1px 3px 1px rgba(0, 0, 0, 0.15);\n",
              "      filter: drop-shadow(0px 1px 2px rgba(0, 0, 0, 0.3));\n",
              "      fill: #FFFFFF;\n",
              "    }\n",
              "  </style>\n",
              "\n",
              "      <script>\n",
              "        const buttonEl =\n",
              "          document.querySelector('#df-2b6c35ec-5db5-418e-b137-d5255b8b9852 button.colab-df-convert');\n",
              "        buttonEl.style.display =\n",
              "          google.colab.kernel.accessAllowed ? 'block' : 'none';\n",
              "\n",
              "        async function convertToInteractive(key) {\n",
              "          const element = document.querySelector('#df-2b6c35ec-5db5-418e-b137-d5255b8b9852');\n",
              "          const dataTable =\n",
              "            await google.colab.kernel.invokeFunction('convertToInteractive',\n",
              "                                                     [key], {});\n",
              "          if (!dataTable) return;\n",
              "\n",
              "          const docLinkHtml = 'Like what you see? Visit the ' +\n",
              "            '<a target=\"_blank\" href=https://colab.research.google.com/notebooks/data_table.ipynb>data table notebook</a>'\n",
              "            + ' to learn more about interactive tables.';\n",
              "          element.innerHTML = '';\n",
              "          dataTable['output_type'] = 'display_data';\n",
              "          await google.colab.output.renderOutput(dataTable, element);\n",
              "          const docLink = document.createElement('div');\n",
              "          docLink.innerHTML = docLinkHtml;\n",
              "          element.appendChild(docLink);\n",
              "        }\n",
              "      </script>\n",
              "    </div>\n",
              "  </div>\n",
              "  "
            ]
          },
          "metadata": {},
          "execution_count": 147
        }
      ]
    },
    {
      "cell_type": "markdown",
      "source": [
        "Después leemos el archivo JSON usando open:\n",
        "\n"
      ],
      "metadata": {
        "id": "PXeCTAGKamSU"
      }
    },
    {
      "cell_type": "code",
      "source": [
        "f = open('/content/drive/MyDrive/CURSO DS/DATASETS/zomato_reviews-clean.json', 'r')\n"
      ],
      "metadata": {
        "id": "Nva3Nq8gcijl"
      },
      "execution_count": null,
      "outputs": []
    },
    {
      "cell_type": "markdown",
      "source": [
        "a ruta (o path) puede ser absoluto o relativo. El 'r' significa que queremos leer el archivo (read).\n",
        "\n",
        "Después convertimos nuestro archivo JSON en un diccionario de Python:"
      ],
      "metadata": {
        "id": "eSN-VP1kclA7"
      }
    },
    {
      "cell_type": "code",
      "source": [
        "json_data = json.load(f)"
      ],
      "metadata": {
        "id": "Vo4bFTXwduKh"
      },
      "execution_count": null,
      "outputs": []
    },
    {
      "cell_type": "markdown",
      "source": [
        "Después cerramos nuestro archivo:\n",
        "\n"
      ],
      "metadata": {
        "id": "oN3JjzxMdxBn"
      }
    },
    {
      "cell_type": "code",
      "source": [
        "f.close()\n"
      ],
      "metadata": {
        "id": "fq72AMQFdu6V"
      },
      "execution_count": null,
      "outputs": []
    },
    {
      "cell_type": "markdown",
      "source": [
        "Y finalmente pasamos el diccionario a pandas.DataFrame.from_dict para crear un DataFrame:\n",
        "\n"
      ],
      "metadata": {
        "id": "OA45i5wNdzQw"
      }
    },
    {
      "cell_type": "code",
      "source": [
        "df = pd.DataFrame.from_dict(json_data)\n"
      ],
      "metadata": {
        "id": "XYF8CY6nfp0e"
      },
      "execution_count": null,
      "outputs": []
    },
    {
      "cell_type": "code",
      "source": [
        "df\n"
      ],
      "metadata": {
        "id": "iqLKL7iXfsO0",
        "colab": {
          "base_uri": "https://localhost:8080/",
          "height": 641
        },
        "outputId": "c6af1ab1-2c9c-4a5d-e4d8-798d315b794c"
      },
      "execution_count": null,
      "outputs": [
        {
          "output_type": "execute_result",
          "data": {
            "text/plain": [
              "      has_online_delivery  price_range currency                        name  \\\n",
              "0                       1            3      Rs.            Hauz Khas Social   \n",
              "1                       0            3      Rs.  Qubitos - The Terrace Cafe   \n",
              "2                       1            2      Rs.             The Hudson Cafe   \n",
              "3                       0            3      Rs.           Summer House Cafe   \n",
              "4                       0            3      Rs.                 38 Barracks   \n",
              "...                   ...          ...      ...                         ...   \n",
              "1175                    0            3        £               The Boozy Cow   \n",
              "1176                    0            3        £                 La Favorita   \n",
              "1177                    0            3        £           Roseleaf Bar Cafe   \n",
              "1178                    0            3        £                   Civerinos   \n",
              "1179                    0            3        £             The Hanging Bat   \n",
              "\n",
              "                                               cuisines  \\\n",
              "0            Continental, American, Asian, North Indian   \n",
              "1     Thai, European, Mexican, North Indian, Chinese...   \n",
              "2                   Cafe, Italian, Continental, Chinese   \n",
              "3                                  Italian, Continental   \n",
              "4                North Indian, Italian, Asian, American   \n",
              "...                                                 ...   \n",
              "1175                                      Burger, Grill   \n",
              "1176                                            Italian   \n",
              "1177                                     Scottish, Cafe   \n",
              "1178                                     Pizza, Italian   \n",
              "1179                                           American   \n",
              "\n",
              "                                       location.address location.city  \\\n",
              "0                9-A & 12, Hauz Khas Village, New Delhi     New Delhi   \n",
              "1     C-7, Vishal Enclave, Opposite Metro Pillar 417...     New Delhi   \n",
              "2     2524, 1st Floor, Hudson Lane, Delhi University...     New Delhi   \n",
              "3     1st Floor, DDA Shopping Complex, Aurobindo Pla...     New Delhi   \n",
              "4        M-38, Outer Circle, Connaught Place, New Delhi     New Delhi   \n",
              "...                                                 ...           ...   \n",
              "1175   17 Frederick Street, New Town, Edinburgh EH2 2EY     Edinburgh   \n",
              "1176       325-331 Leith Walk, Leith, Edinburgh EH6 8SA     Edinburgh   \n",
              "1177     23-24 Sandport Place, Leith, Edinburgh EH6 6EW     Edinburgh   \n",
              "1178  5 Hunter Square, Royal Mile, Old Town, Edinbur...     Edinburgh   \n",
              "1179      133 Lothian Road, Old Town, Edinburgh EH3 9AD     Edinburgh   \n",
              "\n",
              "     user_rating.rating_text  \n",
              "0                  Very Good  \n",
              "1                  Excellent  \n",
              "2                  Very Good  \n",
              "3                  Very Good  \n",
              "4                  Very Good  \n",
              "...                      ...  \n",
              "1175               Very Good  \n",
              "1176               Excellent  \n",
              "1177               Excellent  \n",
              "1178                    Good  \n",
              "1179                    Good  \n",
              "\n",
              "[1180 rows x 8 columns]"
            ],
            "text/html": [
              "\n",
              "  <div id=\"df-21787020-a541-4396-8ff0-149f0de03be2\">\n",
              "    <div class=\"colab-df-container\">\n",
              "      <div>\n",
              "<style scoped>\n",
              "    .dataframe tbody tr th:only-of-type {\n",
              "        vertical-align: middle;\n",
              "    }\n",
              "\n",
              "    .dataframe tbody tr th {\n",
              "        vertical-align: top;\n",
              "    }\n",
              "\n",
              "    .dataframe thead th {\n",
              "        text-align: right;\n",
              "    }\n",
              "</style>\n",
              "<table border=\"1\" class=\"dataframe\">\n",
              "  <thead>\n",
              "    <tr style=\"text-align: right;\">\n",
              "      <th></th>\n",
              "      <th>has_online_delivery</th>\n",
              "      <th>price_range</th>\n",
              "      <th>currency</th>\n",
              "      <th>name</th>\n",
              "      <th>cuisines</th>\n",
              "      <th>location.address</th>\n",
              "      <th>location.city</th>\n",
              "      <th>user_rating.rating_text</th>\n",
              "    </tr>\n",
              "  </thead>\n",
              "  <tbody>\n",
              "    <tr>\n",
              "      <th>0</th>\n",
              "      <td>1</td>\n",
              "      <td>3</td>\n",
              "      <td>Rs.</td>\n",
              "      <td>Hauz Khas Social</td>\n",
              "      <td>Continental, American, Asian, North Indian</td>\n",
              "      <td>9-A &amp; 12, Hauz Khas Village, New Delhi</td>\n",
              "      <td>New Delhi</td>\n",
              "      <td>Very Good</td>\n",
              "    </tr>\n",
              "    <tr>\n",
              "      <th>1</th>\n",
              "      <td>0</td>\n",
              "      <td>3</td>\n",
              "      <td>Rs.</td>\n",
              "      <td>Qubitos - The Terrace Cafe</td>\n",
              "      <td>Thai, European, Mexican, North Indian, Chinese...</td>\n",
              "      <td>C-7, Vishal Enclave, Opposite Metro Pillar 417...</td>\n",
              "      <td>New Delhi</td>\n",
              "      <td>Excellent</td>\n",
              "    </tr>\n",
              "    <tr>\n",
              "      <th>2</th>\n",
              "      <td>1</td>\n",
              "      <td>2</td>\n",
              "      <td>Rs.</td>\n",
              "      <td>The Hudson Cafe</td>\n",
              "      <td>Cafe, Italian, Continental, Chinese</td>\n",
              "      <td>2524, 1st Floor, Hudson Lane, Delhi University...</td>\n",
              "      <td>New Delhi</td>\n",
              "      <td>Very Good</td>\n",
              "    </tr>\n",
              "    <tr>\n",
              "      <th>3</th>\n",
              "      <td>0</td>\n",
              "      <td>3</td>\n",
              "      <td>Rs.</td>\n",
              "      <td>Summer House Cafe</td>\n",
              "      <td>Italian, Continental</td>\n",
              "      <td>1st Floor, DDA Shopping Complex, Aurobindo Pla...</td>\n",
              "      <td>New Delhi</td>\n",
              "      <td>Very Good</td>\n",
              "    </tr>\n",
              "    <tr>\n",
              "      <th>4</th>\n",
              "      <td>0</td>\n",
              "      <td>3</td>\n",
              "      <td>Rs.</td>\n",
              "      <td>38 Barracks</td>\n",
              "      <td>North Indian, Italian, Asian, American</td>\n",
              "      <td>M-38, Outer Circle, Connaught Place, New Delhi</td>\n",
              "      <td>New Delhi</td>\n",
              "      <td>Very Good</td>\n",
              "    </tr>\n",
              "    <tr>\n",
              "      <th>...</th>\n",
              "      <td>...</td>\n",
              "      <td>...</td>\n",
              "      <td>...</td>\n",
              "      <td>...</td>\n",
              "      <td>...</td>\n",
              "      <td>...</td>\n",
              "      <td>...</td>\n",
              "      <td>...</td>\n",
              "    </tr>\n",
              "    <tr>\n",
              "      <th>1175</th>\n",
              "      <td>0</td>\n",
              "      <td>3</td>\n",
              "      <td>£</td>\n",
              "      <td>The Boozy Cow</td>\n",
              "      <td>Burger, Grill</td>\n",
              "      <td>17 Frederick Street, New Town, Edinburgh EH2 2EY</td>\n",
              "      <td>Edinburgh</td>\n",
              "      <td>Very Good</td>\n",
              "    </tr>\n",
              "    <tr>\n",
              "      <th>1176</th>\n",
              "      <td>0</td>\n",
              "      <td>3</td>\n",
              "      <td>£</td>\n",
              "      <td>La Favorita</td>\n",
              "      <td>Italian</td>\n",
              "      <td>325-331 Leith Walk, Leith, Edinburgh EH6 8SA</td>\n",
              "      <td>Edinburgh</td>\n",
              "      <td>Excellent</td>\n",
              "    </tr>\n",
              "    <tr>\n",
              "      <th>1177</th>\n",
              "      <td>0</td>\n",
              "      <td>3</td>\n",
              "      <td>£</td>\n",
              "      <td>Roseleaf Bar Cafe</td>\n",
              "      <td>Scottish, Cafe</td>\n",
              "      <td>23-24 Sandport Place, Leith, Edinburgh EH6 6EW</td>\n",
              "      <td>Edinburgh</td>\n",
              "      <td>Excellent</td>\n",
              "    </tr>\n",
              "    <tr>\n",
              "      <th>1178</th>\n",
              "      <td>0</td>\n",
              "      <td>3</td>\n",
              "      <td>£</td>\n",
              "      <td>Civerinos</td>\n",
              "      <td>Pizza, Italian</td>\n",
              "      <td>5 Hunter Square, Royal Mile, Old Town, Edinbur...</td>\n",
              "      <td>Edinburgh</td>\n",
              "      <td>Good</td>\n",
              "    </tr>\n",
              "    <tr>\n",
              "      <th>1179</th>\n",
              "      <td>0</td>\n",
              "      <td>3</td>\n",
              "      <td>£</td>\n",
              "      <td>The Hanging Bat</td>\n",
              "      <td>American</td>\n",
              "      <td>133 Lothian Road, Old Town, Edinburgh EH3 9AD</td>\n",
              "      <td>Edinburgh</td>\n",
              "      <td>Good</td>\n",
              "    </tr>\n",
              "  </tbody>\n",
              "</table>\n",
              "<p>1180 rows × 8 columns</p>\n",
              "</div>\n",
              "      <button class=\"colab-df-convert\" onclick=\"convertToInteractive('df-21787020-a541-4396-8ff0-149f0de03be2')\"\n",
              "              title=\"Convert this dataframe to an interactive table.\"\n",
              "              style=\"display:none;\">\n",
              "        \n",
              "  <svg xmlns=\"http://www.w3.org/2000/svg\" height=\"24px\"viewBox=\"0 0 24 24\"\n",
              "       width=\"24px\">\n",
              "    <path d=\"M0 0h24v24H0V0z\" fill=\"none\"/>\n",
              "    <path d=\"M18.56 5.44l.94 2.06.94-2.06 2.06-.94-2.06-.94-.94-2.06-.94 2.06-2.06.94zm-11 1L8.5 8.5l.94-2.06 2.06-.94-2.06-.94L8.5 2.5l-.94 2.06-2.06.94zm10 10l.94 2.06.94-2.06 2.06-.94-2.06-.94-.94-2.06-.94 2.06-2.06.94z\"/><path d=\"M17.41 7.96l-1.37-1.37c-.4-.4-.92-.59-1.43-.59-.52 0-1.04.2-1.43.59L10.3 9.45l-7.72 7.72c-.78.78-.78 2.05 0 2.83L4 21.41c.39.39.9.59 1.41.59.51 0 1.02-.2 1.41-.59l7.78-7.78 2.81-2.81c.8-.78.8-2.07 0-2.86zM5.41 20L4 18.59l7.72-7.72 1.47 1.35L5.41 20z\"/>\n",
              "  </svg>\n",
              "      </button>\n",
              "      \n",
              "  <style>\n",
              "    .colab-df-container {\n",
              "      display:flex;\n",
              "      flex-wrap:wrap;\n",
              "      gap: 12px;\n",
              "    }\n",
              "\n",
              "    .colab-df-convert {\n",
              "      background-color: #E8F0FE;\n",
              "      border: none;\n",
              "      border-radius: 50%;\n",
              "      cursor: pointer;\n",
              "      display: none;\n",
              "      fill: #1967D2;\n",
              "      height: 32px;\n",
              "      padding: 0 0 0 0;\n",
              "      width: 32px;\n",
              "    }\n",
              "\n",
              "    .colab-df-convert:hover {\n",
              "      background-color: #E2EBFA;\n",
              "      box-shadow: 0px 1px 2px rgba(60, 64, 67, 0.3), 0px 1px 3px 1px rgba(60, 64, 67, 0.15);\n",
              "      fill: #174EA6;\n",
              "    }\n",
              "\n",
              "    [theme=dark] .colab-df-convert {\n",
              "      background-color: #3B4455;\n",
              "      fill: #D2E3FC;\n",
              "    }\n",
              "\n",
              "    [theme=dark] .colab-df-convert:hover {\n",
              "      background-color: #434B5C;\n",
              "      box-shadow: 0px 1px 3px 1px rgba(0, 0, 0, 0.15);\n",
              "      filter: drop-shadow(0px 1px 2px rgba(0, 0, 0, 0.3));\n",
              "      fill: #FFFFFF;\n",
              "    }\n",
              "  </style>\n",
              "\n",
              "      <script>\n",
              "        const buttonEl =\n",
              "          document.querySelector('#df-21787020-a541-4396-8ff0-149f0de03be2 button.colab-df-convert');\n",
              "        buttonEl.style.display =\n",
              "          google.colab.kernel.accessAllowed ? 'block' : 'none';\n",
              "\n",
              "        async function convertToInteractive(key) {\n",
              "          const element = document.querySelector('#df-21787020-a541-4396-8ff0-149f0de03be2');\n",
              "          const dataTable =\n",
              "            await google.colab.kernel.invokeFunction('convertToInteractive',\n",
              "                                                     [key], {});\n",
              "          if (!dataTable) return;\n",
              "\n",
              "          const docLinkHtml = 'Like what you see? Visit the ' +\n",
              "            '<a target=\"_blank\" href=https://colab.research.google.com/notebooks/data_table.ipynb>data table notebook</a>'\n",
              "            + ' to learn more about interactive tables.';\n",
              "          element.innerHTML = '';\n",
              "          dataTable['output_type'] = 'display_data';\n",
              "          await google.colab.output.renderOutput(dataTable, element);\n",
              "          const docLink = document.createElement('div');\n",
              "          docLink.innerHTML = docLinkHtml;\n",
              "          element.appendChild(docLink);\n",
              "        }\n",
              "      </script>\n",
              "    </div>\n",
              "  </div>\n",
              "  "
            ]
          },
          "metadata": {},
          "execution_count": 153
        }
      ]
    },
    {
      "cell_type": "code",
      "source": [
        "df1 = pd.read_excel('/content/drive/MyDrive/CURSO DS/DATASETS/iSpot Pull 8.29.22-9.4.22.xlsx')\n",
        "df1"
      ],
      "metadata": {
        "colab": {
          "base_uri": "https://localhost:8080/",
          "height": 1000
        },
        "id": "DCjy8pvFQd3v",
        "outputId": "1eeae1fd-7c0a-40ea-cce7-d42efa241171"
      },
      "execution_count": null,
      "outputs": [
        {
          "output_type": "execute_result",
          "data": {
            "text/plain": [
              "                                              Industry  \\\n",
              "0      Life & Entertainment : Video Streaming Services   \n",
              "1      Life & Entertainment : Video Streaming Services   \n",
              "2      Life & Entertainment : Video Streaming Services   \n",
              "3      Life & Entertainment : Video Streaming Services   \n",
              "4      Life & Entertainment : Video Streaming Services   \n",
              "...                                                ...   \n",
              "25884  Life & Entertainment : Video Streaming Services   \n",
              "25885  Life & Entertainment : Video Streaming Services   \n",
              "25886  Life & Entertainment : Video Streaming Services   \n",
              "25887  Life & Entertainment : Video Streaming Services   \n",
              "25888  Life & Entertainment : Video Streaming Services   \n",
              "\n",
              "                  Parent Brand Parent Brand (Custom)               Brand  \\\n",
              "0                 Amazon, Inc.          Amazon, Inc.  Amazon Prime Video   \n",
              "1                 Amazon, Inc.          Amazon, Inc.  Amazon Prime Video   \n",
              "2          Comcast Corporation             Universal          Peacock TV   \n",
              "3                 Amazon, Inc.          Amazon, Inc.  Amazon Prime Video   \n",
              "4                 Amazon, Inc.          Amazon, Inc.  Amazon Prime Video   \n",
              "...                        ...                   ...                 ...   \n",
              "25884  The Walt Disney Company                Disney             Disney+   \n",
              "25885         Paramount Global      Paramount Global          Paramount+   \n",
              "25886          Fox Corporation       Fox Corporation          FOX Nation   \n",
              "25887         Paramount Global      Paramount Global          Paramount+   \n",
              "25888      Comcast Corporation             Universal          Peacock TV   \n",
              "\n",
              "                                                    Spot  \\\n",
              "0      Amazon Prime Video TV Spot, 'The Lord of the R...   \n",
              "1      Amazon Prime Video TV Spot, 'The Lord of the R...   \n",
              "2              Peacock TV TV Spot, 'Biggest Live Events'   \n",
              "3      Amazon Prime Video TV Spot, 'See Where It Take...   \n",
              "4      Amazon Prime Video TV Spot, 'The Lord of the R...   \n",
              "...                                                  ...   \n",
              "25884      Disney+ Day TV Spot, 'Thor: Love and Thunder'   \n",
              "25885               Paramount+ TV Spot, 'The Good Fight'   \n",
              "25886             FOX Nation TV Spot, 'American Dynasty'   \n",
              "25887  Paramount+ Showtime Bundle TV Spot, 'Special P...   \n",
              "25888  Peacock TV TV Spot, 'Streaming Home of Your Fa...   \n",
              "\n",
              "                                        Spot Short Title  Creative Duration  \\\n",
              "0              The Lord of the Rings: The Rings of Power                 30   \n",
              "1              The Lord of the Rings: The Rings of Power                 30   \n",
              "2                                    Biggest Live Events                 30   \n",
              "3                                 See Where It Takes You                 30   \n",
              "4              The Lord of the Rings: The Rings of Power                 30   \n",
              "...                                                  ...                ...   \n",
              "25884                Disney+ Day: Thor: Love and Thunder                 15   \n",
              "25885                                     The Good Fight                 15   \n",
              "25886                                   American Dynasty                 30   \n",
              "25887                             Special Pricing: $7.99                 20   \n",
              "25888  Streaming Home of Your Favorite NBC and Bravo ...                 30   \n",
              "\n",
              "      Creative Duration (Custom) Network Type         Network  ...  \\\n",
              "0                           :30s    Broadcast             NBC  ...   \n",
              "1                           :30s    Broadcast             ABC  ...   \n",
              "2                           :30s    Broadcast             ABC  ...   \n",
              "3                           :30s    Broadcast             ABC  ...   \n",
              "4                           :30s    Broadcast             ABC  ...   \n",
              "...                          ...          ...             ...  ...   \n",
              "25884                       :15s        Cable              FX  ...   \n",
              "25885                       :15s        Cable             BET  ...   \n",
              "25886                       :30s        Cable    FOX Sports 2  ...   \n",
              "25887                       :15s        Cable  Comedy Central  ...   \n",
              "25888                       :30s        Cable              E!  ...   \n",
              "\n",
              "      Show Language Air Date ET Air Time ET Est. TV Spend Media Value  \\\n",
              "0           English  2022-08-30    21:28:52     131919.90        0.00   \n",
              "1           English  2022-08-29    20:23:06     131622.34        0.00   \n",
              "2           English  2022-08-29    21:06:38     131622.34        0.00   \n",
              "3           English  2022-08-29    21:37:59     131622.34        0.00   \n",
              "4           English  2022-09-03    20:52:51     128266.88        0.00   \n",
              "...             ...         ...         ...           ...         ...   \n",
              "25884       English  2022-09-04    23:53:21          0.00      826.82   \n",
              "25885       English  2022-09-04    23:56:10          0.00     2212.31   \n",
              "25886       English  2022-09-04    23:56:12          0.00     1221.57   \n",
              "25887       English  2022-09-04    23:57:06          0.00     1597.35   \n",
              "25888       English  2022-09-04    23:58:35          0.00     1267.30   \n",
              "\n",
              "      Est. TV Spend + Media Value (Custom) Impressions  \\\n",
              "0                                131919.90     4660727   \n",
              "1                                131622.34     4324877   \n",
              "2                                131622.34     3706660   \n",
              "3                                131622.34     3381575   \n",
              "4                                128266.88    10405450   \n",
              "...                                    ...         ...   \n",
              "25884                               826.82           0   \n",
              "25885                              2212.31           0   \n",
              "25886                              1221.57           0   \n",
              "25887                              1597.35           0   \n",
              "25888                              1267.30           0   \n",
              "\n",
              "                                                Products   Spot Type  \\\n",
              "0      Prime Video,The Lord of the Rings: The Rings o...  Commercial   \n",
              "1      Prime Video,The Lord of the Rings: The Rings o...  Commercial   \n",
              "2                                    Multi-Title,Peacock  Commercial   \n",
              "3                                Multi-Title,Prime Video  Commercial   \n",
              "4      Prime Video,The Lord of the Rings: The Rings o...  Commercial   \n",
              "...                                                  ...         ...   \n",
              "25884                     Disney+,Thor: Love and Thunder  Commercial   \n",
              "25885                          Paramount+,The Good Fight  Commercial   \n",
              "25886                        American Dynasty,FOX Nation  Commercial   \n",
              "25887                                                NaN  Commercial   \n",
              "25888                                                NaN  Commercial   \n",
              "\n",
              "                   All Product Categories  \n",
              "0      Streaming Series,Streaming Service  \n",
              "1      Streaming Series,Streaming Service  \n",
              "2           Multi-Title,Streaming Service  \n",
              "3           Multi-Title,Streaming Service  \n",
              "4      Streaming Series,Streaming Service  \n",
              "...                                   ...  \n",
              "25884   Streaming Movie,Streaming Service  \n",
              "25885  Streaming Series,Streaming Service  \n",
              "25886  Streaming Series,Streaming Service  \n",
              "25887                                   -  \n",
              "25888                                   -  \n",
              "\n",
              "[25889 rows x 27 columns]"
            ],
            "text/html": [
              "\n",
              "  <div id=\"df-e66911fc-4d9b-42be-8454-c63a4a6bc85d\">\n",
              "    <div class=\"colab-df-container\">\n",
              "      <div>\n",
              "<style scoped>\n",
              "    .dataframe tbody tr th:only-of-type {\n",
              "        vertical-align: middle;\n",
              "    }\n",
              "\n",
              "    .dataframe tbody tr th {\n",
              "        vertical-align: top;\n",
              "    }\n",
              "\n",
              "    .dataframe thead th {\n",
              "        text-align: right;\n",
              "    }\n",
              "</style>\n",
              "<table border=\"1\" class=\"dataframe\">\n",
              "  <thead>\n",
              "    <tr style=\"text-align: right;\">\n",
              "      <th></th>\n",
              "      <th>Industry</th>\n",
              "      <th>Parent Brand</th>\n",
              "      <th>Parent Brand (Custom)</th>\n",
              "      <th>Brand</th>\n",
              "      <th>Spot</th>\n",
              "      <th>Spot Short Title</th>\n",
              "      <th>Creative Duration</th>\n",
              "      <th>Creative Duration (Custom)</th>\n",
              "      <th>Network Type</th>\n",
              "      <th>Network</th>\n",
              "      <th>...</th>\n",
              "      <th>Show Language</th>\n",
              "      <th>Air Date ET</th>\n",
              "      <th>Air Time ET</th>\n",
              "      <th>Est. TV Spend</th>\n",
              "      <th>Media Value</th>\n",
              "      <th>Est. TV Spend + Media Value (Custom)</th>\n",
              "      <th>Impressions</th>\n",
              "      <th>Products</th>\n",
              "      <th>Spot Type</th>\n",
              "      <th>All Product Categories</th>\n",
              "    </tr>\n",
              "  </thead>\n",
              "  <tbody>\n",
              "    <tr>\n",
              "      <th>0</th>\n",
              "      <td>Life &amp; Entertainment : Video Streaming Services</td>\n",
              "      <td>Amazon, Inc.</td>\n",
              "      <td>Amazon, Inc.</td>\n",
              "      <td>Amazon Prime Video</td>\n",
              "      <td>Amazon Prime Video TV Spot, 'The Lord of the R...</td>\n",
              "      <td>The Lord of the Rings: The Rings of Power</td>\n",
              "      <td>30</td>\n",
              "      <td>:30s</td>\n",
              "      <td>Broadcast</td>\n",
              "      <td>NBC</td>\n",
              "      <td>...</td>\n",
              "      <td>English</td>\n",
              "      <td>2022-08-30</td>\n",
              "      <td>21:28:52</td>\n",
              "      <td>131919.90</td>\n",
              "      <td>0.00</td>\n",
              "      <td>131919.90</td>\n",
              "      <td>4660727</td>\n",
              "      <td>Prime Video,The Lord of the Rings: The Rings o...</td>\n",
              "      <td>Commercial</td>\n",
              "      <td>Streaming Series,Streaming Service</td>\n",
              "    </tr>\n",
              "    <tr>\n",
              "      <th>1</th>\n",
              "      <td>Life &amp; Entertainment : Video Streaming Services</td>\n",
              "      <td>Amazon, Inc.</td>\n",
              "      <td>Amazon, Inc.</td>\n",
              "      <td>Amazon Prime Video</td>\n",
              "      <td>Amazon Prime Video TV Spot, 'The Lord of the R...</td>\n",
              "      <td>The Lord of the Rings: The Rings of Power</td>\n",
              "      <td>30</td>\n",
              "      <td>:30s</td>\n",
              "      <td>Broadcast</td>\n",
              "      <td>ABC</td>\n",
              "      <td>...</td>\n",
              "      <td>English</td>\n",
              "      <td>2022-08-29</td>\n",
              "      <td>20:23:06</td>\n",
              "      <td>131622.34</td>\n",
              "      <td>0.00</td>\n",
              "      <td>131622.34</td>\n",
              "      <td>4324877</td>\n",
              "      <td>Prime Video,The Lord of the Rings: The Rings o...</td>\n",
              "      <td>Commercial</td>\n",
              "      <td>Streaming Series,Streaming Service</td>\n",
              "    </tr>\n",
              "    <tr>\n",
              "      <th>2</th>\n",
              "      <td>Life &amp; Entertainment : Video Streaming Services</td>\n",
              "      <td>Comcast Corporation</td>\n",
              "      <td>Universal</td>\n",
              "      <td>Peacock TV</td>\n",
              "      <td>Peacock TV TV Spot, 'Biggest Live Events'</td>\n",
              "      <td>Biggest Live Events</td>\n",
              "      <td>30</td>\n",
              "      <td>:30s</td>\n",
              "      <td>Broadcast</td>\n",
              "      <td>ABC</td>\n",
              "      <td>...</td>\n",
              "      <td>English</td>\n",
              "      <td>2022-08-29</td>\n",
              "      <td>21:06:38</td>\n",
              "      <td>131622.34</td>\n",
              "      <td>0.00</td>\n",
              "      <td>131622.34</td>\n",
              "      <td>3706660</td>\n",
              "      <td>Multi-Title,Peacock</td>\n",
              "      <td>Commercial</td>\n",
              "      <td>Multi-Title,Streaming Service</td>\n",
              "    </tr>\n",
              "    <tr>\n",
              "      <th>3</th>\n",
              "      <td>Life &amp; Entertainment : Video Streaming Services</td>\n",
              "      <td>Amazon, Inc.</td>\n",
              "      <td>Amazon, Inc.</td>\n",
              "      <td>Amazon Prime Video</td>\n",
              "      <td>Amazon Prime Video TV Spot, 'See Where It Take...</td>\n",
              "      <td>See Where It Takes You</td>\n",
              "      <td>30</td>\n",
              "      <td>:30s</td>\n",
              "      <td>Broadcast</td>\n",
              "      <td>ABC</td>\n",
              "      <td>...</td>\n",
              "      <td>English</td>\n",
              "      <td>2022-08-29</td>\n",
              "      <td>21:37:59</td>\n",
              "      <td>131622.34</td>\n",
              "      <td>0.00</td>\n",
              "      <td>131622.34</td>\n",
              "      <td>3381575</td>\n",
              "      <td>Multi-Title,Prime Video</td>\n",
              "      <td>Commercial</td>\n",
              "      <td>Multi-Title,Streaming Service</td>\n",
              "    </tr>\n",
              "    <tr>\n",
              "      <th>4</th>\n",
              "      <td>Life &amp; Entertainment : Video Streaming Services</td>\n",
              "      <td>Amazon, Inc.</td>\n",
              "      <td>Amazon, Inc.</td>\n",
              "      <td>Amazon Prime Video</td>\n",
              "      <td>Amazon Prime Video TV Spot, 'The Lord of the R...</td>\n",
              "      <td>The Lord of the Rings: The Rings of Power</td>\n",
              "      <td>30</td>\n",
              "      <td>:30s</td>\n",
              "      <td>Broadcast</td>\n",
              "      <td>ABC</td>\n",
              "      <td>...</td>\n",
              "      <td>English</td>\n",
              "      <td>2022-09-03</td>\n",
              "      <td>20:52:51</td>\n",
              "      <td>128266.88</td>\n",
              "      <td>0.00</td>\n",
              "      <td>128266.88</td>\n",
              "      <td>10405450</td>\n",
              "      <td>Prime Video,The Lord of the Rings: The Rings o...</td>\n",
              "      <td>Commercial</td>\n",
              "      <td>Streaming Series,Streaming Service</td>\n",
              "    </tr>\n",
              "    <tr>\n",
              "      <th>...</th>\n",
              "      <td>...</td>\n",
              "      <td>...</td>\n",
              "      <td>...</td>\n",
              "      <td>...</td>\n",
              "      <td>...</td>\n",
              "      <td>...</td>\n",
              "      <td>...</td>\n",
              "      <td>...</td>\n",
              "      <td>...</td>\n",
              "      <td>...</td>\n",
              "      <td>...</td>\n",
              "      <td>...</td>\n",
              "      <td>...</td>\n",
              "      <td>...</td>\n",
              "      <td>...</td>\n",
              "      <td>...</td>\n",
              "      <td>...</td>\n",
              "      <td>...</td>\n",
              "      <td>...</td>\n",
              "      <td>...</td>\n",
              "      <td>...</td>\n",
              "    </tr>\n",
              "    <tr>\n",
              "      <th>25884</th>\n",
              "      <td>Life &amp; Entertainment : Video Streaming Services</td>\n",
              "      <td>The Walt Disney Company</td>\n",
              "      <td>Disney</td>\n",
              "      <td>Disney+</td>\n",
              "      <td>Disney+ Day TV Spot, 'Thor: Love and Thunder'</td>\n",
              "      <td>Disney+ Day: Thor: Love and Thunder</td>\n",
              "      <td>15</td>\n",
              "      <td>:15s</td>\n",
              "      <td>Cable</td>\n",
              "      <td>FX</td>\n",
              "      <td>...</td>\n",
              "      <td>English</td>\n",
              "      <td>2022-09-04</td>\n",
              "      <td>23:53:21</td>\n",
              "      <td>0.00</td>\n",
              "      <td>826.82</td>\n",
              "      <td>826.82</td>\n",
              "      <td>0</td>\n",
              "      <td>Disney+,Thor: Love and Thunder</td>\n",
              "      <td>Commercial</td>\n",
              "      <td>Streaming Movie,Streaming Service</td>\n",
              "    </tr>\n",
              "    <tr>\n",
              "      <th>25885</th>\n",
              "      <td>Life &amp; Entertainment : Video Streaming Services</td>\n",
              "      <td>Paramount Global</td>\n",
              "      <td>Paramount Global</td>\n",
              "      <td>Paramount+</td>\n",
              "      <td>Paramount+ TV Spot, 'The Good Fight'</td>\n",
              "      <td>The Good Fight</td>\n",
              "      <td>15</td>\n",
              "      <td>:15s</td>\n",
              "      <td>Cable</td>\n",
              "      <td>BET</td>\n",
              "      <td>...</td>\n",
              "      <td>English</td>\n",
              "      <td>2022-09-04</td>\n",
              "      <td>23:56:10</td>\n",
              "      <td>0.00</td>\n",
              "      <td>2212.31</td>\n",
              "      <td>2212.31</td>\n",
              "      <td>0</td>\n",
              "      <td>Paramount+,The Good Fight</td>\n",
              "      <td>Commercial</td>\n",
              "      <td>Streaming Series,Streaming Service</td>\n",
              "    </tr>\n",
              "    <tr>\n",
              "      <th>25886</th>\n",
              "      <td>Life &amp; Entertainment : Video Streaming Services</td>\n",
              "      <td>Fox Corporation</td>\n",
              "      <td>Fox Corporation</td>\n",
              "      <td>FOX Nation</td>\n",
              "      <td>FOX Nation TV Spot, 'American Dynasty'</td>\n",
              "      <td>American Dynasty</td>\n",
              "      <td>30</td>\n",
              "      <td>:30s</td>\n",
              "      <td>Cable</td>\n",
              "      <td>FOX Sports 2</td>\n",
              "      <td>...</td>\n",
              "      <td>English</td>\n",
              "      <td>2022-09-04</td>\n",
              "      <td>23:56:12</td>\n",
              "      <td>0.00</td>\n",
              "      <td>1221.57</td>\n",
              "      <td>1221.57</td>\n",
              "      <td>0</td>\n",
              "      <td>American Dynasty,FOX Nation</td>\n",
              "      <td>Commercial</td>\n",
              "      <td>Streaming Series,Streaming Service</td>\n",
              "    </tr>\n",
              "    <tr>\n",
              "      <th>25887</th>\n",
              "      <td>Life &amp; Entertainment : Video Streaming Services</td>\n",
              "      <td>Paramount Global</td>\n",
              "      <td>Paramount Global</td>\n",
              "      <td>Paramount+</td>\n",
              "      <td>Paramount+ Showtime Bundle TV Spot, 'Special P...</td>\n",
              "      <td>Special Pricing: $7.99</td>\n",
              "      <td>20</td>\n",
              "      <td>:15s</td>\n",
              "      <td>Cable</td>\n",
              "      <td>Comedy Central</td>\n",
              "      <td>...</td>\n",
              "      <td>English</td>\n",
              "      <td>2022-09-04</td>\n",
              "      <td>23:57:06</td>\n",
              "      <td>0.00</td>\n",
              "      <td>1597.35</td>\n",
              "      <td>1597.35</td>\n",
              "      <td>0</td>\n",
              "      <td>NaN</td>\n",
              "      <td>Commercial</td>\n",
              "      <td>-</td>\n",
              "    </tr>\n",
              "    <tr>\n",
              "      <th>25888</th>\n",
              "      <td>Life &amp; Entertainment : Video Streaming Services</td>\n",
              "      <td>Comcast Corporation</td>\n",
              "      <td>Universal</td>\n",
              "      <td>Peacock TV</td>\n",
              "      <td>Peacock TV TV Spot, 'Streaming Home of Your Fa...</td>\n",
              "      <td>Streaming Home of Your Favorite NBC and Bravo ...</td>\n",
              "      <td>30</td>\n",
              "      <td>:30s</td>\n",
              "      <td>Cable</td>\n",
              "      <td>E!</td>\n",
              "      <td>...</td>\n",
              "      <td>English</td>\n",
              "      <td>2022-09-04</td>\n",
              "      <td>23:58:35</td>\n",
              "      <td>0.00</td>\n",
              "      <td>1267.30</td>\n",
              "      <td>1267.30</td>\n",
              "      <td>0</td>\n",
              "      <td>NaN</td>\n",
              "      <td>Commercial</td>\n",
              "      <td>-</td>\n",
              "    </tr>\n",
              "  </tbody>\n",
              "</table>\n",
              "<p>25889 rows × 27 columns</p>\n",
              "</div>\n",
              "      <button class=\"colab-df-convert\" onclick=\"convertToInteractive('df-e66911fc-4d9b-42be-8454-c63a4a6bc85d')\"\n",
              "              title=\"Convert this dataframe to an interactive table.\"\n",
              "              style=\"display:none;\">\n",
              "        \n",
              "  <svg xmlns=\"http://www.w3.org/2000/svg\" height=\"24px\"viewBox=\"0 0 24 24\"\n",
              "       width=\"24px\">\n",
              "    <path d=\"M0 0h24v24H0V0z\" fill=\"none\"/>\n",
              "    <path d=\"M18.56 5.44l.94 2.06.94-2.06 2.06-.94-2.06-.94-.94-2.06-.94 2.06-2.06.94zm-11 1L8.5 8.5l.94-2.06 2.06-.94-2.06-.94L8.5 2.5l-.94 2.06-2.06.94zm10 10l.94 2.06.94-2.06 2.06-.94-2.06-.94-.94-2.06-.94 2.06-2.06.94z\"/><path d=\"M17.41 7.96l-1.37-1.37c-.4-.4-.92-.59-1.43-.59-.52 0-1.04.2-1.43.59L10.3 9.45l-7.72 7.72c-.78.78-.78 2.05 0 2.83L4 21.41c.39.39.9.59 1.41.59.51 0 1.02-.2 1.41-.59l7.78-7.78 2.81-2.81c.8-.78.8-2.07 0-2.86zM5.41 20L4 18.59l7.72-7.72 1.47 1.35L5.41 20z\"/>\n",
              "  </svg>\n",
              "      </button>\n",
              "      \n",
              "  <style>\n",
              "    .colab-df-container {\n",
              "      display:flex;\n",
              "      flex-wrap:wrap;\n",
              "      gap: 12px;\n",
              "    }\n",
              "\n",
              "    .colab-df-convert {\n",
              "      background-color: #E8F0FE;\n",
              "      border: none;\n",
              "      border-radius: 50%;\n",
              "      cursor: pointer;\n",
              "      display: none;\n",
              "      fill: #1967D2;\n",
              "      height: 32px;\n",
              "      padding: 0 0 0 0;\n",
              "      width: 32px;\n",
              "    }\n",
              "\n",
              "    .colab-df-convert:hover {\n",
              "      background-color: #E2EBFA;\n",
              "      box-shadow: 0px 1px 2px rgba(60, 64, 67, 0.3), 0px 1px 3px 1px rgba(60, 64, 67, 0.15);\n",
              "      fill: #174EA6;\n",
              "    }\n",
              "\n",
              "    [theme=dark] .colab-df-convert {\n",
              "      background-color: #3B4455;\n",
              "      fill: #D2E3FC;\n",
              "    }\n",
              "\n",
              "    [theme=dark] .colab-df-convert:hover {\n",
              "      background-color: #434B5C;\n",
              "      box-shadow: 0px 1px 3px 1px rgba(0, 0, 0, 0.15);\n",
              "      filter: drop-shadow(0px 1px 2px rgba(0, 0, 0, 0.3));\n",
              "      fill: #FFFFFF;\n",
              "    }\n",
              "  </style>\n",
              "\n",
              "      <script>\n",
              "        const buttonEl =\n",
              "          document.querySelector('#df-e66911fc-4d9b-42be-8454-c63a4a6bc85d button.colab-df-convert');\n",
              "        buttonEl.style.display =\n",
              "          google.colab.kernel.accessAllowed ? 'block' : 'none';\n",
              "\n",
              "        async function convertToInteractive(key) {\n",
              "          const element = document.querySelector('#df-e66911fc-4d9b-42be-8454-c63a4a6bc85d');\n",
              "          const dataTable =\n",
              "            await google.colab.kernel.invokeFunction('convertToInteractive',\n",
              "                                                     [key], {});\n",
              "          if (!dataTable) return;\n",
              "\n",
              "          const docLinkHtml = 'Like what you see? Visit the ' +\n",
              "            '<a target=\"_blank\" href=https://colab.research.google.com/notebooks/data_table.ipynb>data table notebook</a>'\n",
              "            + ' to learn more about interactive tables.';\n",
              "          element.innerHTML = '';\n",
              "          dataTable['output_type'] = 'display_data';\n",
              "          await google.colab.output.renderOutput(dataTable, element);\n",
              "          const docLink = document.createElement('div');\n",
              "          docLink.innerHTML = docLinkHtml;\n",
              "          element.appendChild(docLink);\n",
              "        }\n",
              "      </script>\n",
              "    </div>\n",
              "  </div>\n",
              "  "
            ]
          },
          "metadata": {},
          "execution_count": 154
        }
      ]
    },
    {
      "cell_type": "markdown",
      "source": [
        "## Análisis Exploratorio"
      ],
      "metadata": {
        "id": "cX7ukiQYglje"
      }
    },
    {
      "cell_type": "markdown",
      "source": [
        "Podemos saber la forma de nuestro DataFrame accediendo a la propiedad shape. El primer valor es el número de filas, mientras que el segundo es el número de columnas:"
      ],
      "metadata": {
        "id": "INGBDmfjhRsH"
      }
    },
    {
      "cell_type": "code",
      "source": [
        "df.shape\n"
      ],
      "metadata": {
        "id": "QSsUn8q0hUyg"
      },
      "execution_count": null,
      "outputs": []
    },
    {
      "cell_type": "markdown",
      "source": [
        "Podemos ver un número determinado de filas comenzando desde el principio con head:\n",
        "\n"
      ],
      "metadata": {
        "id": "TJUMT4lghYX9"
      }
    },
    {
      "cell_type": "code",
      "source": [
        "df.head(5)\n"
      ],
      "metadata": {
        "id": "8ez2QBOnhZd3"
      },
      "execution_count": null,
      "outputs": []
    },
    {
      "cell_type": "markdown",
      "source": [
        "Podemos ver también las filas del final con tail:\n",
        "\n"
      ],
      "metadata": {
        "id": "4VKlJmU5hdPe"
      }
    },
    {
      "cell_type": "code",
      "source": [
        "df.tail(5)\n"
      ],
      "metadata": {
        "id": "IWW0CLzfhdyi"
      },
      "execution_count": null,
      "outputs": []
    },
    {
      "cell_type": "markdown",
      "source": [
        "Podemos ver los dtypes de todas nuestras columnas accediendo a esa propiedad:\n",
        "\n"
      ],
      "metadata": {
        "id": "ZofZh9fEhoq6"
      }
    },
    {
      "cell_type": "code",
      "source": [
        "from google.colab import files\n",
        " \n",
        " \n",
        "uploaded = files.upload()"
      ],
      "metadata": {
        "id": "Y6oXZwskgp7E",
        "colab": {
          "base_uri": "https://localhost:8080/",
          "height": 74
        },
        "outputId": "71796e13-82fb-4fdd-933b-5fd34d61156d"
      },
      "execution_count": null,
      "outputs": [
        {
          "output_type": "display_data",
          "data": {
            "text/plain": [
              "<IPython.core.display.HTML object>"
            ],
            "text/html": [
              "\n",
              "     <input type=\"file\" id=\"files-4adfcd53-ca54-437c-8991-a844872718ae\" name=\"files[]\" multiple disabled\n",
              "        style=\"border:none\" />\n",
              "     <output id=\"result-4adfcd53-ca54-437c-8991-a844872718ae\">\n",
              "      Upload widget is only available when the cell has been executed in the\n",
              "      current browser session. Please rerun this cell to enable.\n",
              "      </output>\n",
              "      <script>// Copyright 2017 Google LLC\n",
              "//\n",
              "// Licensed under the Apache License, Version 2.0 (the \"License\");\n",
              "// you may not use this file except in compliance with the License.\n",
              "// You may obtain a copy of the License at\n",
              "//\n",
              "//      http://www.apache.org/licenses/LICENSE-2.0\n",
              "//\n",
              "// Unless required by applicable law or agreed to in writing, software\n",
              "// distributed under the License is distributed on an \"AS IS\" BASIS,\n",
              "// WITHOUT WARRANTIES OR CONDITIONS OF ANY KIND, either express or implied.\n",
              "// See the License for the specific language governing permissions and\n",
              "// limitations under the License.\n",
              "\n",
              "/**\n",
              " * @fileoverview Helpers for google.colab Python module.\n",
              " */\n",
              "(function(scope) {\n",
              "function span(text, styleAttributes = {}) {\n",
              "  const element = document.createElement('span');\n",
              "  element.textContent = text;\n",
              "  for (const key of Object.keys(styleAttributes)) {\n",
              "    element.style[key] = styleAttributes[key];\n",
              "  }\n",
              "  return element;\n",
              "}\n",
              "\n",
              "// Max number of bytes which will be uploaded at a time.\n",
              "const MAX_PAYLOAD_SIZE = 100 * 1024;\n",
              "\n",
              "function _uploadFiles(inputId, outputId) {\n",
              "  const steps = uploadFilesStep(inputId, outputId);\n",
              "  const outputElement = document.getElementById(outputId);\n",
              "  // Cache steps on the outputElement to make it available for the next call\n",
              "  // to uploadFilesContinue from Python.\n",
              "  outputElement.steps = steps;\n",
              "\n",
              "  return _uploadFilesContinue(outputId);\n",
              "}\n",
              "\n",
              "// This is roughly an async generator (not supported in the browser yet),\n",
              "// where there are multiple asynchronous steps and the Python side is going\n",
              "// to poll for completion of each step.\n",
              "// This uses a Promise to block the python side on completion of each step,\n",
              "// then passes the result of the previous step as the input to the next step.\n",
              "function _uploadFilesContinue(outputId) {\n",
              "  const outputElement = document.getElementById(outputId);\n",
              "  const steps = outputElement.steps;\n",
              "\n",
              "  const next = steps.next(outputElement.lastPromiseValue);\n",
              "  return Promise.resolve(next.value.promise).then((value) => {\n",
              "    // Cache the last promise value to make it available to the next\n",
              "    // step of the generator.\n",
              "    outputElement.lastPromiseValue = value;\n",
              "    return next.value.response;\n",
              "  });\n",
              "}\n",
              "\n",
              "/**\n",
              " * Generator function which is called between each async step of the upload\n",
              " * process.\n",
              " * @param {string} inputId Element ID of the input file picker element.\n",
              " * @param {string} outputId Element ID of the output display.\n",
              " * @return {!Iterable<!Object>} Iterable of next steps.\n",
              " */\n",
              "function* uploadFilesStep(inputId, outputId) {\n",
              "  const inputElement = document.getElementById(inputId);\n",
              "  inputElement.disabled = false;\n",
              "\n",
              "  const outputElement = document.getElementById(outputId);\n",
              "  outputElement.innerHTML = '';\n",
              "\n",
              "  const pickedPromise = new Promise((resolve) => {\n",
              "    inputElement.addEventListener('change', (e) => {\n",
              "      resolve(e.target.files);\n",
              "    });\n",
              "  });\n",
              "\n",
              "  const cancel = document.createElement('button');\n",
              "  inputElement.parentElement.appendChild(cancel);\n",
              "  cancel.textContent = 'Cancel upload';\n",
              "  const cancelPromise = new Promise((resolve) => {\n",
              "    cancel.onclick = () => {\n",
              "      resolve(null);\n",
              "    };\n",
              "  });\n",
              "\n",
              "  // Wait for the user to pick the files.\n",
              "  const files = yield {\n",
              "    promise: Promise.race([pickedPromise, cancelPromise]),\n",
              "    response: {\n",
              "      action: 'starting',\n",
              "    }\n",
              "  };\n",
              "\n",
              "  cancel.remove();\n",
              "\n",
              "  // Disable the input element since further picks are not allowed.\n",
              "  inputElement.disabled = true;\n",
              "\n",
              "  if (!files) {\n",
              "    return {\n",
              "      response: {\n",
              "        action: 'complete',\n",
              "      }\n",
              "    };\n",
              "  }\n",
              "\n",
              "  for (const file of files) {\n",
              "    const li = document.createElement('li');\n",
              "    li.append(span(file.name, {fontWeight: 'bold'}));\n",
              "    li.append(span(\n",
              "        `(${file.type || 'n/a'}) - ${file.size} bytes, ` +\n",
              "        `last modified: ${\n",
              "            file.lastModifiedDate ? file.lastModifiedDate.toLocaleDateString() :\n",
              "                                    'n/a'} - `));\n",
              "    const percent = span('0% done');\n",
              "    li.appendChild(percent);\n",
              "\n",
              "    outputElement.appendChild(li);\n",
              "\n",
              "    const fileDataPromise = new Promise((resolve) => {\n",
              "      const reader = new FileReader();\n",
              "      reader.onload = (e) => {\n",
              "        resolve(e.target.result);\n",
              "      };\n",
              "      reader.readAsArrayBuffer(file);\n",
              "    });\n",
              "    // Wait for the data to be ready.\n",
              "    let fileData = yield {\n",
              "      promise: fileDataPromise,\n",
              "      response: {\n",
              "        action: 'continue',\n",
              "      }\n",
              "    };\n",
              "\n",
              "    // Use a chunked sending to avoid message size limits. See b/62115660.\n",
              "    let position = 0;\n",
              "    do {\n",
              "      const length = Math.min(fileData.byteLength - position, MAX_PAYLOAD_SIZE);\n",
              "      const chunk = new Uint8Array(fileData, position, length);\n",
              "      position += length;\n",
              "\n",
              "      const base64 = btoa(String.fromCharCode.apply(null, chunk));\n",
              "      yield {\n",
              "        response: {\n",
              "          action: 'append',\n",
              "          file: file.name,\n",
              "          data: base64,\n",
              "        },\n",
              "      };\n",
              "\n",
              "      let percentDone = fileData.byteLength === 0 ?\n",
              "          100 :\n",
              "          Math.round((position / fileData.byteLength) * 100);\n",
              "      percent.textContent = `${percentDone}% done`;\n",
              "\n",
              "    } while (position < fileData.byteLength);\n",
              "  }\n",
              "\n",
              "  // All done.\n",
              "  yield {\n",
              "    response: {\n",
              "      action: 'complete',\n",
              "    }\n",
              "  };\n",
              "}\n",
              "\n",
              "scope.google = scope.google || {};\n",
              "scope.google.colab = scope.google.colab || {};\n",
              "scope.google.colab._files = {\n",
              "  _uploadFiles,\n",
              "  _uploadFilesContinue,\n",
              "};\n",
              "})(self);\n",
              "</script> "
            ]
          },
          "metadata": {}
        },
        {
          "output_type": "stream",
          "name": "stdout",
          "text": [
            "Saving iSpot Pull 8.29.22-9.4.22.xlsx to iSpot Pull 8.29.22-9.4.22.xlsx\n"
          ]
        }
      ]
    }
  ]
}