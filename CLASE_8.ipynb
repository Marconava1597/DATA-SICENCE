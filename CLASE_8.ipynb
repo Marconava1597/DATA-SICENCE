{
  "nbformat": 4,
  "nbformat_minor": 0,
  "metadata": {
    "colab": {
      "provenance": []
    },
    "kernelspec": {
      "name": "python3",
      "display_name": "Python 3"
    },
    "language_info": {
      "name": "python"
    }
  },
  "cells": [
    {
      "cell_type": "markdown",
      "source": [
        "# Estimados de Locación y Variabilidad"
      ],
      "metadata": {
        "id": "3f8pxUE6RLz7"
      }
    },
    {
      "cell_type": "markdown",
      "source": [
        "Hay dos grandes categorías de datos que manejamos en Ciencia de Datos: datos estructurados y datos no estructurados. Por el momento sólo vamos a hablar sobre datos estructurados. Los datos estructurados pueden subdividirse de la siguiente manera:\n",
        "\n",
        "1. Numéricos: Datos representados por números que pueden tomar una cantidad no predefinida de valores. a) Discretos: Datos que sólo pueden tomar el valor de un número entero. b) Continuos: Datos que pueden toman cualquier valor dentro de un intervalo.\n",
        "2. Categóricos: Datos que sólo pueden tomar un conjunto específico de valores que representan un conjunto de posibles categorías. a) Binarios: Datos categóricos que sólo tienen dos categorías posibles. b) Ordinales: Datos categóricos que tienen un orden explícito."
      ],
      "metadata": {
        "id": "h7oBHLrwRh0T"
      }
    },
    {
      "cell_type": "markdown",
      "source": [
        "#**Estimados de locación**\n"
      ],
      "metadata": {
        "id": "sqxTTM18R2y6"
      }
    },
    {
      "cell_type": "markdown",
      "source": [
        "Los estimados de locación nos sirven para determinar qué valor describe mejor un conjunto de datos. A este valor le llamamos el \"valor típico\" de nuestro conjunto. Dos estimados son los más comunes y lo más utilizados:\n",
        "\n",
        "* Promedio (o media)\n",
        "* Mediana\n",
        "\n",
        "Veamos cómo se calculan usando pandas."
      ],
      "metadata": {
        "id": "aRVaqu4UR8IP"
      }
    },
    {
      "cell_type": "markdown",
      "source": [
        "Vamos a utilizar un primer dataset para aprender a calcular estimados de locación usando pandas.\n",
        "\n",
        "El dataset que usaremos en esta sesión contiene información acerca de propiedades que estuvieron (o están) en venta en la ciudad de Melbourne, Australia. El dataset contiene las características físicas de la propiedad, su locación, el tipo de vivienda que es y el precio de la propiedad.\n",
        "\n",
        "Vamos a analizar la variable precio para entender cómo están distribuidos los precios de propiedades en esta ciudad."
      ],
      "metadata": {
        "id": "J4VtzBuuSkkv"
      }
    },
    {
      "cell_type": "code",
      "execution_count": null,
      "metadata": {
        "id": "uk-1MB72O_fw"
      },
      "outputs": [],
      "source": [
        "import pandas as pd\n"
      ]
    },
    {
      "cell_type": "code",
      "source": [
        "df = pd.read_csv('/content/drive/MyDrive/Remoto Datasets/Remoto melbourne_housing-clean.csv', index_col=0)\n"
      ],
      "metadata": {
        "id": "VjeVjXNmSpZT"
      },
      "execution_count": null,
      "outputs": []
    },
    {
      "cell_type": "code",
      "source": [
        "df.describe()\n"
      ],
      "metadata": {
        "colab": {
          "base_uri": "https://localhost:8080/",
          "height": 364
        },
        "id": "kIfpgZeiSsAH",
        "outputId": "bc2e55f6-58ee-4a7e-9c68-1767b59f360c"
      },
      "execution_count": null,
      "outputs": [
        {
          "output_type": "execute_result",
          "data": {
            "text/plain": [
              "              rooms         price      distance      postcode     bedroom_2  \\\n",
              "count  11646.000000  1.164600e+04  11646.000000  11646.000000  11646.000000   \n",
              "mean       2.885025  1.068142e+06      9.583059   3102.080543      2.859437   \n",
              "std        0.958165  6.437282e+05      5.304187     84.043125      0.971155   \n",
              "min        1.000000  8.500000e+04      0.000000   3000.000000      0.000000   \n",
              "25%        2.000000  6.400000e+05      5.900000   3044.000000      2.000000   \n",
              "50%        3.000000  8.955000e+05      9.100000   3083.000000      3.000000   \n",
              "75%        3.000000  1.325000e+06     12.300000   3146.000000      3.000000   \n",
              "max        8.000000  9.000000e+06     47.400000   3977.000000     20.000000   \n",
              "\n",
              "           bathroom           car     land_size      latitude     longitude  \\\n",
              "count  11646.000000  11646.000000  11646.000000  11646.000000  11646.000000   \n",
              "mean       1.514855      1.564743    554.458097    -37.809574    144.992541   \n",
              "std        0.690793      0.946698   1460.432326      0.072706      0.095678   \n",
              "min        0.000000      0.000000      0.000000    -38.182550    144.431810   \n",
              "25%        1.000000      1.000000    162.000000    -37.855400    144.931500   \n",
              "50%        1.000000      1.000000    412.000000    -37.803200    144.998000   \n",
              "75%        2.000000      2.000000    656.000000    -37.759163    145.052775   \n",
              "max        8.000000     10.000000  76000.000000    -37.413810    145.526350   \n",
              "\n",
              "       property_count  \n",
              "count    11646.000000  \n",
              "mean      7455.297098  \n",
              "std       4368.452377  \n",
              "min        249.000000  \n",
              "25%       4385.000000  \n",
              "50%       6567.000000  \n",
              "75%      10331.000000  \n",
              "max      21650.000000  "
            ],
            "text/html": [
              "\n",
              "  <div id=\"df-968465d4-6730-4732-b277-7865acf01a32\">\n",
              "    <div class=\"colab-df-container\">\n",
              "      <div>\n",
              "<style scoped>\n",
              "    .dataframe tbody tr th:only-of-type {\n",
              "        vertical-align: middle;\n",
              "    }\n",
              "\n",
              "    .dataframe tbody tr th {\n",
              "        vertical-align: top;\n",
              "    }\n",
              "\n",
              "    .dataframe thead th {\n",
              "        text-align: right;\n",
              "    }\n",
              "</style>\n",
              "<table border=\"1\" class=\"dataframe\">\n",
              "  <thead>\n",
              "    <tr style=\"text-align: right;\">\n",
              "      <th></th>\n",
              "      <th>rooms</th>\n",
              "      <th>price</th>\n",
              "      <th>distance</th>\n",
              "      <th>postcode</th>\n",
              "      <th>bedroom_2</th>\n",
              "      <th>bathroom</th>\n",
              "      <th>car</th>\n",
              "      <th>land_size</th>\n",
              "      <th>latitude</th>\n",
              "      <th>longitude</th>\n",
              "      <th>property_count</th>\n",
              "    </tr>\n",
              "  </thead>\n",
              "  <tbody>\n",
              "    <tr>\n",
              "      <th>count</th>\n",
              "      <td>11646.000000</td>\n",
              "      <td>1.164600e+04</td>\n",
              "      <td>11646.000000</td>\n",
              "      <td>11646.000000</td>\n",
              "      <td>11646.000000</td>\n",
              "      <td>11646.000000</td>\n",
              "      <td>11646.000000</td>\n",
              "      <td>11646.000000</td>\n",
              "      <td>11646.000000</td>\n",
              "      <td>11646.000000</td>\n",
              "      <td>11646.000000</td>\n",
              "    </tr>\n",
              "    <tr>\n",
              "      <th>mean</th>\n",
              "      <td>2.885025</td>\n",
              "      <td>1.068142e+06</td>\n",
              "      <td>9.583059</td>\n",
              "      <td>3102.080543</td>\n",
              "      <td>2.859437</td>\n",
              "      <td>1.514855</td>\n",
              "      <td>1.564743</td>\n",
              "      <td>554.458097</td>\n",
              "      <td>-37.809574</td>\n",
              "      <td>144.992541</td>\n",
              "      <td>7455.297098</td>\n",
              "    </tr>\n",
              "    <tr>\n",
              "      <th>std</th>\n",
              "      <td>0.958165</td>\n",
              "      <td>6.437282e+05</td>\n",
              "      <td>5.304187</td>\n",
              "      <td>84.043125</td>\n",
              "      <td>0.971155</td>\n",
              "      <td>0.690793</td>\n",
              "      <td>0.946698</td>\n",
              "      <td>1460.432326</td>\n",
              "      <td>0.072706</td>\n",
              "      <td>0.095678</td>\n",
              "      <td>4368.452377</td>\n",
              "    </tr>\n",
              "    <tr>\n",
              "      <th>min</th>\n",
              "      <td>1.000000</td>\n",
              "      <td>8.500000e+04</td>\n",
              "      <td>0.000000</td>\n",
              "      <td>3000.000000</td>\n",
              "      <td>0.000000</td>\n",
              "      <td>0.000000</td>\n",
              "      <td>0.000000</td>\n",
              "      <td>0.000000</td>\n",
              "      <td>-38.182550</td>\n",
              "      <td>144.431810</td>\n",
              "      <td>249.000000</td>\n",
              "    </tr>\n",
              "    <tr>\n",
              "      <th>25%</th>\n",
              "      <td>2.000000</td>\n",
              "      <td>6.400000e+05</td>\n",
              "      <td>5.900000</td>\n",
              "      <td>3044.000000</td>\n",
              "      <td>2.000000</td>\n",
              "      <td>1.000000</td>\n",
              "      <td>1.000000</td>\n",
              "      <td>162.000000</td>\n",
              "      <td>-37.855400</td>\n",
              "      <td>144.931500</td>\n",
              "      <td>4385.000000</td>\n",
              "    </tr>\n",
              "    <tr>\n",
              "      <th>50%</th>\n",
              "      <td>3.000000</td>\n",
              "      <td>8.955000e+05</td>\n",
              "      <td>9.100000</td>\n",
              "      <td>3083.000000</td>\n",
              "      <td>3.000000</td>\n",
              "      <td>1.000000</td>\n",
              "      <td>1.000000</td>\n",
              "      <td>412.000000</td>\n",
              "      <td>-37.803200</td>\n",
              "      <td>144.998000</td>\n",
              "      <td>6567.000000</td>\n",
              "    </tr>\n",
              "    <tr>\n",
              "      <th>75%</th>\n",
              "      <td>3.000000</td>\n",
              "      <td>1.325000e+06</td>\n",
              "      <td>12.300000</td>\n",
              "      <td>3146.000000</td>\n",
              "      <td>3.000000</td>\n",
              "      <td>2.000000</td>\n",
              "      <td>2.000000</td>\n",
              "      <td>656.000000</td>\n",
              "      <td>-37.759163</td>\n",
              "      <td>145.052775</td>\n",
              "      <td>10331.000000</td>\n",
              "    </tr>\n",
              "    <tr>\n",
              "      <th>max</th>\n",
              "      <td>8.000000</td>\n",
              "      <td>9.000000e+06</td>\n",
              "      <td>47.400000</td>\n",
              "      <td>3977.000000</td>\n",
              "      <td>20.000000</td>\n",
              "      <td>8.000000</td>\n",
              "      <td>10.000000</td>\n",
              "      <td>76000.000000</td>\n",
              "      <td>-37.413810</td>\n",
              "      <td>145.526350</td>\n",
              "      <td>21650.000000</td>\n",
              "    </tr>\n",
              "  </tbody>\n",
              "</table>\n",
              "</div>\n",
              "      <button class=\"colab-df-convert\" onclick=\"convertToInteractive('df-968465d4-6730-4732-b277-7865acf01a32')\"\n",
              "              title=\"Convert this dataframe to an interactive table.\"\n",
              "              style=\"display:none;\">\n",
              "        \n",
              "  <svg xmlns=\"http://www.w3.org/2000/svg\" height=\"24px\"viewBox=\"0 0 24 24\"\n",
              "       width=\"24px\">\n",
              "    <path d=\"M0 0h24v24H0V0z\" fill=\"none\"/>\n",
              "    <path d=\"M18.56 5.44l.94 2.06.94-2.06 2.06-.94-2.06-.94-.94-2.06-.94 2.06-2.06.94zm-11 1L8.5 8.5l.94-2.06 2.06-.94-2.06-.94L8.5 2.5l-.94 2.06-2.06.94zm10 10l.94 2.06.94-2.06 2.06-.94-2.06-.94-.94-2.06-.94 2.06-2.06.94z\"/><path d=\"M17.41 7.96l-1.37-1.37c-.4-.4-.92-.59-1.43-.59-.52 0-1.04.2-1.43.59L10.3 9.45l-7.72 7.72c-.78.78-.78 2.05 0 2.83L4 21.41c.39.39.9.59 1.41.59.51 0 1.02-.2 1.41-.59l7.78-7.78 2.81-2.81c.8-.78.8-2.07 0-2.86zM5.41 20L4 18.59l7.72-7.72 1.47 1.35L5.41 20z\"/>\n",
              "  </svg>\n",
              "      </button>\n",
              "      \n",
              "  <style>\n",
              "    .colab-df-container {\n",
              "      display:flex;\n",
              "      flex-wrap:wrap;\n",
              "      gap: 12px;\n",
              "    }\n",
              "\n",
              "    .colab-df-convert {\n",
              "      background-color: #E8F0FE;\n",
              "      border: none;\n",
              "      border-radius: 50%;\n",
              "      cursor: pointer;\n",
              "      display: none;\n",
              "      fill: #1967D2;\n",
              "      height: 32px;\n",
              "      padding: 0 0 0 0;\n",
              "      width: 32px;\n",
              "    }\n",
              "\n",
              "    .colab-df-convert:hover {\n",
              "      background-color: #E2EBFA;\n",
              "      box-shadow: 0px 1px 2px rgba(60, 64, 67, 0.3), 0px 1px 3px 1px rgba(60, 64, 67, 0.15);\n",
              "      fill: #174EA6;\n",
              "    }\n",
              "\n",
              "    [theme=dark] .colab-df-convert {\n",
              "      background-color: #3B4455;\n",
              "      fill: #D2E3FC;\n",
              "    }\n",
              "\n",
              "    [theme=dark] .colab-df-convert:hover {\n",
              "      background-color: #434B5C;\n",
              "      box-shadow: 0px 1px 3px 1px rgba(0, 0, 0, 0.15);\n",
              "      filter: drop-shadow(0px 1px 2px rgba(0, 0, 0, 0.3));\n",
              "      fill: #FFFFFF;\n",
              "    }\n",
              "  </style>\n",
              "\n",
              "      <script>\n",
              "        const buttonEl =\n",
              "          document.querySelector('#df-968465d4-6730-4732-b277-7865acf01a32 button.colab-df-convert');\n",
              "        buttonEl.style.display =\n",
              "          google.colab.kernel.accessAllowed ? 'block' : 'none';\n",
              "\n",
              "        async function convertToInteractive(key) {\n",
              "          const element = document.querySelector('#df-968465d4-6730-4732-b277-7865acf01a32');\n",
              "          const dataTable =\n",
              "            await google.colab.kernel.invokeFunction('convertToInteractive',\n",
              "                                                     [key], {});\n",
              "          if (!dataTable) return;\n",
              "\n",
              "          const docLinkHtml = 'Like what you see? Visit the ' +\n",
              "            '<a target=\"_blank\" href=https://colab.research.google.com/notebooks/data_table.ipynb>data table notebook</a>'\n",
              "            + ' to learn more about interactive tables.';\n",
              "          element.innerHTML = '';\n",
              "          dataTable['output_type'] = 'display_data';\n",
              "          await google.colab.output.renderOutput(dataTable, element);\n",
              "          const docLink = document.createElement('div');\n",
              "          docLink.innerHTML = docLinkHtml;\n",
              "          element.appendChild(docLink);\n",
              "        }\n",
              "      </script>\n",
              "    </div>\n",
              "  </div>\n",
              "  "
            ]
          },
          "metadata": {},
          "execution_count": 4
        }
      ]
    },
    {
      "cell_type": "code",
      "source": [
        "df.info()\n",
        "#dtype\n",
        "#shape\n",
        "#column names"
      ],
      "metadata": {
        "colab": {
          "base_uri": "https://localhost:8080/"
        },
        "id": "d8hQt0HXwXFM",
        "outputId": "0223ae0c-5bfa-49da-f423-274aa459030c"
      },
      "execution_count": null,
      "outputs": [
        {
          "output_type": "stream",
          "name": "stdout",
          "text": [
            "<class 'pandas.core.frame.DataFrame'>\n",
            "Int64Index: 11646 entries, 0 to 11645\n",
            "Data columns (total 19 columns):\n",
            " #   Column          Non-Null Count  Dtype  \n",
            "---  ------          --------------  -----  \n",
            " 0   suburb          11646 non-null  object \n",
            " 1   address         11646 non-null  object \n",
            " 2   rooms           11646 non-null  int64  \n",
            " 3   type            11646 non-null  object \n",
            " 4   price           11646 non-null  float64\n",
            " 5   method          11646 non-null  object \n",
            " 6   seller_g        11646 non-null  object \n",
            " 7   date            11646 non-null  object \n",
            " 8   distance        11646 non-null  float64\n",
            " 9   postcode        11646 non-null  float64\n",
            " 10  bedroom_2       11646 non-null  float64\n",
            " 11  bathroom        11646 non-null  float64\n",
            " 12  car             11646 non-null  float64\n",
            " 13  land_size       11646 non-null  float64\n",
            " 14  council_area    11646 non-null  object \n",
            " 15  latitude        11646 non-null  float64\n",
            " 16  longitude       11646 non-null  float64\n",
            " 17  region_name     11646 non-null  object \n",
            " 18  property_count  11646 non-null  float64\n",
            "dtypes: float64(10), int64(1), object(8)\n",
            "memory usage: 1.8+ MB\n"
          ]
        }
      ]
    },
    {
      "cell_type": "markdown",
      "source": [
        "**La media o promedio**"
      ],
      "metadata": {
        "id": "s_Y6plnuSuJH"
      }
    },
    {
      "cell_type": "markdown",
      "source": [
        "La media o promedio se obtiene sumando todos los valores de un conjunto de datos numéricos y dividiéndolos entre la cantidad de valores que tenemos en nuestro conjunto.\n",
        "\n",
        "Vamos a analizar la columna price. Veamos cuál es el \"valor típico\" obtenido usando la media (promedio):"
      ],
      "metadata": {
        "id": "n6VsdPSHTAep"
      }
    },
    {
      "cell_type": "code",
      "source": [
        "df['price'].mean()\n"
      ],
      "metadata": {
        "id": "IXOoeKgHTBW2"
      },
      "execution_count": null,
      "outputs": []
    },
    {
      "cell_type": "markdown",
      "source": [
        "**La mediana**"
      ],
      "metadata": {
        "id": "yfKH6VEzTEdA"
      }
    },
    {
      "cell_type": "markdown",
      "source": [
        "La mediana se obtiene de la siguiente manera:\n",
        "\n",
        "1. Primero ordenamos de manera ascendente nuestros datos\n",
        "2. Luego tomamos el valor que está justo en medio de nuestra secuencia ordenada de valores.\n",
        "3. Si nuestro conjunto tiene un número par de valores y por lo tanto no tiene un valor justo a la mitad de la secuencia, se toma el promedio de los dos valores que se encuentran a la mitad de la secuencia.\n",
        "\n",
        "Ahora veamos el \"valor típico\" obtenido usando la mediana:"
      ],
      "metadata": {
        "id": "MO4DNiTATSOd"
      }
    },
    {
      "cell_type": "code",
      "source": [
        "df['price'].median()\n"
      ],
      "metadata": {
        "id": "mcq2VW6fTY3J"
      },
      "execution_count": null,
      "outputs": []
    },
    {
      "cell_type": "markdown",
      "source": [
        "**RETO 1**"
      ],
      "metadata": {
        "id": "IOHXoyR8TjAa"
      }
    },
    {
      "cell_type": "markdown",
      "source": [
        "**a) Implementando estimados de locación**\n",
        "\n",
        "Este Reto va a consistir en implementar el promedio y la mediana sin utilizar los métodos mean y median que vienen incluidos en pandas. Implementar algoritmos desde 0 es una excelente práctica que nos ayuda a entenderlos mejor y recordarlos con más precisión.\n",
        "\n",
        "Puedes utilizar pandas y otras funciones vectorizadas o de reducción. Las únicas funciones que no están permitidas son mean y median. Las dos funciones que vas a crear deben recibir una serie de pandas y regresar un solo número."
      ],
      "metadata": {
        "id": "UOTc9KGTUo4S"
      }
    },
    {
      "cell_type": "code",
      "source": [
        "def promedio_custom(serie):\n",
        "    ## Tu código va aquí\n",
        "    ## ...\n",
        "    ## ...\n",
        "    pass"
      ],
      "metadata": {
        "id": "twJ_Ju0uVAFe"
      },
      "execution_count": null,
      "outputs": []
    },
    {
      "cell_type": "code",
      "source": [
        "def mediana_custom(serie):\n",
        "    ## Tu código va aquí\n",
        "    ## ...\n",
        "    ## ...\n",
        "    pass"
      ],
      "metadata": {
        "id": "xFiu-KF2VBgQ"
      },
      "execution_count": null,
      "outputs": []
    },
    {
      "cell_type": "markdown",
      "source": [
        "**b) Estimados de locación de diámetros de meteoritos**\n",
        "\n",
        "Ahora vamos a utilizar nuestras funciones custom para obtener estimados de locación de un conjunto de datos que contiene información acerca de objetos que orbitaron cerca de la Tierra durante el periodo de enero y febrero de 1995.\n",
        "\n",
        "El dataset se llama 'near_earth_objects-jan_feb_1995-clean.csv' y la columna que vamos a analizar se llama 'estimated_diameter.meters.estimated_diameter_max'. Esta columna contiene el diámetro máximo estimado de cada objeto.\n",
        "\n",
        "El reto es el siguiente:\n",
        "\n",
        "Lee el dataset usando pandas.\n",
        "Obtén el promedio y la mediana usando tus funciones custom y asígnalas a promedio_diametro y mediana_diametro.\n",
        "Corre la celda que contiene el código para verificar tus resultado"
      ],
      "metadata": {
        "id": "4Cy1HlXsVPPH"
      }
    },
    {
      "cell_type": "code",
      "source": [
        "#AQUÍ VA TU CÓDIGO"
      ],
      "metadata": {
        "id": "ttGfD_tEVbQ5"
      },
      "execution_count": null,
      "outputs": []
    },
    {
      "cell_type": "markdown",
      "source": [
        "#**Valores atípicos**\n"
      ],
      "metadata": {
        "id": "wsMFPYgcV1No"
      }
    },
    {
      "cell_type": "markdown",
      "source": [
        "Hemos aprendido a conseguir \"valores típicos\" se sirven para describir un conjunto de datos. Así como existen valores que se parecen a la norma, hay también valores que difieren mucho de la norma. Estos valores suelen sobresalir de nuestro conjunto de datos porque se encuentran a mucha distancia del grueso de las muestras.\n",
        "\n",
        "Estos valores son los \"valores atípicos\". Hay veces en las que tener valores atípicos no nos preocupa, pero otras veces pueden ser peligrosos porque modifican nuestros estimados de locación, dándonos descripciones erróneas de nuestro conjunto de datos.\n",
        "\n",
        "Más adelante aprenderemos a detectar valores atípicos, pero por lo pronto vamos a aprender un estimado de locación que es más robusto (menos sensible a valores atípicos) que el promedio y la mediana: la media truncada.\n",
        "\n"
      ],
      "metadata": {
        "id": "BLSXNFWkV8OV"
      }
    },
    {
      "cell_type": "markdown",
      "source": [
        "**Media Truncada**"
      ],
      "metadata": {
        "id": "XYIdQShQWEv7"
      }
    },
    {
      "cell_type": "markdown",
      "source": [
        "La media truncada es un estimado de locación más robusto que el promedio y la mediana. Esto significa que es menos sensible a valores atípicos. La media truncada se obtiene de la siguiente manera:\n",
        "\n",
        "1. Primero ordenamos nuestro conjunto de manera ascendente.\n",
        "2. Después decidimos qué porcentaje de nuestros datos vamos a truncar. Los valores más comunes suelen variar entre 5% y 25%.\n",
        "3. Divide el porcentaje acordado entre dos y elimina esa fracción de tus datos del inicio y del final de tu secuencia. Por ejemplo, si decides truncar un 5%, elimina el 2.5% de tus datos del inicio de tu secuencia y el otro 2.5% del final de tu secuencia.\n",
        "4. Obtén el promedio de los valores restantes.\n",
        "\n",
        "Afortunadamente, no tenemos que hacer esto manualmente. La librería scipy ya ofrece un método para obtener la media truncada fácilmente:\n",
        "\n"
      ],
      "metadata": {
        "id": "SEMVhKZlWcYN"
      }
    },
    {
      "cell_type": "code",
      "source": [
        "from scipy import stats\n"
      ],
      "metadata": {
        "id": "12BCG1BxVu2E"
      },
      "execution_count": null,
      "outputs": []
    },
    {
      "cell_type": "code",
      "source": [
        "df = pd.read_csv('../../Datasets/melbourne_housing-clean.csv', index_col=0)\n"
      ],
      "metadata": {
        "id": "mNfFdZtcWnrW"
      },
      "execution_count": null,
      "outputs": []
    },
    {
      "cell_type": "code",
      "source": [
        "df.head()\n"
      ],
      "metadata": {
        "id": "oucw26VqWqsD"
      },
      "execution_count": null,
      "outputs": []
    },
    {
      "cell_type": "code",
      "source": [
        "stats.trim_mean(df['price'], 0.1)\n"
      ],
      "metadata": {
        "id": "EY3Wb-NcWuWc"
      },
      "execution_count": null,
      "outputs": []
    },
    {
      "cell_type": "markdown",
      "source": [
        "Si obtenemos el promedio y la mediana podemos observar que la distancia entre la media truncada y la mediana es menor que la distancia entre el promedio y la mediana. Esto podría ser indicador de que tenemos valores atípicos en nuestro conjunto. Ya aprendemos después cómo determinar si esto es cierto o no.\n",
        "\n"
      ],
      "metadata": {
        "id": "tXYju6AKXYYn"
      }
    },
    {
      "cell_type": "markdown",
      "source": [
        "#**Estimados de variabilidad**\n"
      ],
      "metadata": {
        "id": "oleeqyj5Xbba"
      }
    },
    {
      "cell_type": "markdown",
      "source": [
        "Los estimados de locación se utilizan para intentar encontrar un \"valor típico\" que describa adecuadamente nuestro conjunto de datos. Los estimados de variabilidad, en cambio, nos sirven para determinar qué tan dispersos están los datos alrededor de nuestro valor típico. Nuestros datos pueden estar en general o muy cerca o muy distantes del valor típico, y los estimados de variabilidad nos ayudan a determinar esto.\n",
        "\n",
        "Uno de los estimados más utilizados es la desviación estándar. Veamos cómo funciona."
      ],
      "metadata": {
        "id": "PUwdX6RtXgEg"
      }
    },
    {
      "cell_type": "markdown",
      "source": [
        "**Desviación Estándar**"
      ],
      "metadata": {
        "id": "RF3N0VxrXm0K"
      }
    },
    {
      "cell_type": "markdown",
      "source": [
        "Para obtener la desviación estándar se llevan a cabo los siguientes pasos:\n",
        "\n",
        "1. Primero se obtiene el promedio de nuestros datos.\n",
        "2. Después sacamos todas las diferencias entre cada valor de nuesrto conjunto y nuestro valor típico.\n",
        "2. Después elevamos todos los resultados al cuadrado.\n",
        "3. Luego se suman todos estos valores.\n",
        "4. Luego se dividen entre la cantidad de valores - 1.\n",
        "5. Finalmente se saca la raíz cuadrada del valor resultante.\n",
        "\n",
        "pandas tiene un método con el que podemos calcular la desviación estándar rápidamente:"
      ],
      "metadata": {
        "id": "sTe10ATbXqOq"
      }
    },
    {
      "cell_type": "code",
      "source": [
        "df = pd.read_csv('../../Datasets/melbourne_housing-clean.csv', index_col=0)\n"
      ],
      "metadata": {
        "id": "PO0j8-MmYB2M"
      },
      "execution_count": null,
      "outputs": []
    },
    {
      "cell_type": "code",
      "source": [
        "df['price'].std()\n"
      ],
      "metadata": {
        "id": "9fQAAbHMYD_o"
      },
      "execution_count": null,
      "outputs": []
    },
    {
      "cell_type": "markdown",
      "source": [
        "Entre mayor sea nuestro resultado quiere decir que nuestros datos están más dispersos (es decir, hay muchos datos que se alejan de nuestro valor típico); entre menor sea el resultado quiere decir que nuestros datos están menos dispersos (es decir, están más cerca de nuestro valor típico).\n",
        "\n",
        "Obviamente hay que tomar en cuenta el rango de nuestros valores para determinar si nuestra desviación estándar es pequeña o grande. Por ejemplo, una desviación estándar de 10 es muy pequeña si nuestros valores tienen un rango de 1 000 000. En cambio, una desviación estándar de 10 es mucho mayor si nuestros valores tienen un rango de 40."
      ],
      "metadata": {
        "id": "pxGU6wq4YPTa"
      }
    },
    {
      "cell_type": "markdown",
      "source": [
        "**RETO 2**"
      ],
      "metadata": {
        "id": "RUkUGroKZKLJ"
      }
    },
    {
      "cell_type": "markdown",
      "source": [
        "Como ya vimos, la desviación estándar es la medida que nos da la \"desviación típica\" (o esperada) de nuestros datos a comparación del promedio. Eso quiere decir que normalmente vamos a esperar que una gran parte de nuestros datos se encuentren a 1 desviación estándar de distancia del promedio. Entre más nos alejamos, menos muestras deberíamos de encontrar.\n",
        "\n",
        "Vamos a comprobar esto usando nuestro dataset de meteoritos que orbitan cerca de la Tierra. Tu Reto consiste en los siguientes pasos:\n",
        "\n",
        "1. Crea un DataFrame con el dataset 'near_earth_objects-jan_feb_1995-clean.csv'.\n",
        "2. Obtén la cantidad total de muestras en tu DataFrame.\n",
        "3. Obtén la desviación estándar de la columna 'estimated_diameter.meters.estimated_diameter_max'. Los siguientes pasos realízalos todos utilizando esta columna.\n",
        "4. Obtén el porcentaje de muestras que están a una distancia de 1 desviación estándar del promedio.\n",
        "5. Obtén el porcentaje de muestras que están a una distancia de 2 desviaciones estándares del promedio.\n",
        "6. Obtén el porcentaje de muestras que están a una distancia de 3 desviaciones estándares del promedio."
      ],
      "metadata": {
        "id": "wqFfWgMiZMjF"
      }
    },
    {
      "cell_type": "markdown",
      "source": [
        "## Estadísticos de Orden\n",
        "\n"
      ],
      "metadata": {
        "id": "ptWWQvZRZZCt"
      }
    },
    {
      "cell_type": "markdown",
      "source": [
        "Existen otras formas de calcular la dispersión de nuestros datos que requieren que nuestros datos estén ordenados ascendentemente. Estos cálculos nos dan otra perspectiva acerca de la distribución de nuestros datos que puede sernos de mucha utilidad.\n",
        "\n",
        "Tres de los estadísticos de orden más comunes son el Rango, los Percentiles y el Rango intercuartílico. Veamos cómo funcionan."
      ],
      "metadata": {
        "id": "8-4HUl2pZv-O"
      }
    },
    {
      "cell_type": "markdown",
      "source": [
        "**Rango**"
      ],
      "metadata": {
        "id": "99RXKsrVaDNp"
      }
    },
    {
      "cell_type": "markdown",
      "source": [
        "El rango es simplemente la diferencia entre el valor máximo de un conjunto y el valor mínimo de un conjunto. Por lo tanto, podemos obtenerla de esta manera:\n",
        "\n"
      ],
      "metadata": {
        "id": "z6p2yZ6_aI43"
      }
    },
    {
      "cell_type": "code",
      "source": [
        "df = pd.read_csv('../../Datasets/melbourne_housing-clean.csv', index_col=0)\n"
      ],
      "metadata": {
        "id": "iugjlyAAadO7"
      },
      "execution_count": null,
      "outputs": []
    },
    {
      "cell_type": "code",
      "source": [
        "df.head()\n"
      ],
      "metadata": {
        "id": "DgijmhHhaiTw"
      },
      "execution_count": null,
      "outputs": []
    },
    {
      "cell_type": "code",
      "source": [
        "df['price'].max() - df['price'].min()\n"
      ],
      "metadata": {
        "id": "9tWvoeGMakVX"
      },
      "execution_count": null,
      "outputs": []
    },
    {
      "cell_type": "markdown",
      "source": [
        "**Percentiles**"
      ],
      "metadata": {
        "id": "kriRVQw3amgy"
      }
    },
    {
      "cell_type": "markdown",
      "source": [
        "El percentil P es un valor que indica que por lo menos P% de los valores en el conjunto tienen este valor o un valor menor; mientras que (100-P)% de los valores tienen este valor o un valor mayor. Por ejemplo, para obtener el percentil 80 primero ordenamos nuestro conjunto de manera ascendente y después elegimos un valor de manera que el 80% de los valores en nuestro conjunto sean iguales o menores a ese valor.\n",
        "\n",
        "En pandas, los percentiles están implementados como cuantiles, que es lo mismo que los percentiles pero en versión fracciones. Es decir, el percentil 80 es lo mismo que el cuantil 0.8."
      ],
      "metadata": {
        "id": "6XbWODujavYt"
      }
    },
    {
      "cell_type": "code",
      "source": [
        "df['price'].quantile(0.8)\n"
      ],
      "metadata": {
        "id": "2k021mbHazrd"
      },
      "execution_count": null,
      "outputs": []
    },
    {
      "cell_type": "markdown",
      "source": [
        "En este caso, el 80% de los valores en nuestro conjunto de datos tienen un valor menor o igual a 1 440 000.\n",
        "\n",
        "Como podrás ya haber imaginado, el valor mínimo equivale al percentil 0 y el valor máximo equivale al percentil 100, mientras que la mediana es exactamente igual que el percentil 50.\n",
        "\n",
        "Sacando los percentiles podemos darnos una idea más o menos precisa de cómo están distribuidos nuestros datos.\n",
        "\n",
        "Por ejemplo:"
      ],
      "metadata": {
        "id": "rvXf-j5Va4cu"
      }
    },
    {
      "cell_type": "code",
      "source": [
        "print(f'Valor mínimo: {df[\"price\"].min()}')\n",
        "print(f'Percentil 10: {df[\"price\"].quantile(0.1)}')\n",
        "print(f'Percentil 25: {df[\"price\"].quantile(0.25)}')\n",
        "print(f'Percentil 50: {df[\"price\"].median()}')\n",
        "print(f'Percentil 75: {df[\"price\"].quantile(0.75)}')\n",
        "print(f'Percentil 90: {df[\"price\"].quantile(0.9)}')\n",
        "print(f'Valor máximo: {df[\"price\"].max()}')"
      ],
      "metadata": {
        "id": "BWefl7EPa3lP"
      },
      "execution_count": null,
      "outputs": []
    },
    {
      "cell_type": "markdown",
      "source": [
        "Viendo estos números podemos inferir varias cosas:\n",
        "\n",
        "* Casi todos nuestros datos están concentrados en valores menores a 2 000 000.\n",
        "*Eso quiere decir que tenemos algunos valores atípicos demasiado grandes (si los comparamos con el resto de los valores)\n",
        "*La mediana nos estaba dando un número más cercano al verdadero \"valor típico\" que el promedio.\n",
        "*El promedio tenía un sesgo hacia arriba debido a los valores extremadamente grandes.\n",
        "* El rango entre el valor máximo y mínimo no nos da una medida representativa de qué valores pueden tomar nuestros datos.\n"
      ],
      "metadata": {
        "id": "vCha8ke3bRjN"
      }
    },
    {
      "cell_type": "markdown",
      "source": [
        "**Rango intercuartílico**\n"
      ],
      "metadata": {
        "id": "nGJLO1FhbXi3"
      }
    },
    {
      "cell_type": "markdown",
      "source": [
        "Otra medida muy común es lo que llamamos el rango intercuartílico, que es la diferencia entre el percentil 75 y el percentil 25. Este número nos da una idea del rango que tienen los valores más cercanos al valor típico.\n",
        "\n",
        "En nuestro ejemplo, nuestro rango intercuartílico sería:"
      ],
      "metadata": {
        "id": "4sZfnyM_bbKm"
      }
    },
    {
      "cell_type": "code",
      "source": [
        "df[\"price\"].quantile(0.75) - df[\"price\"].quantile(0.25)\n"
      ],
      "metadata": {
        "id": "ZBBMtkCDboJK"
      },
      "execution_count": null,
      "outputs": []
    },
    {
      "cell_type": "markdown",
      "source": [
        "Podemos observar que el rango de los \"valores típicos\" es muchísimo menor al rango total de nuestros datos"
      ],
      "metadata": {
        "id": "an75YxXsbtEy"
      }
    },
    {
      "cell_type": "markdown",
      "source": [
        "**RETO**"
      ],
      "metadata": {
        "id": "YhVYSF2GcB8o"
      }
    },
    {
      "cell_type": "markdown",
      "source": [
        "Percentiles para evaluar nuestro dataset de meteoritos\n",
        "Ahora vamos a aplicar los percentiles a nuestro dataset de objetos que han orbitado cerca de la Tierra. Queremos entender cómo están organizados nuestros datos.\n",
        "\n",
        "En el Reto pasado, usamos la desviación estándar para obtener la \"desviación esperada\" de nuestros datos. Aprendimos que la mayoría de nuestros datos están a una distancia de 1 desviación estándar o menos del promedio. Entre más desviaciones estándares añadíamos, menos datos quedaban fuera de nuestros subconjuntos. Lo que no sabemos es dónde están concentrados nuestros datos.\n",
        "\n",
        "Piensa en lo siguiente:\n",
        "\n",
        "Si tenemos un dataset con rango de 1 a 10, y nuestra desviación estándar es 2.5, los datos pueden estar organizados de maneras muy distintas:\n",
        "\n",
        "* Podría ser que el promedio es 3 y que la mayoría de los datos están en el rango de 0.5 a 5.5. En este caso podría haber datos muy distintos al resto en el parte superior del rango total (los valores entre 5.5 y 10).\n",
        "* Podría ser que el promedio es 7 y que la mayoría de los datos están en el rango de 4.5 a 9.5. En este caso los datos atípicos estarían concentrados en la parte inferior del rango total.\n",
        "* Podría ser que el promedio es 5 y que la mayoría de los datos están concentrados en el rango de 2.5 a 7.5. En este caso, lo más normal es que los datos estén alrededor del valor que está justo a la mitad del rango total y es cada vez más raro encontrar datos muy pequeños o muy grandes.\n",
        "\n",
        "Hay muchas otras posibilidades, pero lo importante es darse cuenta de que saber solamente la desviación estándar nos da aún una descripción muy ambigua de nuestros datos. Saber el promedio ya es un primer indicador de lo que está pasando en realidad. Pero saber además los percentiles nos puede dar una idea muchísimo más clara de cómo están acomodados nuestros datos.\n",
        "\n",
        "Lee el dataset 'near_earth_objects-jan_feb_1995-clean.csv' y obtén percentiles de la columna 'estimated_diameter.meters.estimated_diameter_max'. Comenta tus hipótesis acerca de qué podemos aprender sobre la organización de nuestros datos usando los percentiles.\n",
        "\n"
      ],
      "metadata": {
        "id": "Lz1gbroOcKDi"
      }
    },
    {
      "cell_type": "markdown",
      "source": [
        "# **Introducción a la visualización de datos: Distribuciones**"
      ],
      "metadata": {
        "id": "-FFe7_ZFcu7z"
      }
    },
    {
      "cell_type": "markdown",
      "source": [
        "Si tomamos el valor mínimo y el valor máximo de nuestro conjunto de datos tenemos el rango dentro del cual están contenidos todos nuestros datos. Pero dentro de ese rango los valores pueden estar distribuidos de muchas maneras distintas. A veces están muy cerca del valor mínimo, a veces están muy cerca del valor máximo; a veces se amontonan casi todos alrededor de la mediana y sólo unos pocos toman los valores extremos; a veces generan incluso dos \"montículos\" alrededor de los cuales se concentran la mayoría de los datos. Hay muchísimas posibilidades.\n",
        "\n",
        "Usando valores individuales es imposible tener una idea general de nuestro conjunto y es por eso que solemos utilizar algunas técnicas que toman en cuenta todo el conjunto de datos al mismo tiempo. Hoy vamos a aprender cómo a través de la visualización de datos podemos darnos una idea mucho más precisa de cómo están organizados los datos en nuestro conjunto."
      ],
      "metadata": {
        "id": "9wiCzV9zcw5T"
      }
    },
    {
      "cell_type": "markdown",
      "source": [
        "**BOXPLOTS**"
      ],
      "metadata": {
        "id": "f-37DAIzdB84"
      }
    },
    {
      "cell_type": "markdown",
      "source": [
        "Los Boxplots (o diagramas de caja) son una manera de visualizar nuestros datos de forma que la organización de los percentiles se haga muy evidente.\n",
        "\n",
        "Los Boxplots nos ayudan a discernir si nuestros datos están sesgados (si tienen una tendencia), si están dispersos o agrupados y si existen valores atípicos con valores extremos. "
      ],
      "metadata": {
        "id": "Ie134mdNdG-z"
      }
    },
    {
      "cell_type": "code",
      "source": [
        "import seaborn as sns\n",
        "import matplotlib.pyplot as plt\n",
        "import pandas as pd"
      ],
      "metadata": {
        "id": "F6P4sd56dTpD"
      },
      "execution_count": null,
      "outputs": []
    },
    {
      "cell_type": "code",
      "source": [
        "df = pd.read_csv('../../Datasets/melbourne_housing-clean.csv', index_col=0)\n"
      ],
      "metadata": {
        "id": "T6mAdYYbdVYI"
      },
      "execution_count": null,
      "outputs": []
    },
    {
      "cell_type": "code",
      "source": [
        "sns.set(style=\"whitegrid\")\n",
        "sns.boxplot(x=df['price'])"
      ],
      "metadata": {
        "id": "fLCXF4j6dXuf"
      },
      "execution_count": null,
      "outputs": []
    },
    {
      "cell_type": "markdown",
      "source": [
        "¿Qué significa todo esto?\n",
        "\n",
        "* La caja está delimitada por 2 valores: El percentil 25 y el percentil 75.\n",
        "* La línea vertical dentro de la caja indica el percentil 50 (o sea, la mediana).\n",
        "* Los \"bigotes\" intentan abarcar el resto de los datos a la izquierda y derecha de la caja, PERO no se extienden más allá de una distancia equivalente a 1.5 * Rango Intercuartílico. Como bien recordarás, el rango intercuartílico es la diferencia entre el percentil 75 y el percentil 25. Si multiplicamos 1.5 por ese Rango Intercuartílico obtenemos el tamaño máximo de los bigotes.\n",
        "* Los puntos individuales que están fuera de los bigotes son, obviamente, las muestras cuyo valor excede el tamaño máximo de los bigotes. No podemos tomar esto como una \"Regla Absoluta\", pero en general se considera que estos valores son los valores atípicos de nuestro conjunto.\n",
        "\n",
        "Como puedes ver, esta gráfica nos da muchísima información muy útil.\n",
        "\n",
        "* Ahora sabemos que la mayoría de nuestros datos están concentrados en valores menores a 2 000 000 y que los precios muy altos son anomalías en nuestro conjunto.\n",
        "* Sabemos que, dentro del rango total de los datos, tenemos una distribución que tiende hacia los valores más pequeños.\n",
        "*También sabemos que nuestros datos en general están muy concentrados (o sea, poco dispersos), pero que hay una \"colita\" de datos hacia la derecha que se extiende bastante lejos.\n",
        "\n",
        "Vamos a ver qué pasa si graficamos una línea vertical justo donde está el promedio de nuestros datos. Para esto vamos a usar matplotlib, otra librería de visualizaciones de datos que aprenderemos a detalle más adelante:"
      ],
      "metadata": {
        "id": "k8b3KSPPdcDC"
      }
    },
    {
      "cell_type": "code",
      "source": [
        "sns.set(style=\"whitegrid\")\n",
        "sns.boxplot(x=df['price'])\n",
        "plt.axvline(df['price'].mean(), c='y')"
      ],
      "metadata": {
        "id": "Z3KfPqXHdv5o"
      },
      "execution_count": null,
      "outputs": []
    },
    {
      "cell_type": "markdown",
      "source": [
        "Como puedes ver, a pesar de los valores atípicos tan extremos, tenemos tantos valores en el rango menor de nuestros datos que el promedio queda bastante cercano a la mediana.\n",
        "\n",
        "Los valores atípicos pueden significar múltiples cosas:\n",
        "\n",
        "* A veces son errores de medición\n",
        "* A veces son errores humanos de transcripción\n",
        "* Podrían ser simplemente anomalías naturales causadas por fenómenos aleatorios\n",
        "* O podrían tener un significado más profundo: por ejemplo, la riqueza de alguien como Carlos Slim es una anomalía en este país, pero que es un indicador de desigualdad muy fuerte que nos da información útil acerca de la distribución de la riqueza\n",
        "\n",
        "Decidir cómo lidiar con estos valores atípicos (si eliminarlos o dejarlos) depende totalmente del contexto.\n",
        "\n",
        "Dado que nuestro análisis de este conjunto aún no es muy profundo, por el momento vamos a asumir la posición de eliminar estos datos, solamente para ver cómo se haría este proceso."
      ],
      "metadata": {
        "id": "URSQpv8ddzw_"
      }
    },
    {
      "cell_type": "markdown",
      "source": [
        "**Rango Intercuartílico y valores atípicos**"
      ],
      "metadata": {
        "id": "2YYbNDi1d7F8"
      }
    },
    {
      "cell_type": "markdown",
      "source": [
        "Podemos utilizar la medida que utiliza el boxplot para limitar el tamaño de los bigotes y filtrar todos los datos que excedan ese límite. A esta medida se le suele llamar el Score de Rango Intercuartílico (IQR-Score). De esa manera estamos filtrando los valores atípicos (al menos lo que se considera valores atípicos bajo este esquema).\n",
        "\n"
      ],
      "metadata": {
        "id": "OdM1fMoud_ID"
      }
    },
    {
      "cell_type": "code",
      "source": [
        "iqr = df['price'].quantile(0.75) - df['price'].quantile(0.25)\n",
        "filtro_inferior = df['price'] > df['price'].quantile(0.25) - (iqr * 1.5)\n",
        "filtro_superior = df['price'] < df['price'].quantile(0.75) + (iqr * 1.5)\n",
        "\n",
        "df_filtrado = df[filtro_inferior & filtro_superior]"
      ],
      "metadata": {
        "id": "XYzPHsMBjzHn"
      },
      "execution_count": null,
      "outputs": []
    },
    {
      "cell_type": "code",
      "source": [
        "sns.boxplot(df_filtrado['price'])\n"
      ],
      "metadata": {
        "id": "3AP1LMiQj1Ji"
      },
      "execution_count": null,
      "outputs": []
    },
    {
      "cell_type": "markdown",
      "source": [
        "**Tabla de frecuencias**\n",
        "\n"
      ],
      "metadata": {
        "id": "XB-HenVLmLZK"
      }
    },
    {
      "cell_type": "markdown",
      "source": [
        "Los percentiles segmentan nuestros datos en segmentos de distinto tamaño en los que tenemos el mismo número de muestras. En cambio, las tablas de frecuencias segmentan nuestros datos en segmentos que miden lo mismo pero que contienen una cantidad distinta de muestras.\n",
        "\n",
        "Esto puede darnos otra perspectiva de nuestros datos que también resulta muy útil. Vamos a aprender a generar una tabla de frecuencias usando pandas.\n",
        "\n"
      ],
      "metadata": {
        "id": "LSnrYkxLnZuu"
      }
    },
    {
      "cell_type": "code",
      "source": [
        "prices = df['price']\n",
        "prices.max() - prices.min()"
      ],
      "metadata": {
        "id": "Qm4OnPItoA9r"
      },
      "execution_count": null,
      "outputs": []
    },
    {
      "cell_type": "markdown",
      "source": [
        "Tomando en cuenta nuestro rango, vamos a decidir dividir nuestro conjunto en 20 segmentos. Usemos ahora nuestro método cut para segmentar nuestros datos.\n",
        "\n"
      ],
      "metadata": {
        "id": "Kq192JrmpYI7"
      }
    },
    {
      "cell_type": "code",
      "source": [
        "pd.cut(prices, 20)\n"
      ],
      "metadata": {
        "id": "KXK_0SuGpeq2"
      },
      "execution_count": null,
      "outputs": []
    },
    {
      "cell_type": "markdown",
      "source": [
        "¿Qué acaba de suceder? pd.cut toma el rango completo de nuestros datos, y luego crea 20 segmentos de igual tamaño. Después, revisa uno por uno nuestros datos, los ubica en uno de los segmentos y nos regresa una Serie donde tenemos cada índice clasificado en el segmento que lo toca.\n",
        "\n",
        "Ahora, para dividir nuestro dataset por segmentos, podemos utilizar pd.groupby y pasarle la Serie que obtuvimos. Lo que hace groupby en este caso es leer la clasificación de cada índice y agruparlos de manera que todas las muestras que pertencen a la misma clasificación queden juntas.\n",
        "\n",
        "Después de agruparlos, podemos usar un count para saber cuántas muestras hay en cada grupo:"
      ],
      "metadata": {
        "id": "s04ADIe4pi-j"
      }
    },
    {
      "cell_type": "code",
      "source": [
        "segmentos = pd.cut(prices, 20)\n",
        "\n",
        "df['price'].groupby(segmentos).count()"
      ],
      "metadata": {
        "id": "9cLrCKzBq3L5"
      },
      "execution_count": null,
      "outputs": []
    }
  ]
}