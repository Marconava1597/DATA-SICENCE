{
  "nbformat": 4,
  "nbformat_minor": 0,
  "metadata": {
    "colab": {
      "provenance": []
    },
    "kernelspec": {
      "name": "python3",
      "display_name": "Python 3"
    },
    "language_info": {
      "name": "python"
    }
  },
  "cells": [
    {
      "cell_type": "markdown",
      "source": [
        "# **Introducción a la visualización de datos: Distribuciones**"
      ],
      "metadata": {
        "id": "-FFe7_ZFcu7z"
      }
    },
    {
      "cell_type": "markdown",
      "source": [
        "Si tomamos el valor mínimo y el valor máximo de nuestro conjunto de datos tenemos el rango dentro del cual están contenidos todos nuestros datos. Pero dentro de ese rango los valores pueden estar distribuidos de muchas maneras distintas. A veces están muy cerca del valor mínimo, a veces están muy cerca del valor máximo; a veces se amontonan casi todos alrededor de la mediana y sólo unos pocos toman los valores extremos; a veces generan incluso dos \"montículos\" alrededor de los cuales se concentran la mayoría de los datos. Hay muchísimas posibilidades.\n",
        "\n",
        "Usando valores individuales es imposible tener una idea general de nuestro conjunto y es por eso que solemos utilizar algunas técnicas que toman en cuenta todo el conjunto de datos al mismo tiempo. Hoy vamos a aprender cómo a través de la visualización de datos podemos darnos una idea mucho más precisa de cómo están organizados los datos en nuestro conjunto."
      ],
      "metadata": {
        "id": "9wiCzV9zcw5T"
      }
    },
    {
      "cell_type": "markdown",
      "source": [
        "**BOXPLOTS**"
      ],
      "metadata": {
        "id": "f-37DAIzdB84"
      }
    },
    {
      "cell_type": "markdown",
      "source": [
        "Los Boxplots (o diagramas de caja) son una manera de visualizar nuestros datos de forma que la organización de los percentiles se haga muy evidente.\n",
        "\n",
        "Los Boxplots nos ayudan a discernir si nuestros datos están sesgados (si tienen una tendencia), si están dispersos o agrupados y si existen valores atípicos con valores extremos. "
      ],
      "metadata": {
        "id": "Ie134mdNdG-z"
      }
    },
    {
      "cell_type": "code",
      "source": [
        "import seaborn as sns\n",
        "import matplotlib.pyplot as plt\n",
        "import pandas as pd"
      ],
      "metadata": {
        "id": "F6P4sd56dTpD"
      },
      "execution_count": null,
      "outputs": []
    },
    {
      "cell_type": "code",
      "source": [
        "df = pd.read_csv('../../Datasets/melbourne_housing-clean.csv', index_col=0)\n"
      ],
      "metadata": {
        "id": "T6mAdYYbdVYI"
      },
      "execution_count": null,
      "outputs": []
    },
    {
      "cell_type": "code",
      "source": [],
      "metadata": {
        "id": "O85X6eDMvn9x"
      },
      "execution_count": null,
      "outputs": []
    },
    {
      "cell_type": "code",
      "source": [
        "sns.set(style=\"whitegrid\")\n",
        "sns.boxplot(x=df['price'])"
      ],
      "metadata": {
        "id": "fLCXF4j6dXuf",
        "colab": {
          "base_uri": "https://localhost:8080/",
          "height": 302
        },
        "outputId": "09b28f2c-8467-40ed-f10f-eccbaa7ade53"
      },
      "execution_count": null,
      "outputs": [
        {
          "output_type": "execute_result",
          "data": {
            "text/plain": [
              "<AxesSubplot:xlabel='price'>"
            ]
          },
          "metadata": {},
          "execution_count": 51
        },
        {
          "output_type": "display_data",
          "data": {
            "text/plain": [
              "<Figure size 432x288 with 1 Axes>"
            ],
            "image/png": "[encoded data removed]"
          },
          "metadata": {}
        }
      ]
    },
    {
      "cell_type": "markdown",
      "source": [
        "¿Qué significa todo esto?\n",
        "\n",
        "* La caja está delimitada por 2 valores: El percentil 25 y el percentil 75.\n",
        "* La línea vertical dentro de la caja indica el percentil 50 (o sea, la mediana).\n",
        "* Los \"bigotes\" intentan abarcar el resto de los datos a la izquierda y derecha de la caja, PERO no se extienden más allá de una distancia equivalente a 1.5 * Rango Intercuartílico. Como bien recordarás, el rango intercuartílico es la diferencia entre el percentil 75 y el percentil 25. Si multiplicamos 1.5 por ese Rango Intercuartílico obtenemos el tamaño máximo de los bigotes.\n",
        "* Los puntos individuales que están fuera de los bigotes son, obviamente, las muestras cuyo valor excede el tamaño máximo de los bigotes. No podemos tomar esto como una \"Regla Absoluta\", pero en general se considera que estos valores son los valores atípicos de nuestro conjunto.\n",
        "\n",
        "Como puedes ver, esta gráfica nos da muchísima información muy útil.\n",
        "\n",
        "* Ahora sabemos que la mayoría de nuestros datos están concentrados en valores menores a 2 000 000 y que los precios muy altos son anomalías en nuestro conjunto.\n",
        "* Sabemos que, dentro del rango total de los datos, tenemos una distribución que tiende hacia los valores más pequeños.\n",
        "*También sabemos que nuestros datos en general están muy concentrados (o sea, poco dispersos), pero que hay una \"colita\" de datos hacia la derecha que se extiende bastante lejos.\n",
        "\n",
        "Vamos a ver qué pasa si graficamos una línea vertical justo donde está el promedio de nuestros datos. Para esto vamos a usar matplotlib, otra librería de visualizaciones de datos que aprenderemos a detalle más adelante:"
      ],
      "metadata": {
        "id": "k8b3KSPPdcDC"
      }
    },
    {
      "cell_type": "code",
      "source": [
        "sns.set(style=\"whitegrid\")\n",
        "sns.boxplot(x=df['price'])\n",
        "plt.axvline(df['price'].mean(), c='y')"
      ],
      "metadata": {
        "id": "Z3KfPqXHdv5o",
        "colab": {
          "base_uri": "https://localhost:8080/",
          "height": 302
        },
        "outputId": "7dc26909-7dd7-47c8-8802-9bc74de597bd"
      },
      "execution_count": null,
      "outputs": [
        {
          "output_type": "execute_result",
          "data": {
            "text/plain": [
              "<matplotlib.lines.Line2D at 0x7ff1d186ed30>"
            ]
          },
          "metadata": {},
          "execution_count": 54
        },
        {
          "output_type": "display_data",
          "data": {
            "text/plain": [
              "<Figure size 432x288 with 1 Axes>"
            ],
            "image/png": "[encoded data removed]"
          },
          "metadata": {}
        }
      ]
    },
    {
      "cell_type": "markdown",
      "source": [
        "Como puedes ver, a pesar de los valores atípicos tan extremos, tenemos tantos valores en el rango menor de nuestros datos que el promedio queda bastante cercano a la mediana.\n",
        "\n",
        "Los valores atípicos pueden significar múltiples cosas:\n",
        "\n",
        "* A veces son errores de medición\n",
        "* A veces son errores humanos de transcripción\n",
        "* Podrían ser simplemente anomalías naturales causadas por fenómenos aleatorios\n",
        "* O podrían tener un significado más profundo: por ejemplo, la riqueza de alguien como Carlos Slim es una anomalía en este país, pero que es un indicador de desigualdad muy fuerte que nos da información útil acerca de la distribución de la riqueza\n",
        "\n",
        "Decidir cómo lidiar con estos valores atípicos (si eliminarlos o dejarlos) depende totalmente del contexto.\n",
        "\n",
        "Dado que nuestro análisis de este conjunto aún no es muy profundo, por el momento vamos a asumir la posición de eliminar estos datos, solamente para ver cómo se haría este proceso."
      ],
      "metadata": {
        "id": "URSQpv8ddzw_"
      }
    },
    {
      "cell_type": "markdown",
      "source": [
        "**Rango Intercuartílico y valores atípicos**"
      ],
      "metadata": {
        "id": "2YYbNDi1d7F8"
      }
    },
    {
      "cell_type": "markdown",
      "source": [
        "Podemos utilizar la medida que utiliza el boxplot para limitar el tamaño de los bigotes y filtrar todos los datos que excedan ese límite. A esta medida se le suele llamar el Score de Rango Intercuartílico (IQR-Score). De esa manera estamos filtrando los valores atípicos (al menos lo que se considera valores atípicos bajo este esquema).\n",
        "\n"
      ],
      "metadata": {
        "id": "OdM1fMoud_ID"
      }
    },
    {
      "cell_type": "code",
      "source": [
        "iqr = df['price'].quantile(0.75) - df['price'].quantile(0.25)\n"
      ],
      "metadata": {
        "id": "Rg--Ipg8y_m5"
      },
      "execution_count": null,
      "outputs": []
    },
    {
      "cell_type": "code",
      "source": [
        "filtro = df['price'] >= (df['price'].quantile(0.75) + 1.5*iqr)\n",
        "df_filtrado = df[filtro]"
      ],
      "metadata": {
        "id": "M3K7_w4U0Nbc"
      },
      "execution_count": null,
      "outputs": []
    },
    {
      "cell_type": "code",
      "source": [
        "sns.boxplot(df_filtrado['price'])"
      ],
      "metadata": {
        "colab": {
          "base_uri": "https://localhost:8080/",
          "height": 357
        },
        "id": "OHhMkczJ0WkK",
        "outputId": "cd506fb9-c7bc-44f5-a12c-4b8f740bdac9"
      },
      "execution_count": null,
      "outputs": [
        {
          "output_type": "stream",
          "name": "stderr",
          "text": [
            "/usr/local/lib/python3.8/dist-packages/seaborn/_decorators.py:36: FutureWarning: Pass the following variable as a keyword arg: x. From version 0.12, the only valid positional argument will be `data`, and passing other arguments without an explicit keyword will result in an error or misinterpretation.\n",
            "  warnings.warn(\n"
          ]
        },
        {
          "output_type": "execute_result",
          "data": {
            "text/plain": [
              "<AxesSubplot:xlabel='price'>"
            ]
          },
          "metadata": {},
          "execution_count": 67
        },
        {
          "output_type": "display_data",
          "data": {
            "text/plain": [
              "<Figure size 432x288 with 1 Axes>"
            ],
            "image/png": "[encoded data removed]"
          },
          "metadata": {}
        }
      ]
    },
    {
      "cell_type": "code",
      "source": [
        "iqr = df['price'].quantile(0.75) - df['price'].quantile(0.25)\n",
        "filtro_inferior = df['price'] >500000\n",
        "filtro_superior = df['price'] < 1500000\n",
        "\n",
        "df_filtrado = df[filtro_inferior & filtro_superior]"
      ],
      "metadata": {
        "id": "XYzPHsMBjzHn"
      },
      "execution_count": null,
      "outputs": []
    },
    {
      "cell_type": "code",
      "source": [
        "sns.boxplot(df_filtrado['price'])\n"
      ],
      "metadata": {
        "id": "3AP1LMiQj1Ji",
        "colab": {
          "base_uri": "https://localhost:8080/",
          "height": 357
        },
        "outputId": "ce0c8384-9781-4f11-d588-7e8e36780738"
      },
      "execution_count": null,
      "outputs": [
        {
          "output_type": "stream",
          "name": "stderr",
          "text": [
            "/usr/local/lib/python3.8/dist-packages/seaborn/_decorators.py:36: FutureWarning: Pass the following variable as a keyword arg: x. From version 0.12, the only valid positional argument will be `data`, and passing other arguments without an explicit keyword will result in an error or misinterpretation.\n",
            "  warnings.warn(\n"
          ]
        },
        {
          "output_type": "execute_result",
          "data": {
            "text/plain": [
              "<AxesSubplot:xlabel='price'>"
            ]
          },
          "metadata": {},
          "execution_count": 57
        },
        {
          "output_type": "display_data",
          "data": {
            "text/plain": [
              "<Figure size 432x288 with 1 Axes>"
            ],
            "image/png": "[encoded data removed]"
          },
          "metadata": {}
        }
      ]
    },
    {
      "cell_type": "markdown",
      "source": [
        "**RETO**"
      ],
      "metadata": {
        "id": "0rK-w5qqHrpP"
      }
    },
    {
      "cell_type": "markdown",
      "source": [
        "Vamos a hacer algunas gráficas de boxplot y describirlas en equipo. Usa Seaborn para generar gráficas boxplot de los siguientes datasets y columnas:\n",
        "\n",
        "* Dataset: 'near_earth_objects-jan_feb_1995-clean.csv'\n",
        "\n",
        "* Columnas a graficar: 'estimated_diameter.meters.estimated_diameter_max' y 'relative_velocity.kilometers_per_second'"
      ],
      "metadata": {
        "id": "Lu1-DzEoHuTl"
      }
    },
    {
      "cell_type": "code",
      "source": [
        "df_1 = pd.read_csv('/content/drive/MyDrive/Remoto Datasets/Remoto near_earth_objects-jan_feb_1995-clean.csv', index_col=0)\n",
        "c1 = df_1['estimated_diameter.meters.estimated_diameter_max']\n",
        "c2 =  df_1['relative_velocity.kilometers_per_second']\n"
      ],
      "metadata": {
        "id": "vvvzdXg_3ZQs"
      },
      "execution_count": null,
      "outputs": []
    },
    {
      "cell_type": "code",
      "source": [
        "sns.boxplot(c1)"
      ],
      "metadata": {
        "colab": {
          "base_uri": "https://localhost:8080/",
          "height": 357
        },
        "id": "tYYao73w3xfJ",
        "outputId": "59f8e2f7-e7b4-423b-def0-7bb201c3fd1a"
      },
      "execution_count": null,
      "outputs": [
        {
          "output_type": "stream",
          "name": "stderr",
          "text": [
            "/usr/local/lib/python3.8/dist-packages/seaborn/_decorators.py:36: FutureWarning: Pass the following variable as a keyword arg: x. From version 0.12, the only valid positional argument will be `data`, and passing other arguments without an explicit keyword will result in an error or misinterpretation.\n",
            "  warnings.warn(\n"
          ]
        },
        {
          "output_type": "execute_result",
          "data": {
            "text/plain": [
              "<AxesSubplot:xlabel='estimated_diameter.meters.estimated_diameter_max'>"
            ]
          },
          "metadata": {},
          "execution_count": 71
        },
        {
          "output_type": "display_data",
          "data": {
            "text/plain": [
              "<Figure size 432x288 with 1 Axes>"
            ],
            "image/png": "[encoded data removed]"
          },
          "metadata": {}
        }
      ]
    },
    {
      "cell_type": "code",
      "source": [
        "sns.boxplot(c2)"
      ],
      "metadata": {
        "colab": {
          "base_uri": "https://localhost:8080/",
          "height": 357
        },
        "id": "2XZlG0Uw31T2",
        "outputId": "d4d1e475-adb8-45c4-ca18-9d63be5c7f31"
      },
      "execution_count": null,
      "outputs": [
        {
          "output_type": "stream",
          "name": "stderr",
          "text": [
            "/usr/local/lib/python3.8/dist-packages/seaborn/_decorators.py:36: FutureWarning: Pass the following variable as a keyword arg: x. From version 0.12, the only valid positional argument will be `data`, and passing other arguments without an explicit keyword will result in an error or misinterpretation.\n",
            "  warnings.warn(\n"
          ]
        },
        {
          "output_type": "execute_result",
          "data": {
            "text/plain": [
              "<AxesSubplot:xlabel='relative_velocity.kilometers_per_second'>"
            ]
          },
          "metadata": {},
          "execution_count": 72
        },
        {
          "output_type": "display_data",
          "data": {
            "text/plain": [
              "<Figure size 432x288 with 1 Axes>"
            ],
            "image/png": "[encoded data removed]"
          },
          "metadata": {}
        }
      ]
    },
    {
      "cell_type": "markdown",
      "source": [
        "**b) Eliminando valores atípicos**\n",
        "\n",
        "A partir de las visualizaciones que realizaste en el punto anterior, decide en cuáles columnas tenemos valores atípicos que pueden estorbarnos en nuestro análisis. Elimina dichos valores atípicos usando el Score de Rango Intercuartílico. Puedes probar variando un poco la medida del Score (1.5 * IQR) para eliminar solamente los valores que tú consideras como extremos.\n",
        "\n",
        "Para observar los cambios a detalle, obtén la mediana, la media y la desviación estándar de tus datos antes y después de eliminar los valores atípicos. Compara estos valores y explica qué es lo que está pasando.\n",
        "\n",
        "Grafica de nuevo tus datos sin valores atípicos para compararlos con las gráficas anteriores."
      ],
      "metadata": {
        "id": "p4S1hlX6H8To"
      }
    },
    {
      "cell_type": "code",
      "source": [
        "iqr = c1.quantile(.75) - c1.quantile(.25)\n",
        "filtrado_inferior = c1 >= c1.quantile(.25) - 1.5*iqr\n",
        "filtrado_superior = c1 <= c1.quantile(.75) + 1.5*iqr\n",
        "d_filtrado = df_1[filtrado_inferior & filtrado_superior]"
      ],
      "metadata": {
        "id": "-bTi2nWL4GsP"
      },
      "execution_count": null,
      "outputs": []
    },
    {
      "cell_type": "code",
      "source": [
        "sns.boxplot(d_filtrado['estimated_diameter.meters.estimated_diameter_max'])"
      ],
      "metadata": {
        "colab": {
          "base_uri": "https://localhost:8080/",
          "height": 357
        },
        "id": "o-Fo2KXv5HbR",
        "outputId": "c817b07a-026d-46de-afbf-2ed4de6513c2"
      },
      "execution_count": null,
      "outputs": [
        {
          "output_type": "stream",
          "name": "stderr",
          "text": [
            "/usr/local/lib/python3.8/dist-packages/seaborn/_decorators.py:36: FutureWarning: Pass the following variable as a keyword arg: x. From version 0.12, the only valid positional argument will be `data`, and passing other arguments without an explicit keyword will result in an error or misinterpretation.\n",
            "  warnings.warn(\n"
          ]
        },
        {
          "output_type": "execute_result",
          "data": {
            "text/plain": [
              "<AxesSubplot:xlabel='estimated_diameter.meters.estimated_diameter_max'>"
            ]
          },
          "metadata": {},
          "execution_count": 81
        },
        {
          "output_type": "display_data",
          "data": {
            "text/plain": [
              "<Figure size 432x288 with 1 Axes>"
            ],
            "image/png": "[encoded data removed]"
          },
          "metadata": {}
        }
      ]
    },
    {
      "cell_type": "markdown",
      "source": [
        "**Tabla de frecuencias**\n",
        "\n"
      ],
      "metadata": {
        "id": "XB-HenVLmLZK"
      }
    },
    {
      "cell_type": "markdown",
      "source": [
        "Los percentiles segmentan nuestros datos en segmentos de distinto tamaño en los que tenemos el mismo número de muestras. En cambio, las tablas de frecuencias segmentan nuestros datos en segmentos que miden lo mismo pero que contienen una cantidad distinta de muestras.\n",
        "\n",
        "Esto puede darnos otra perspectiva de nuestros datos que también resulta muy útil. Vamos a aprender a generar una tabla de frecuencias usando pandas.\n",
        "\n"
      ],
      "metadata": {
        "id": "LSnrYkxLnZuu"
      }
    },
    {
      "cell_type": "code",
      "source": [
        "prices = df['price']\n",
        "prices.max() - prices.min()"
      ],
      "metadata": {
        "id": "Qm4OnPItoA9r"
      },
      "execution_count": null,
      "outputs": []
    },
    {
      "cell_type": "markdown",
      "source": [
        "Tomando en cuenta nuestro rango, vamos a decidir dividir nuestro conjunto en 20 segmentos. Usemos ahora nuestro método cut para segmentar nuestros datos.\n",
        "\n"
      ],
      "metadata": {
        "id": "Kq192JrmpYI7"
      }
    },
    {
      "cell_type": "code",
      "source": [
        "pd.cut(prices, 20)\n"
      ],
      "metadata": {
        "id": "KXK_0SuGpeq2"
      },
      "execution_count": null,
      "outputs": []
    },
    {
      "cell_type": "markdown",
      "source": [
        "¿Qué acaba de suceder? pd.cut toma el rango completo de nuestros datos, y luego crea 20 segmentos de igual tamaño. Después, revisa uno por uno nuestros datos, los ubica en uno de los segmentos y nos regresa una Serie donde tenemos cada índice clasificado en el segmento que lo toca.\n",
        "\n",
        "Ahora, para dividir nuestro dataset por segmentos, podemos utilizar pd.groupby y pasarle la Serie que obtuvimos. Lo que hace groupby en este caso es leer la clasificación de cada índice y agruparlos de manera que todas las muestras que pertencen a la misma clasificación queden juntas.\n",
        "\n",
        "Después de agruparlos, podemos usar un count para saber cuántas muestras hay en cada grupo:"
      ],
      "metadata": {
        "id": "s04ADIe4pi-j"
      }
    },
    {
      "cell_type": "code",
      "source": [
        "segmentos = pd.cut(prices, 20)\n",
        "\n",
        "df['price'].groupby(segmentos).count()"
      ],
      "metadata": {
        "id": "9cLrCKzBq3L5"
      },
      "execution_count": null,
      "outputs": []
    },
    {
      "cell_type": "markdown",
      "source": [
        "**HISTOGRAMAS**"
      ],
      "metadata": {
        "id": "L162T8W2CbT9"
      }
    },
    {
      "cell_type": "markdown",
      "source": [
        "Vamos a generar un histograma segmentando nuestros datos en 20 segmentos (o bins).\n",
        "\n"
      ],
      "metadata": {
        "id": "eywcnZkMCh0a"
      }
    },
    {
      "cell_type": "code",
      "source": [
        "import pandas as pd\n",
        "import seaborn as sns\n"
      ],
      "metadata": {
        "id": "Y8FD33vFCT4_"
      },
      "execution_count": null,
      "outputs": []
    },
    {
      "cell_type": "code",
      "source": [
        "df = pd.read_csv('../../Datasets/melbourne_housing-clean.csv', index_col=0)\n",
        "df.head()"
      ],
      "metadata": {
        "id": "IfBHyDiVCfwL"
      },
      "execution_count": null,
      "outputs": []
    },
    {
      "cell_type": "code",
      "source": [
        "sns.set(style='white')"
      ],
      "metadata": {
        "id": "VCg558WyCvck"
      },
      "execution_count": null,
      "outputs": []
    },
    {
      "cell_type": "code",
      "source": [
        "sns.distplot(df['price'], kde=False, norm_hist=False, bins=20)\n"
      ],
      "metadata": {
        "id": "So6mXiC_CxdF"
      },
      "execution_count": null,
      "outputs": []
    },
    {
      "cell_type": "markdown",
      "source": [
        "* La bandera kde=False evita que se grafique también la densidad de probabilidad (que veremos más adelante).\n",
        "* norm_hist=False sirve para que nuestro eje y indique los conteos de nuestros segmentos.\n",
        "* bins=20 indica el número de segmentos."
      ],
      "metadata": {
        "id": "bWsN4vbuC4h6"
      }
    },
    {
      "cell_type": "code",
      "source": [
        "sns.set(style='ticks')\n",
        "sns.distplot(df['price'], kde=False, norm_hist=False, bins=100)"
      ],
      "metadata": {
        "id": "oEiHYuiKDAsh"
      },
      "execution_count": null,
      "outputs": []
    },
    {
      "cell_type": "markdown",
      "source": [
        "**DESCRIBIENDO HISTOGRAMAS**"
      ],
      "metadata": {
        "id": "qN8N2S_0DCCb"
      }
    },
    {
      "cell_type": "code",
      "source": [
        "import numpy as np\n",
        "import seaborn as sns\n",
        "from scipy.stats import skew, kurtosis\n",
        "\n",
        "sns.set(style='white')"
      ],
      "metadata": {
        "id": "kLMT9yYOD8Za"
      },
      "execution_count": null,
      "outputs": []
    },
    {
      "cell_type": "markdown",
      "source": [
        "Vamos a ver algunas formas comunes que pueden tener nuestros histogramas. Normalmente las gráficas que obtengamos con datos provenientes del mundo real no encajan a la perfección con estas formas, pero ayuda tener referencias para poder describir nuestras gráficas.\n",
        "\n",
        "Solemos describir nuestros datos utilizando dos parámetros: asimetría y curtosis."
      ],
      "metadata": {
        "id": "hDxfqjZbD7O-"
      }
    },
    {
      "cell_type": "markdown",
      "source": [
        "**a) Asimetría (skewness)**\n",
        "\n",
        "La asimetría nos da una medida de la falta de simetría en una distribución. Una distribución es simétrica si se ve igual a la izquierda y derecha del punto central.\n",
        "\n",
        "* Una asimetría de 0 indica que la simetría de la distribución es perfecta.\n",
        "\n",
        "* Números positivos indican que hay una asimetría positiva, es decir que la cola de la derecha es más larga que la cola de la izquierda.\n",
        "\n",
        "* Números negativos indican que hay una asimetría negativa, es decir que la cola de la izquierda es más larga que la cola de la derecha"
      ],
      "metadata": {
        "id": "wELOQr7fEA22"
      }
    },
    {
      "cell_type": "markdown",
      "source": [
        "**b) Curtosis (kurtosis)**\n",
        "\n",
        "La curtosis es una medida de la dispersión de nuestros datos. La curtosis nos dice qué tan escarpada o achatada está nuestra distribución.\n",
        "\n",
        "* Curtosis de 0 indica que la dispersión de nuestros datos es normal (más adelante aprenderemos exactamente qué significa esto).\n",
        "\n",
        "* Curtosis positiva indica que nuestra distribución está achatada. Esto implica que hay más dispersión de nuestros datos, que están más lejanos de nuestro punto central y que por lo tanto tenemos colas largas (comparadas con la cola normal).\n",
        "\n",
        "* Curtosis negativa indica que nuestra distribución está escarpada. Esto implica que hay menos dispersión de nuestros datos, que están más cercanos a nuestro punto central y que por lo tanto tenemos colas cortas (comparadas con la cola normal).\n",
        "\n",
        "No todas las técnicas para medida curtosis establecen la normalidad en 0, pero nosotros vamos a utilizar la default en scipy y pandas."
      ],
      "metadata": {
        "id": "82IqYxKlEdu8"
      }
    },
    {
      "cell_type": "markdown",
      "source": [
        "\n",
        "Para calcular las medidas de curtosis y asimetría usaremos los métodos kurtosis y skew de la librería scipy.stats.\n",
        "\n",
        "Usando estas definiciones estamos listos para visualizar algunas distribuciones con características distintas:"
      ],
      "metadata": {
        "id": "PfgqCfmKEwPc"
      }
    },
    {
      "cell_type": "markdown",
      "source": [
        "**Distribución Normal (Standard Normal)**"
      ],
      "metadata": {
        "id": "mSU1tIuwExVW"
      }
    },
    {
      "cell_type": "markdown",
      "source": [
        "La distribución normal es una de las más famosas y más utilizadas. Muchos de los análisis estadísticos que hacemos toman a la distribución normal como un \"estándar\". Hay algunas medidas que incluso requieren que la distribución sea normal para funcionar. A través de este módulo nos toparemos varias veces con esta distribución y la exploraremos más a profundidad. Por el momento basta saber que la distribución normal tiene una asimetría de 0 y una curtosis de 0 (usando el método default de scipy y pandas.\n",
        "\n",
        "Otra cosa interesante es que la distribución normal estándar tiene un promedio de 0, una mediana de 0, una moda de 0 y una desviación estándar de 1. Esto implica que el 68% de los datos están a 1 desviación estándar de la media y el 95% de los datos están a 2 desviaciones estándares de la media.\n",
        "\n",
        "Esta distribución se ve así:"
      ],
      "metadata": {
        "id": "cqUmbJg4FKoV"
      }
    },
    {
      "cell_type": "code",
      "source": [
        "normal = np.random.normal(loc=0, scale=5, size=10000)\n"
      ],
      "metadata": {
        "id": "ZwjQqWp1FUF2"
      },
      "execution_count": null,
      "outputs": []
    },
    {
      "cell_type": "code",
      "source": [
        "sns.distplot(normal, kde=False, norm_hist=False);\n"
      ],
      "metadata": {
        "id": "ws1JcPyyFWh8"
      },
      "execution_count": null,
      "outputs": []
    },
    {
      "cell_type": "code",
      "source": [
        "print(f'Curtosis: {kurtosis(normal)}')\n",
        "print(f'Asimetría: {skew(normal)}')"
      ],
      "metadata": {
        "id": "Ve890FC2FYvO"
      },
      "execution_count": null,
      "outputs": []
    },
    {
      "cell_type": "markdown",
      "source": [
        "**Distribuciones de cola corta (short-tailed)**\n",
        "\n",
        "Las distribuciones de cola corta se concentran mucho en el punto central y casi no se extienden hacia los lados. Es raro en realidad encontrar distribuciones de cola corta, pero así se vería una:"
      ],
      "metadata": {
        "id": "QYKK_5wfFcCl"
      }
    },
    {
      "cell_type": "code",
      "source": [
        "cola_corta = np.array([2, 2, 3, 3, 3, 3, 3, 3, 4, 4, 4, 4, 4, 4, 4, 4, 5, 5, 5, 5, 5, 5, 5, 5, 6, 6, 6, 6, 6, 6, 6, 7, 7, 7, 7, 7, 8, 8, 8])"
      ],
      "metadata": {
        "id": "Js9FTaH9FeVX"
      },
      "execution_count": null,
      "outputs": []
    },
    {
      "cell_type": "code",
      "source": [
        "sns.distplot(cola_corta, kde=False, norm_hist=False, bins=7);"
      ],
      "metadata": {
        "id": "sQnFdz62FibY"
      },
      "execution_count": null,
      "outputs": []
    },
    {
      "cell_type": "code",
      "source": [
        "print(f'Curtosis: {kurtosis(cola_corta)}')\n",
        "print(f'Asimetría: {skew(cola_corta)}')"
      ],
      "metadata": {
        "id": "saGlYB6iFkbY"
      },
      "execution_count": null,
      "outputs": []
    },
    {
      "cell_type": "markdown",
      "source": [
        "**Distribuciones de cola larga (fat-tailed)**"
      ],
      "metadata": {
        "id": "XV_K0lUtFmh3"
      }
    },
    {
      "cell_type": "code",
      "source": [
        "cola_larga = np.random.laplace(loc=0.0, scale=1, size=10000)"
      ],
      "metadata": {
        "id": "0-yluTsBFn35"
      },
      "execution_count": null,
      "outputs": []
    },
    {
      "cell_type": "code",
      "source": [
        "sns.distplot(cola_larga, kde=False, norm_hist=False);"
      ],
      "metadata": {
        "id": "wKLcDenYFq2F"
      },
      "execution_count": null,
      "outputs": []
    },
    {
      "cell_type": "code",
      "source": [
        "print(f'Curtosis: {kurtosis(cola_larga)}')\n",
        "print(f'Asimetría: {skew(cola_larga)}')"
      ],
      "metadata": {
        "id": "Aqeo_J3qFs2I"
      },
      "execution_count": null,
      "outputs": []
    },
    {
      "cell_type": "markdown",
      "source": [
        "**Asimetría Positiva (right-skewed)**"
      ],
      "metadata": {
        "id": "_oZ84-V5Fviz"
      }
    },
    {
      "cell_type": "code",
      "source": [
        "asimetria_positiva = np.random.exponential(scale=1.0, size=10000)"
      ],
      "metadata": {
        "id": "D59O1ikUFys8"
      },
      "execution_count": null,
      "outputs": []
    },
    {
      "cell_type": "code",
      "source": [
        "sns.distplot(asimetria_positiva, kde=False, norm_hist=False);\n"
      ],
      "metadata": {
        "id": "YP5vIo-jFzkn"
      },
      "execution_count": null,
      "outputs": []
    },
    {
      "cell_type": "code",
      "source": [
        "print(f'Curtosis: {kurtosis(asimetria_positiva)}')\n",
        "print(f'Asimetría: {skew(asimetria_positiva)}')"
      ],
      "metadata": {
        "id": "U33Xa9w3F57B"
      },
      "execution_count": null,
      "outputs": []
    },
    {
      "cell_type": "markdown",
      "source": [
        "**Asimetría negativa (left-skewed)**\n"
      ],
      "metadata": {
        "id": "PCUlq7icF97b"
      }
    },
    {
      "cell_type": "code",
      "source": [
        "asimetria_negativa = np.random.chisquare(4, size=10000) * -1"
      ],
      "metadata": {
        "id": "gyVBEcMFGBca"
      },
      "execution_count": null,
      "outputs": []
    },
    {
      "cell_type": "code",
      "source": [
        "sns.distplot(asimetria_negativa, kde=False, norm_hist=False);"
      ],
      "metadata": {
        "id": "CFp60gcfGDvx"
      },
      "execution_count": null,
      "outputs": []
    },
    {
      "cell_type": "code",
      "source": [
        "print(f'Curtosis: {kurtosis(asimetria_negativa)}')\n",
        "print(f'Asimetría: {skew(asimetria_negativa)}')"
      ],
      "metadata": {
        "id": "Lo1_rjooGF2g"
      },
      "execution_count": null,
      "outputs": []
    },
    {
      "cell_type": "markdown",
      "source": [
        "**Distribución bimodal y multimodal**\n"
      ],
      "metadata": {
        "id": "jJi4so1hG2m1"
      }
    },
    {
      "cell_type": "markdown",
      "source": [
        "Hay veces que no tenemos un solo pico en nuestros datos. Puede suceder que haya dos o más concentraciones de valores en nuestros datos. A esto le llamamos distribuciones bimodales (cuando hay 2 concentraciones) y multimodales (cuando hay más de 2).\n",
        "\n",
        "Debemos de ser muy cuidadosos al usar las medidas de curtosis y asimetría con este tipo de distribuciones, ya que pueden darnos ideas erróneas de lo que realmente está sucediendo."
      ],
      "metadata": {
        "id": "3cBLOz9MG2qK"
      }
    },
    {
      "cell_type": "code",
      "source": [
        "normal_left = np.random.normal(loc=-2.5, scale=1, size=10000)\n",
        "normal_right = np.random.normal(loc=2.5, scale=1, size=10000)\n",
        "bimodal = np.concatenate([normal_left, normal_right])"
      ],
      "metadata": {
        "id": "ZUqkle3AHBCZ"
      },
      "execution_count": null,
      "outputs": []
    },
    {
      "cell_type": "code",
      "source": [
        "sns.distplot(bimodal, kde=False, norm_hist=False);"
      ],
      "metadata": {
        "id": "CUTayFIiHJc_"
      },
      "execution_count": null,
      "outputs": []
    },
    {
      "cell_type": "code",
      "source": [
        "print(f'Curtosis: {kurtosis(bimodal)}')\n",
        "print(f'Asimetría: {skew(bimodal)}')"
      ],
      "metadata": {
        "id": "4LmgrUxPHNPH"
      },
      "execution_count": null,
      "outputs": []
    },
    {
      "cell_type": "markdown",
      "source": [
        "**GRÁFICAS DE DENSIDAD**"
      ],
      "metadata": {
        "id": "di1gazlnIb3E"
      }
    },
    {
      "cell_type": "code",
      "source": [
        "import numpy as np\n",
        "import seaborn as sns\n",
        "\n",
        "sns.set(style='whitegrid')"
      ],
      "metadata": {
        "id": "gQ0wQUUQJWe1"
      },
      "execution_count": null,
      "outputs": []
    },
    {
      "cell_type": "code",
      "source": [
        "laplace = np.random.laplace(loc=0.0, scale=1, size=10000)\n",
        "sns.distplot(laplace, hist=False);"
      ],
      "metadata": {
        "id": "3Linhn6_Jgfz"
      },
      "execution_count": null,
      "outputs": []
    },
    {
      "cell_type": "code",
      "source": [
        "chisquare = np.random.chisquare(4, size=10000)\n",
        "sns.distplot(chisquare, hist=False)"
      ],
      "metadata": {
        "id": "VkMhHG9VJioj"
      },
      "execution_count": null,
      "outputs": []
    },
    {
      "cell_type": "code",
      "source": [
        "sns.set(style='white')\n",
        "\n",
        "normal_1 = np.random.normal(loc=-2, scale=3, size=10000)\n",
        "normal_2 = np.random.normal(loc=4.5, scale=1, size=10000)\n",
        "exponential = np.random.exponential(scale=1.0, size=10000) - 1\n",
        "\n",
        "sns.distplot(normal_1, hist = False, kde_kws = {'shade': True})\n",
        "sns.distplot(normal_2, hist = False, kde_kws = {'shade': True})\n",
        "sns.distplot(exponential, hist = False, kde_kws = {'shade': True})"
      ],
      "metadata": {
        "id": "4G9AziHtJk6y"
      },
      "execution_count": null,
      "outputs": []
    },
    {
      "cell_type": "markdown",
      "source": [
        "**ANOTANDO NUESTRAS GRÁFICAS**"
      ],
      "metadata": {
        "id": "j-F_alaj0Oty"
      }
    },
    {
      "cell_type": "markdown",
      "source": [
        "Vamos a aprender a añadir anotaciones a nuestras gráficas para que sean mucho más comprensibles.\n",
        "\n"
      ],
      "metadata": {
        "id": "VchnsfPl0SSV"
      }
    },
    {
      "cell_type": "code",
      "source": [
        "import pandas as pd\n",
        "import matplotlib.pyplot as plt\n",
        "import seaborn as sns\n",
        "sns.set(style='white')"
      ],
      "metadata": {
        "id": "eSWn7Abz0VsH"
      },
      "execution_count": null,
      "outputs": []
    },
    {
      "cell_type": "code",
      "source": [
        "df = pd.read_csv('../../Datasets/athlete_olympic_events-clean.csv', index_col=0)\n",
        "\n",
        "df.head()"
      ],
      "metadata": {
        "id": "CQ7_7FNj0XV_"
      },
      "execution_count": null,
      "outputs": []
    },
    {
      "cell_type": "code",
      "source": [
        "ax = sns.distplot(df['age'], kde=False, norm_hist=False)\n",
        "ax.set(title='Edades de atletas que participaron en los Juegos Olímpicos', xlabel='edad', ylabel='conteo');"
      ],
      "metadata": {
        "id": "VhOe2ekK1kXj"
      },
      "execution_count": null,
      "outputs": []
    },
    {
      "cell_type": "markdown",
      "source": [
        "\n",
        "Observa que he colocado un punto y coma al final de la última línea. Esto se hace para que Jupyter Notebooks no me muestre el output de la última línea, ya que esto ensuciaría un poco mi visualización.\n",
        "\n",
        "En el caso de que tengamos dos o más gráficas (o categorías) al mismo tiempo, podemos añadir una leyenda a nuestra gráfica para poder diferenciar nuestros datos:"
      ],
      "metadata": {
        "id": "J5yzhPRq1r-T"
      }
    },
    {
      "cell_type": "code",
      "source": [
        "by_athlete = df.groupby(level=0)[['age', 'height', 'weight']].mean()\n",
        "sex = df.groupby(level=0)['sex'].last()\n",
        "merged = by_athlete.merge(sex, left_index=True, right_index=True)\n",
        "males = by_athlete[merged['sex'] == 'M']\n",
        "females = by_athlete[merged['sex'] == 'F']"
      ],
      "metadata": {
        "id": "KVu8Ck6z1uCe"
      },
      "execution_count": null,
      "outputs": []
    },
    {
      "cell_type": "code",
      "source": [
        "ax = sns.distplot(males['height'], hist=False, kde_kws = {'shade': True}, label='hombres')\n",
        "sns.distplot(females['height'], hist=False, kde_kws = {'shade': True}, ax=ax, label='mujeres')\n",
        "ax.set_title('Distribuciones de alturas de atletas masculinos y femeninos', fontsize=13, pad=15);\n",
        "ax.set(xlabel='altura');\n",
        "ax.legend(loc='upper right');"
      ],
      "metadata": {
        "id": "v4v-yWHH1upQ"
      },
      "execution_count": null,
      "outputs": []
    },
    {
      "cell_type": "markdown",
      "source": [
        "En la gráfica anterior usamos el método set_title en vez del genérico set para poder agregar el tamaño de la letra (fontsize) y el tamaño de la separación entre el título y la gráfica (pad)."
      ],
      "metadata": {
        "id": "-qvJ-oey1z24"
      }
    },
    {
      "cell_type": "markdown",
      "source": [
        "Cada vez que creas una nueva gráfica con seaborn, esta gráfica está contenida dentro de algo que llamamos figures en matplotlib. Una figure puede contener múltiples gráficas. Cada que generas una gráfica con seaborn, una nueva figure se genera automáticamente. Podemos generar manualmente la figure para después utilizarla para personalizar nuestra gráfica. Para determinar el tamaño de nuestra gráfica podemos hacer lo siguiente:"
      ],
      "metadata": {
        "id": "vw-4OsSW16bL"
      }
    },
    {
      "cell_type": "code",
      "source": [
        "fig = plt.figure(figsize=(10, 10))\n",
        "ax = sns.distplot(df['age'], kde=False, norm_hist=False)\n",
        "ax.set_title('Edades de atletas que participaron en los Juegos Olímpicos', fontsize=20, pad=15)\n",
        "ax.set(xlabel='edad', ylabel='conteo');"
      ],
      "metadata": {
        "id": "OBvzD9wU15tV"
      },
      "execution_count": null,
      "outputs": []
    },
    {
      "cell_type": "markdown",
      "source": [
        "**GRÁFICA DE BARRAS**"
      ],
      "metadata": {
        "id": "WYwnl-BS2Bz9"
      }
    },
    {
      "cell_type": "code",
      "source": [
        "df = pd.read_json('../../Datasets/zomato_reviews-clean.json')\n",
        "\n",
        "df.head()"
      ],
      "metadata": {
        "id": "j07i3NR_2EkA"
      },
      "execution_count": null,
      "outputs": []
    },
    {
      "cell_type": "code",
      "source": [
        "df['user_rating'].unique()"
      ],
      "metadata": {
        "id": "mymIyJfI2IG-"
      },
      "execution_count": null,
      "outputs": []
    },
    {
      "cell_type": "code",
      "source": [
        "df['user_rating'].nunique()"
      ],
      "metadata": {
        "id": "H30PicnN2LWw"
      },
      "execution_count": null,
      "outputs": []
    },
    {
      "cell_type": "markdown",
      "source": [
        "Ahora, para poder graficar nuestra variable como gráfica de barras necesitamos los conteos de frecuencias de cada categoría (es decir, cuántas veces aparece cada categoría. Para eso pandas nos ofrece un método llamado value_counts:"
      ],
      "metadata": {
        "id": "GwXdoJtg2NxE"
      }
    },
    {
      "cell_type": "code",
      "source": [
        "df['user_rating'].value_counts()"
      ],
      "metadata": {
        "id": "L8qNYhND2Q1C"
      },
      "execution_count": null,
      "outputs": []
    },
    {
      "cell_type": "markdown",
      "source": [
        "El método nos regresa una Serie con los nombres de la categorías como índices y los conteos como valores. Esta tabla la podemos usar para generar nuestra gráfica:\n",
        "\n"
      ],
      "metadata": {
        "id": "5kh-_VX22S-V"
      }
    },
    {
      "cell_type": "code",
      "source": [
        "counts = df['user_rating'].value_counts()\n"
      ],
      "metadata": {
        "id": "88DyAeua2VHr"
      },
      "execution_count": null,
      "outputs": []
    },
    {
      "cell_type": "code",
      "source": [
        "ax = sns.barplot(counts.index, counts)\n",
        "ax.set_title('Conteo de Ratings de restaurantes')\n",
        "ax.set(ylabel='count');"
      ],
      "metadata": {
        "id": "8KWi7b_d2W3c"
      },
      "execution_count": null,
      "outputs": []
    },
    {
      "cell_type": "markdown",
      "source": [
        "Ahora, si queremos que el eje y sean porcentajes en vez de conteos, podemos simplemente transformar nuestra Serie counts con una simple regla de 3:\n",
        "\n"
      ],
      "metadata": {
        "id": "vmYN-HiZ2Zo5"
      }
    },
    {
      "cell_type": "code",
      "source": [
        "counts * 100 / counts.sum()\n"
      ],
      "metadata": {
        "id": "OdP6CFJw2bgr"
      },
      "execution_count": null,
      "outputs": []
    },
    {
      "cell_type": "code",
      "source": [
        "as_percentages = counts * 100 / counts.sum()\n"
      ],
      "metadata": {
        "id": "CxINbgWR2dF0"
      },
      "execution_count": null,
      "outputs": []
    },
    {
      "cell_type": "code",
      "source": [
        "ax = sns.barplot(as_percentages.index, as_percentages)\n",
        "ax.set_title('Conteo de Ratings de restaurantes(como porcentajes)')\n",
        "ax.set(ylabel='porcentaje del total');"
      ],
      "metadata": {
        "id": "oLTledVp2e6o"
      },
      "execution_count": null,
      "outputs": []
    },
    {
      "cell_type": "code",
      "source": [
        "ax = sns.barplot(as_percentages.index, as_percentages)\n",
        "ax.set_title('Conteo de Ratings de restaurantes(como porcentajes)')\n",
        "ax.set(ylabel='porcentaje del total')\n",
        "ax.set_xticklabels(ax.get_xticklabels(), rotation=50);"
      ],
      "metadata": {
        "id": "ukMUauiu2gq0"
      },
      "execution_count": null,
      "outputs": []
    },
    {
      "cell_type": "markdown",
      "source": [
        "Hay veces que resulta más cómodo y comprensible acomodar nuestras barras de manera horizontal. Esto puede hacerse muy fácilmente agregando la bandera orient='h' y cambiando el orden de nuestros inputs:"
      ],
      "metadata": {
        "id": "NhG7pdgp2jDz"
      }
    },
    {
      "cell_type": "code",
      "source": [
        "ax = sns.barplot(as_percentages, as_percentages.index, orient='h')\n",
        "ax.set_title('Conteo de Ratings de restaurantes(como porcentajes)')\n",
        "ax.set(xlabel='porcentaje del total');"
      ],
      "metadata": {
        "id": "5va5CQPf2jae"
      },
      "execution_count": null,
      "outputs": []
    },
    {
      "cell_type": "markdown",
      "source": [
        "**La Moda**\n"
      ],
      "metadata": {
        "id": "1eECDOhW2mR1"
      }
    },
    {
      "cell_type": "markdown",
      "source": [
        "La moda es el \"valor típico\" de nuestra variable categórica. Representa la categoría que más veces aparece en nuestro conjunto de datos.\n",
        "\n",
        "Podemos extraer la moda de la tabla de value_counts o de la gráfica de barras, pero pandas también ofrece un método para obtenerla fácilmente:"
      ],
      "metadata": {
        "id": "Ee8VYc1T2nrV"
      }
    },
    {
      "cell_type": "code",
      "source": [
        "df['user_rating'].mode()\n"
      ],
      "metadata": {
        "id": "C_RALtUw2qjJ"
      },
      "execution_count": null,
      "outputs": []
    },
    {
      "cell_type": "markdown",
      "source": [
        "BOXPLOTS Y VIOLINPLOTS"
      ],
      "metadata": {
        "id": "7ZR0R67J24y9"
      }
    },
    {
      "cell_type": "code",
      "source": [
        "import pandas as pd\n",
        "import seaborn as sns\n",
        "import matplotlib.pyplot as plt\n",
        "sns.set_style('white')"
      ],
      "metadata": {
        "id": "BJDOWg8U27Mj"
      },
      "execution_count": null,
      "outputs": []
    },
    {
      "cell_type": "code",
      "source": [
        "df = pd.read_csv('../../Datasets/athlete_olympic_events-clean.csv', index_col=0)\n",
        "\n",
        "df.head()"
      ],
      "metadata": {
        "id": "EZVizXik28zG"
      },
      "execution_count": null,
      "outputs": []
    },
    {
      "cell_type": "code",
      "source": [
        "by_athlete = df.groupby(level=0)[['age', 'height', 'weight']].mean()\n",
        "sex = df.groupby(level=0)['sex'].last()\n",
        "merged = by_athlete.merge(sex, left_index=True, right_index=True)"
      ],
      "metadata": {
        "id": "mDwEMEYB2-oR"
      },
      "execution_count": null,
      "outputs": []
    },
    {
      "cell_type": "code",
      "source": [
        "merged"
      ],
      "metadata": {
        "id": "lkWuhByT3Afi"
      },
      "execution_count": null,
      "outputs": []
    },
    {
      "cell_type": "code",
      "source": [
        "sns.boxplot(df['weight'])\n"
      ],
      "metadata": {
        "id": "Bm7IiiP93ChP"
      },
      "execution_count": null,
      "outputs": []
    },
    {
      "cell_type": "code",
      "source": [
        "plt.figure(figsize=(5, 10))\n",
        "sns.boxplot(data=merged, x='sex', y='weight');"
      ],
      "metadata": {
        "id": "O9rhq1Uu3ENx"
      },
      "execution_count": null,
      "outputs": []
    },
    {
      "cell_type": "markdown",
      "source": [
        "También podemos explorar las distribuciones usando un violinplot. Un violinplot es muy parecido a un boxplot, pero la diferencia es que en vez de graficar frecuencias grafica estimados de densidad. ¿Recuerdas las gráficas de densidad que utilizamos para hacer los histogramas más 'suaves' y poder comparar dos histogramas al mismo tiempo? Bueno, un violinplot es básicamente un boxplot mezclado con una gráfica de densidad.\n",
        "\n",
        "En un violinplot es mucho más fácil ver ciertos detalles en la distribución de los datos que no es posible ver en los boxplots (ya que un boxplot no tiene mucha flexibilidad en cuanto a figuras se refiere). En cambio, en un violinplot es mucho más difícil ver los valores atípicos y dónde se encuentran ubicados."
      ],
      "metadata": {
        "id": "dbknMciV3G1h"
      }
    },
    {
      "cell_type": "code",
      "source": [
        "plt.figure(figsize=(5, 10))\n",
        "sns.violinplot(data=merged, x='sex', y='weight');"
      ],
      "metadata": {
        "id": "TZjTcGto3JBI"
      },
      "execution_count": null,
      "outputs": []
    }
  ]
}