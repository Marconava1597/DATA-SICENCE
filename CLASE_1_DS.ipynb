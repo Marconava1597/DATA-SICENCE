{
  "nbformat": 4,
  "nbformat_minor": 0,
  "metadata": {
    "colab": {
      "provenance": [],
      "collapsed_sections": [
        "pH42BP6rtwQs",
        "wax9AgNguFq7",
        "ueLuGctNvrM0",
        "cwzE1ckjuHwd",
        "Vx9Lx6lplnVR",
        "nn6PvmALHyQj",
        "Ct03xs_dZqGx"
      ]
    },
    "kernelspec": {
      "name": "python3",
      "display_name": "Python 3"
    },
    "language_info": {
      "name": "python"
    }
  },
  "cells": [
    {
      "cell_type": "markdown",
      "source": [
        "# FUNDAMENTOS DE PYTHON"
      ],
      "metadata": {
        "id": "pH42BP6rtwQs"
      }
    },
    {
      "cell_type": "markdown",
      "source": [
        "## VARIABLES EN PYTHON"
      ],
      "metadata": {
        "id": "wax9AgNguFq7"
      }
    },
    {
      "cell_type": "markdown",
      "source": [
        "1. Objetivos:\n",
        "* Entender cuál es la sintaxis de la asignación de variables en Python\n",
        "* Aprender la convención de nombramiento de variables\n",
        "\n",
        "\n"
      ],
      "metadata": {
        "id": "l2qiuajfu_fA"
      }
    },
    {
      "cell_type": "markdown",
      "source": [
        "En Python usamos variables para asignarles contenido que queremos utilizar después.\n",
        "\n",
        "* La sintaxis es:\n",
        "\n",
        "nombre_de_variable = valor\n",
        "\n",
        "valor puede ser muchas cosas, que ya iremos aprendiendo poco a poco."
      ],
      "metadata": {
        "id": "UyxpzwfovDcQ"
      }
    },
    {
      "cell_type": "markdown",
      "source": [
        "Las siguientes son nombres posibles de variables en Python:\n",
        "\n",
        "* var_1\n",
        "* variable_2\n",
        "* variable_dos\n",
        "* variable_nueva_3\n",
        "* esta_es_una_variable_nueva\n",
        "* variableDos\n",
        "* EstaEsUnaVariable\n",
        "\n",
        "Los siguientes son nombres inválidos para una variable de Python:\n",
        "\n",
        "* 1_2\n",
        "* 1_variable\n",
        "* Soy una variable"
      ],
      "metadata": {
        "id": "Ne6s2_CPuKod"
      }
    },
    {
      "cell_type": "code",
      "source": [
        "var_1 = 35\n",
        "var_2 = 650\n",
        "variable_3 = 10\n",
        "variable_nueva_4 = 20"
      ],
      "metadata": {
        "id": "tgEE0AZPxH-9"
      },
      "execution_count": null,
      "outputs": []
    },
    {
      "cell_type": "code",
      "source": [
        "marco = \"Bienvenidos al curso\"\n",
        "entero = 23\n",
        "decimal = 34.4343\n",
        "vf = True"
      ],
      "metadata": {
        "id": "XRvE5ASbyc2B"
      },
      "execution_count": null,
      "outputs": []
    },
    {
      "cell_type": "markdown",
      "source": [
        "¿Qué sucede si quiero ver en pantalla alguna de las variables que hemos declarado? "
      ],
      "metadata": {
        "id": "DNJR3idAyNcy"
      }
    },
    {
      "cell_type": "code",
      "source": [
        "var_1"
      ],
      "metadata": {
        "id": "nibpFeCcyR6N",
        "colab": {
          "base_uri": "https://localhost:8080/"
        },
        "outputId": "321848c4-58ed-4f74-c610-78d5a5694414"
      },
      "execution_count": null,
      "outputs": [
        {
          "output_type": "execute_result",
          "data": {
            "text/plain": [
              "35"
            ]
          },
          "metadata": {},
          "execution_count": 4
        }
      ]
    },
    {
      "cell_type": "code",
      "source": [
        "var_2"
      ],
      "metadata": {
        "id": "b3_0S7XlyTxD",
        "colab": {
          "base_uri": "https://localhost:8080/"
        },
        "outputId": "e6f13c02-014e-41a7-8e88-c74597bdda0d"
      },
      "execution_count": null,
      "outputs": [
        {
          "output_type": "execute_result",
          "data": {
            "text/plain": [
              "650"
            ]
          },
          "metadata": {},
          "execution_count": 5
        }
      ]
    },
    {
      "cell_type": "code",
      "source": [
        "marco"
      ],
      "metadata": {
        "id": "-5LpJlyUyU73",
        "colab": {
          "base_uri": "https://localhost:8080/",
          "height": 35
        },
        "outputId": "a9d46189-9808-4dae-e215-3a7123d8a513"
      },
      "execution_count": null,
      "outputs": [
        {
          "output_type": "execute_result",
          "data": {
            "text/plain": [
              "'Bienvenidos al curso'"
            ],
            "application/vnd.google.colaboratory.intrinsic+json": {
              "type": "string"
            }
          },
          "metadata": {},
          "execution_count": 6
        }
      ]
    },
    {
      "cell_type": "code",
      "source": [
        "vf"
      ],
      "metadata": {
        "id": "9hhuLFw4yVxX",
        "colab": {
          "base_uri": "https://localhost:8080/"
        },
        "outputId": "24655eb9-db29-4773-db83-99d0726e2b13"
      },
      "execution_count": null,
      "outputs": [
        {
          "output_type": "execute_result",
          "data": {
            "text/plain": [
              "True"
            ]
          },
          "metadata": {},
          "execution_count": 7
        }
      ]
    },
    {
      "cell_type": "markdown",
      "source": [
        "Notemos el error que nos deja la siguiente línea de código"
      ],
      "metadata": {
        "id": "VOfh4kN8ybmx"
      }
    },
    {
      "cell_type": "code",
      "source": [
        "decimal_nueva"
      ],
      "metadata": {
        "id": "Uzl_ZPywyXv0",
        "colab": {
          "base_uri": "https://localhost:8080/",
          "height": 166
        },
        "outputId": "cde07412-3a05-43c6-be4f-776bf18eb164"
      },
      "execution_count": null,
      "outputs": [
        {
          "output_type": "error",
          "ename": "NameError",
          "evalue": "ignored",
          "traceback": [
            "\u001b[0;31m---------------------------------------------------------------------------\u001b[0m",
            "\u001b[0;31mNameError\u001b[0m                                 Traceback (most recent call last)",
            "\u001b[0;32m<ipython-input-8-2f625ec9b220>\u001b[0m in \u001b[0;36m<module>\u001b[0;34m\u001b[0m\n\u001b[0;32m----> 1\u001b[0;31m \u001b[0mdecimal_nueva\u001b[0m\u001b[0;34m\u001b[0m\u001b[0;34m\u001b[0m\u001b[0m\n\u001b[0m",
            "\u001b[0;31mNameError\u001b[0m: name 'decimal_nueva' is not defined"
          ]
        }
      ]
    },
    {
      "cell_type": "markdown",
      "source": [
        "## OPERACIONES NÚMERICAS"
      ],
      "metadata": {
        "id": "ueLuGctNvrM0"
      }
    },
    {
      "cell_type": "markdown",
      "source": [
        "En Python podemos realizar operaciones matemáticas de una forma muy sencilla. Simplemente tenemos que usar los operadores aritméticos que ya conocemos para hacer operaciones entre las variables que hayamos definido previamente. Los operadores aritméticos en Python son los siguientes:"
      ],
      "metadata": {
        "id": "Ds5GutWdvxqg"
      }
    },
    {
      "cell_type": "markdown",
      "source": [
        "* Suma  + \n",
        "* Multiplicación  * \n",
        "* Resta  - \n",
        "* Potencia **\n",
        "* División  / \n",
        "* Módulo % (Simplemente es el residuo)\n",
        "\n"
      ],
      "metadata": {
        "id": "EFGYrrB6wX0F"
      }
    },
    {
      "cell_type": "markdown",
      "source": [
        "Veremos algunos ejemplos"
      ],
      "metadata": {
        "id": "a7g5Gxebwr3J"
      }
    },
    {
      "cell_type": "code",
      "source": [
        "suma = 3+3\n",
        "print(\" La suma de 3 + 3 es \",suma)"
      ],
      "metadata": {
        "id": "Rv4FPYLzwunn"
      },
      "execution_count": null,
      "outputs": []
    },
    {
      "cell_type": "code",
      "source": [
        "resta = 5-19\n",
        "print(\" La resta de 5 - 19 es \", resta)"
      ],
      "metadata": {
        "id": "c4qPiB1Hw8wK"
      },
      "execution_count": null,
      "outputs": []
    },
    {
      "cell_type": "code",
      "source": [
        "producto =  4 * 3\n",
        "print(\" El producto de 4 por 3 es \", producto)"
      ],
      "metadata": {
        "id": "G3FxUU7Jw-AH"
      },
      "execution_count": null,
      "outputs": []
    },
    {
      "cell_type": "code",
      "source": [
        "potencia = 2 ** 4   # Lo que hace es multiplicar 4 veces 2, es decir, 2*2*2*2 = 16\n",
        "print( \" La potencia de 2 elevado a la 4 \", potencia)"
      ],
      "metadata": {
        "id": "j4NgG_u0w_XY"
      },
      "execution_count": null,
      "outputs": []
    },
    {
      "cell_type": "code",
      "source": [
        "division = 4 / 5\n",
        "print(\"La divisón de 4 entre 5 es \", division)"
      ],
      "metadata": {
        "id": "rpQT81eex9Y3"
      },
      "execution_count": null,
      "outputs": []
    },
    {
      "cell_type": "code",
      "source": [
        "modulo = 53%8\n",
        "print(\"El módulo (residuo) de 53%8 es \", modulo)"
      ],
      "metadata": {
        "id": "6GCk1048yHGt"
      },
      "execution_count": null,
      "outputs": []
    },
    {
      "cell_type": "markdown",
      "source": [
        "De la misma forma podemos empezar a realizar operaciones entre variables declaradas "
      ],
      "metadata": {
        "id": "EdNA192czQj7"
      }
    },
    {
      "cell_type": "code",
      "source": [
        "v1= 32\n",
        "v2= 10\n",
        "v3= -3\n",
        "v4= 4"
      ],
      "metadata": {
        "id": "fiuNCnr1zVIi"
      },
      "execution_count": null,
      "outputs": []
    },
    {
      "cell_type": "code",
      "source": [
        "v1-v4"
      ],
      "metadata": {
        "id": "g7bAeM9qyrYP"
      },
      "execution_count": null,
      "outputs": []
    },
    {
      "cell_type": "code",
      "source": [
        "v3 ** 3"
      ],
      "metadata": {
        "id": "OqmzH9FFuwEg"
      },
      "execution_count": null,
      "outputs": []
    },
    {
      "cell_type": "code",
      "source": [
        "v1 % v2"
      ],
      "metadata": {
        "id": "9SmsmB5Hj3_x"
      },
      "execution_count": null,
      "outputs": []
    },
    {
      "cell_type": "markdown",
      "source": [
        "Si nos damos cuenta, todas estas operaciones simplemente son vistas, en ningún momento hemos guardado los resultados "
      ],
      "metadata": {
        "id": "BfynOWF8lDvz"
      }
    },
    {
      "cell_type": "code",
      "source": [
        "resultado_1 = v1 - v4\n",
        "resultado_1"
      ],
      "metadata": {
        "id": "zwZGl_ulmPuV"
      },
      "execution_count": null,
      "outputs": []
    },
    {
      "cell_type": "code",
      "source": [
        "resultado_2= v3 ** 3\n",
        "resultado_2"
      ],
      "metadata": {
        "id": "0coIf1aWm1_r"
      },
      "execution_count": null,
      "outputs": []
    },
    {
      "cell_type": "code",
      "source": [
        "resultado_3 = v1 % v2\n",
        "resultado_3"
      ],
      "metadata": {
        "id": "j7hbMVegm7xs"
      },
      "execution_count": null,
      "outputs": []
    },
    {
      "cell_type": "markdown",
      "source": [
        "También podemos realizar estas operaciones de otra forma "
      ],
      "metadata": {
        "id": "_uNnmJSGoAiJ"
      }
    },
    {
      "cell_type": "code",
      "source": [
        "# Importaremos el módulo NUMPY.Lo entenderemos como un una paqueteria que tiene ciertas funciones que nos serán de utilidad\n",
        "import numpy as np "
      ],
      "metadata": {
        "id": "75Jqpt6_pbgK"
      },
      "execution_count": null,
      "outputs": []
    },
    {
      "cell_type": "code",
      "source": [
        "np.absolute(-3)"
      ],
      "metadata": {
        "id": "YShgAevqq1zB"
      },
      "execution_count": null,
      "outputs": []
    },
    {
      "cell_type": "code",
      "source": [
        "np.add(-5,5)"
      ],
      "metadata": {
        "id": "4lM8FpaFsFNA"
      },
      "execution_count": null,
      "outputs": []
    },
    {
      "cell_type": "code",
      "source": [
        "np.divide(5,2)"
      ],
      "metadata": {
        "id": "WNmX8EmMsZef"
      },
      "execution_count": null,
      "outputs": []
    },
    {
      "cell_type": "code",
      "source": [
        "np.multiply(2,3)"
      ],
      "metadata": {
        "id": "JWsBzEi6skH5"
      },
      "execution_count": null,
      "outputs": []
    },
    {
      "cell_type": "code",
      "source": [
        "np.power(8,2)"
      ],
      "metadata": {
        "id": "BFvoO5XGsyUN"
      },
      "execution_count": null,
      "outputs": []
    },
    {
      "cell_type": "code",
      "source": [
        "np.sqrt(9)"
      ],
      "metadata": {
        "id": "HzEmBxhDtS5V"
      },
      "execution_count": null,
      "outputs": []
    },
    {
      "cell_type": "code",
      "source": [
        "np.sign(3)"
      ],
      "metadata": {
        "id": "HvjlPyE3thFw"
      },
      "execution_count": null,
      "outputs": []
    },
    {
      "cell_type": "markdown",
      "source": [
        "## Tipos de Datos en Python"
      ],
      "metadata": {
        "id": "cwzE1ckjuHwd"
      }
    },
    {
      "cell_type": "markdown",
      "source": [
        "Python tiene diferentes tipos de datos para representar diferentes cosas. Por el momento vamos a aprender los 4 más básicos y esenciales:\n",
        "\n",
        "* int => números enteros\n",
        "* float => números decimales\n",
        "* string => secuencias de caracteres (texto)\n",
        "* boolean => booleanos (True o False)"
      ],
      "metadata": {
        "id": "3SjfMEeQuRGZ"
      }
    },
    {
      "cell_type": "code",
      "source": [
        "# Este es un número entero\n",
        "\n",
        "entero = 10\n",
        "\n",
        "print(entero)\n",
        "print(type(entero))\n",
        "print(\"El número es de tipo: \", type(entero))"
      ],
      "metadata": {
        "id": "XSJGrlZCucTK"
      },
      "execution_count": null,
      "outputs": []
    },
    {
      "cell_type": "code",
      "source": [
        "# Este es un número decimal\n",
        "\n",
        "decimal  = 369.432\n",
        "\n",
        "print(var_float)\n",
        "print(type(var_float))\n",
        "print(\"El número es de tipo: \", type(entero))"
      ],
      "metadata": {
        "id": "8Q7UqoYovORu"
      },
      "execution_count": null,
      "outputs": []
    },
    {
      "cell_type": "code",
      "source": [
        "# Este es un booleano\n",
        "\n",
        "var_bool = True\n",
        "\n",
        "print(var_bool)\n",
        "print(type(var_bool))\n",
        "print(\"El número es de tipo: \", type(entero))"
      ],
      "metadata": {
        "id": "Hzs3jn-avHYq"
      },
      "execution_count": null,
      "outputs": []
    },
    {
      "cell_type": "code",
      "source": [
        "# Esta es una string\n",
        "\n",
        "var_string = \"Soy una string\"\n",
        "\n",
        "print(var_string)\n",
        "print(type(var_string))\n",
        "print(\"El número es de tipo: \", type(entero))"
      ],
      "metadata": {
        "id": "1uGp2N6QvMXf"
      },
      "execution_count": null,
      "outputs": []
    },
    {
      "cell_type": "code",
      "source": [
        "x = 1j\t\t\n",
        "x = [\"manzana\", \"platano\", \"cereza\"]\t\t\n",
        "x = (\"manzana\", \"platano\", \"cereza\")"
      ],
      "metadata": {
        "id": "b8GngVgnYngl"
      },
      "execution_count": null,
      "outputs": []
    },
    {
      "cell_type": "markdown",
      "source": [
        "CASTING DE VARIABLES"
      ],
      "metadata": {
        "id": "g0OtMgRuZHDS"
      }
    },
    {
      "cell_type": "markdown",
      "source": [
        "Puede haber ocasiones en las que desee especificar un tipo en una variable. Python es un lenguaje orientado a objetos y, como tal, utiliza clases para definir tipos de datos, incluidos sus tipos primitivos.\n",
        "\n",
        "Por lo tanto, la conversión en python se realiza mediante funciones de constructor:\n",
        "\n",
        "* int(): construye un número entero a partir de un literal entero, un literal flotante (eliminando todos los decimales) o un literal de cadena (siempre que la cadena represente un número entero)\n",
        "* float(): construye un número flotante a partir de un literal entero, un literal flotante o un literal de cadena (siempre que la cadena represente un flotante o un entero)\n",
        "* str(): construye una cadena a partir de una amplia variedad de tipos de datos, incluidas cadenas, literales enteros y literales flotantes"
      ],
      "metadata": {
        "id": "2qWDk4-ZZKq4"
      }
    },
    {
      "cell_type": "code",
      "source": [
        "x = 1\n",
        "y = 2.8\n",
        "z = \"3\"\n",
        "\n",
        "print(f'El tipo de datos de la variable {x} es: {type(x)}')\n",
        "print(f'El tipo de datos de la variable {y} es: {type(y)}')\n",
        "print(f'El tipo de datos de la variable {z} es: {type(z)}')"
      ],
      "metadata": {
        "id": "mb8qYOYJZOAh"
      },
      "execution_count": null,
      "outputs": []
    },
    {
      "cell_type": "code",
      "source": [
        "x_1 = int(x)\n",
        "y_1 = int(y)\n",
        "z_1 = int(z)\n",
        "\n",
        "print(f'El tipo de datos de la variable {x_1} es: {type(x_1)}')\n",
        "print(f'El tipo de datos de la variable {y_1} es: {type(y_1)}')\n",
        "print(f'El tipo de datos de la variable {z_1} es: {type(z_1)}')"
      ],
      "metadata": {
        "id": "LmI912FAiXKQ"
      },
      "execution_count": null,
      "outputs": []
    },
    {
      "cell_type": "code",
      "source": [
        "x_2 = float(x)     \n",
        "y_2 = float(y)  \n",
        "z_2 = float(z)   \n",
        "\n",
        "print(f'El tipo de datos de la variable {x_2} es: {type(x_2)}')\n",
        "print(f'El tipo de datos de la variable {y_2} es: {type(y_2)}')\n",
        "print(f'El tipo de datos de la variable {z_2} es: {type(z_2)}')"
      ],
      "metadata": {
        "id": "rwNWZuB2aJgf"
      },
      "execution_count": null,
      "outputs": []
    },
    {
      "cell_type": "code",
      "source": [
        "x_2 = float(x)     \n",
        "y_2 = float(y)  \n",
        "z_2 = float(z)   \n",
        "\n",
        "print(f'El tipo de datos de la variable {x_2} es: {type(x_2)}')\n",
        "print(f'El tipo de datos de la variable {y_2} es: {type(y_2)}')\n",
        "print(f'El tipo de datos de la variable {z_2} es: {type(z_2)}')"
      ],
      "metadata": {
        "id": "7cy9sB-ziTA-"
      },
      "execution_count": null,
      "outputs": []
    },
    {
      "cell_type": "code",
      "source": [
        "x_3 = str(x)     \n",
        "y_3 = str(y)  \n",
        "z_3 = str(z)   \n",
        "\n",
        "print(f'El tipo de datos de la variable {x_3} es: {type(x_3)}')\n",
        "print(f'El tipo de datos de la variable {y_3} es: {type(y_3)}')\n",
        "print(f'El tipo de datos de la variable {z_3} es: {type(z_3)}')"
      ],
      "metadata": {
        "id": "FGEnXD37lZd0"
      },
      "execution_count": null,
      "outputs": []
    },
    {
      "cell_type": "markdown",
      "source": [
        "## INTERPOLACIÓN DE STRINGS"
      ],
      "metadata": {
        "id": "Vx9Lx6lplnVR"
      }
    },
    {
      "cell_type": "code",
      "source": [
        "nombre = \"Marco\"\n",
        "print(\"Hola, \", nombre)"
      ],
      "metadata": {
        "id": "bMgPzd5V_oOC"
      },
      "execution_count": null,
      "outputs": []
    },
    {
      "cell_type": "markdown",
      "source": [
        "Formato % "
      ],
      "metadata": {
        "id": "MvJJiXLGlxWw"
      }
    },
    {
      "cell_type": "code",
      "source": [
        "nombre  = \"Marco\"\n",
        "\"Hola, %s.\" % nombre"
      ],
      "metadata": {
        "id": "emS4T3aU_a1-"
      },
      "execution_count": null,
      "outputs": []
    },
    {
      "cell_type": "code",
      "source": [
        "nombre  = \"Marco\"\n",
        "edad= 25\n",
        "\"Hola, %s.\" % nombre\n",
        "\"Hola, %s. Tienes %s.\" % (nombre, edad)"
      ],
      "metadata": {
        "id": "DdqoD2z-DkiW"
      },
      "execution_count": null,
      "outputs": []
    },
    {
      "cell_type": "markdown",
      "source": [
        "f- strings"
      ],
      "metadata": {
        "id": "NCoOGxyzD-J3"
      }
    },
    {
      "cell_type": "markdown",
      "source": [
        "Pero a veces resulta necesario o deseable interpolar el valor de la variable dentro de dicha string. Para eso utilizamos las llamadas f-strings. El formato de una f-string es el siguiente:\n",
        "\n",
        "* f\"Esto es texto {esto_es_una_variable} esto es más texto\"\n",
        "\n",
        "Escribiendo una f antes de las comillas le indicamos a Python que lo que pongas dentro de las llaves ({}) será código de Python. En este caso, una variable asignada previamente."
      ],
      "metadata": {
        "id": "tjGrdBwQEMwM"
      }
    },
    {
      "cell_type": "code",
      "source": [
        "var_1 = 43\n",
        "var_2 = 24.3\n",
        "\n",
        "suma = var_1 + var_2\n",
        "\n",
        "print(f'La suma de var_1 y var_2 es: {suma}')"
      ],
      "metadata": {
        "id": "gNtPY0QyEwFW"
      },
      "execution_count": null,
      "outputs": []
    },
    {
      "cell_type": "code",
      "source": [
        "print(f'La suma de {var_1} y {var_2} es: {var_1 + var_2}')"
      ],
      "metadata": {
        "id": "g7c-mDwCEuKT"
      },
      "execution_count": null,
      "outputs": []
    },
    {
      "cell_type": "markdown",
      "source": [
        "## OPERADORES DE COMPARACIÓN"
      ],
      "metadata": {
        "id": "nn6PvmALHyQj"
      }
    },
    {
      "cell_type": "code",
      "source": [
        "n1 = 323\n",
        "n2 = 212\n",
        "n3 = 210\n",
        "n4 = 210"
      ],
      "metadata": {
        "id": "7vDH1ObHYolu"
      },
      "execution_count": null,
      "outputs": []
    },
    {
      "cell_type": "code",
      "source": [
        "n1 > n2 "
      ],
      "metadata": {
        "id": "M8DZQql5Y9Q8"
      },
      "execution_count": null,
      "outputs": []
    },
    {
      "cell_type": "code",
      "source": [
        "n2 > n1"
      ],
      "metadata": {
        "id": "hCgg51g_Y-1O"
      },
      "execution_count": null,
      "outputs": []
    },
    {
      "cell_type": "code",
      "source": [
        "n3 == n4"
      ],
      "metadata": {
        "id": "M4itXpuIZAyo"
      },
      "execution_count": null,
      "outputs": []
    },
    {
      "cell_type": "code",
      "source": [
        "n3 != n4"
      ],
      "metadata": {
        "id": "aJOGO1lHZD8z"
      },
      "execution_count": null,
      "outputs": []
    },
    {
      "cell_type": "code",
      "source": [
        "n4 >= n1"
      ],
      "metadata": {
        "id": "2QE0pLIrZG4l"
      },
      "execution_count": null,
      "outputs": []
    },
    {
      "cell_type": "code",
      "source": [
        "n3 <= n2"
      ],
      "metadata": {
        "id": "Qa2ojeoiZI6d"
      },
      "execution_count": null,
      "outputs": []
    },
    {
      "cell_type": "markdown",
      "source": [
        "## OPERADORES LÓGICOS"
      ],
      "metadata": {
        "id": "Ct03xs_dZqGx"
      }
    },
    {
      "cell_type": "markdown",
      "source": [
        "El primero es el operador and, que regresa True cuando las dos comparaciones que está uniendo regresan True, y False en todos los demás casos:"
      ],
      "metadata": {
        "id": "pWbarnONa_r7"
      }
    },
    {
      "cell_type": "code",
      "source": [
        "True and True"
      ],
      "metadata": {
        "id": "SmHuxUQ_axk7"
      },
      "execution_count": null,
      "outputs": []
    },
    {
      "cell_type": "code",
      "source": [
        "True and False"
      ],
      "metadata": {
        "id": "TzmFbMOxbDCk"
      },
      "execution_count": null,
      "outputs": []
    },
    {
      "cell_type": "code",
      "source": [
        "False and True"
      ],
      "metadata": {
        "id": "GQ9PTq-nbEqH"
      },
      "execution_count": null,
      "outputs": []
    },
    {
      "cell_type": "code",
      "source": [
        "False and False"
      ],
      "metadata": {
        "id": "smxkV7sYbF5E"
      },
      "execution_count": null,
      "outputs": []
    },
    {
      "cell_type": "markdown",
      "source": [
        "or es muy parecido a and. También nos sirve para unir dos sentencias de comparación y obtener un nuevo resultado. La diferencia es que or regresa True cuando una de las dos o ambas comparaciones regresen True:"
      ],
      "metadata": {
        "id": "qQ88JerJbM8h"
      }
    },
    {
      "cell_type": "code",
      "source": [
        "True or True"
      ],
      "metadata": {
        "id": "uwQIfU_6bOCG"
      },
      "execution_count": null,
      "outputs": []
    },
    {
      "cell_type": "code",
      "source": [
        "True or False"
      ],
      "metadata": {
        "id": "858K87dzbPqr"
      },
      "execution_count": null,
      "outputs": []
    },
    {
      "cell_type": "code",
      "source": [
        "False or True"
      ],
      "metadata": {
        "id": "09WKAwiwbQ_A"
      },
      "execution_count": null,
      "outputs": []
    },
    {
      "cell_type": "code",
      "source": [
        "False or False"
      ],
      "metadata": {
        "id": "birN0uMUbSGw"
      },
      "execution_count": null,
      "outputs": []
    },
    {
      "cell_type": "markdown",
      "source": [
        "not simplemente regresa el booleano opuesto al que recibe\n",
        "\n"
      ],
      "metadata": {
        "id": "_ewEZyQKbav9"
      }
    },
    {
      "cell_type": "code",
      "source": [
        "not(True)"
      ],
      "metadata": {
        "id": "Wrb6vQTYbT5K"
      },
      "execution_count": null,
      "outputs": []
    },
    {
      "cell_type": "code",
      "source": [
        "not(False)"
      ],
      "metadata": {
        "id": "pQ-XikombcvA"
      },
      "execution_count": null,
      "outputs": []
    }
  ]
}