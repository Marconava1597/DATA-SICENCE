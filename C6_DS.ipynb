{
  "nbformat": 4,
  "nbformat_minor": 0,
  "metadata": {
    "colab": {
      "provenance": []
    },
    "kernelspec": {
      "name": "python3",
      "display_name": "Python 3"
    },
    "language_info": {
      "name": "python"
    }
  },
  "cells": [
    {
      "cell_type": "markdown",
      "source": [
        "# APIs, automatización y concatenación de DataFrames\n"
      ],
      "metadata": {
        "id": "93r-IvUuUqPC"
      }
    },
    {
      "cell_type": "markdown",
      "source": [
        "## **APIs**"
      ],
      "metadata": {
        "id": "jw0Is1qtV9tW"
      }
    },
    {
      "cell_type": "markdown",
      "source": [
        "Hoy vamos a aprender a adquirir datos de una manera que difiere mucho de las que hemos visto hasta ahora. No vamos a obtener los datos directamente de un archivo que descargamos o que obtenemos directamente de alguien más, sino que vamos a usar una API para obtener nuestros datos programáticamente y convertirlos en un DataFrame que podamos utilizar."
      ],
      "metadata": {
        "id": "QQDEc6_GUnmE"
      }
    },
    {
      "cell_type": "markdown",
      "source": [
        "Para hacer una petición a una API, tenemos que tomar en cuenta las siguientes cosas:\n",
        "\n",
        "* URL: la \"dirección\" a donde vamos a realizar nuestra petición\n",
        "* Verbo HTTP: El tipo de acción que vamos a realizar (i.e. GET, POST, PUT, PATCH, DELETE, etc.)\n",
        "* Parámetros: Valores que agregamos a nuestra petición para enviar información relevante a la API (datos de acceso, filtros, etc)\n",
        "* Estatus de la respuesta: Un código que nos dice si nuestra petición fue realizada exitosamente o no (i.e. 200, 201, 400, 404, 500, etc.)\n",
        "* Cuerpo de la respuesta: Los datos que nos fueron enviados de regreso al finalizar la petición."
      ],
      "metadata": {
        "id": "KRrgBPLPXpYU"
      }
    },
    {
      "cell_type": "code",
      "source": [
        "!pip install requests"
      ],
      "metadata": {
        "id": "LaXRDrfNZY3q"
      },
      "execution_count": null,
      "outputs": []
    },
    {
      "cell_type": "code",
      "execution_count": null,
      "metadata": {
        "id": "RduyCMYdTj0j"
      },
      "outputs": [],
      "source": [
        "import requests\n",
        "import pandas as pd"
      ]
    },
    {
      "cell_type": "markdown",
      "source": [
        "Vamos a hacer peticiones a una api de la NASA que ofrece datos sobre objetos que orbitan cerca de la Tierra. Pueden ver la documentación [aquí](https://api.nasa.gov/). Ahí podemos ver los endpoints y la manera en la que se usa la Api Key. Ve a la página y consigue tu propia Api Key para que puedas realizar los ejercicios.\n",
        "\n",
        "Ahora, para empezar, necesitamos nuestro endpoint y nuestro diccionario de parámetros."
      ],
      "metadata": {
        "id": "WZfgzHZGZhJ9"
      }
    },
    {
      "cell_type": "code",
      "source": [
        "endpoint = 'https://api.nasa.gov/neo/rest/v1/neo/browse/'\n",
        "payload = {'api_key': 'tu_api_key_va_aqui'}"
      ],
      "metadata": {
        "id": "n4nA5ySJZht1"
      },
      "execution_count": null,
      "outputs": []
    },
    {
      "cell_type": "markdown",
      "source": [
        "Ambos se los pasamos al método GET de requests para realizar la petición a ese endpoint y enviar los parámetros como información extra que el API necesita para validar nuestra petición:"
      ],
      "metadata": {
        "id": "Gc5SDAbPab90"
      }
    },
    {
      "cell_type": "code",
      "source": [
        "r = requests.get(endpoint, params=payload)\n"
      ],
      "metadata": {
        "id": "Dw3WRkgyaXXX"
      },
      "execution_count": null,
      "outputs": []
    },
    {
      "cell_type": "markdown",
      "source": [
        "Ahora, podemos leer lo siguiente de nuestro objeto de respuesta:\n",
        "\n"
      ],
      "metadata": {
        "id": "vQGdWKLYafVz"
      }
    },
    {
      "cell_type": "code",
      "source": [
        "r.status_code\n"
      ],
      "metadata": {
        "id": "ebAQqiuHahE3"
      },
      "execution_count": null,
      "outputs": []
    },
    {
      "cell_type": "code",
      "source": [
        "r.json()"
      ],
      "metadata": {
        "id": "F1RbOA9ZamXe"
      },
      "execution_count": null,
      "outputs": []
    },
    {
      "cell_type": "code",
      "source": [
        "json = r.json()\n"
      ],
      "metadata": {
        "id": "w_c0j0-7aoQv"
      },
      "execution_count": null,
      "outputs": []
    },
    {
      "cell_type": "code",
      "source": [
        "json.keys()\n"
      ],
      "metadata": {
        "id": "MCMr2hFqbGXf"
      },
      "execution_count": null,
      "outputs": []
    },
    {
      "cell_type": "code",
      "source": [
        "json['links']\n"
      ],
      "metadata": {
        "id": "ZktazjJfbIBH"
      },
      "execution_count": null,
      "outputs": []
    },
    {
      "cell_type": "code",
      "source": [
        "json['page']\n"
      ],
      "metadata": {
        "id": "mJPefKCRbJoj"
      },
      "execution_count": null,
      "outputs": []
    },
    {
      "cell_type": "code",
      "source": [
        "data = json['near_earth_objects']\n"
      ],
      "metadata": {
        "id": "XZkxVKerbLEH"
      },
      "execution_count": null,
      "outputs": []
    },
    {
      "cell_type": "code",
      "source": [
        "data[0]\n"
      ],
      "metadata": {
        "id": "beouRZ_LbRfh"
      },
      "execution_count": null,
      "outputs": []
    },
    {
      "cell_type": "code",
      "source": [
        "json['page']\n"
      ],
      "metadata": {
        "id": "CtXKZltebe1q"
      },
      "execution_count": null,
      "outputs": []
    },
    {
      "cell_type": "code",
      "source": [
        "data = json['near_earth_objects']\n"
      ],
      "metadata": {
        "id": "6bgS9c3xbhLF"
      },
      "execution_count": null,
      "outputs": []
    },
    {
      "cell_type": "code",
      "source": [
        "normalized = pd.json_normalize(data)\n",
        "\n",
        "df = pd.DataFrame.from_dict(normalized)\n",
        "\n",
        "df.head()"
      ],
      "metadata": {
        "id": "bI-RkuSTcG1d"
      },
      "execution_count": null,
      "outputs": []
    },
    {
      "cell_type": "markdown",
      "source": [
        "¡Listo! Ahora tenemos un DataFrame con los datos de nuestra primera petición. En esta sesión vamos a aprender a automatizar este proceso. Pero antes, practiquemos un poco el uso de la librería requests."
      ],
      "metadata": {
        "id": "Sn25w-xKcOYU"
      }
    },
    {
      "cell_type": "markdown",
      "source": [
        "**EJEMPLO 2**"
      ],
      "metadata": {
        "id": "HJAL0M_2ci3I"
      }
    },
    {
      "cell_type": "code",
      "source": [
        "respuesta = requests.get('https://api.stackexchange.com/2.3/questions?order=desc&sort=activity&site=stackoverflow')"
      ],
      "metadata": {
        "id": "jV4HInbRCpnU"
      },
      "execution_count": null,
      "outputs": []
    },
    {
      "cell_type": "code",
      "source": [
        "respuesta.status_code"
      ],
      "metadata": {
        "colab": {
          "base_uri": "https://localhost:8080/"
        },
        "id": "EO0Vgy7IDqLK",
        "outputId": "e1638121-e3a3-4158-efec-52cd01ee6e7a"
      },
      "execution_count": null,
      "outputs": [
        {
          "output_type": "execute_result",
          "data": {
            "text/plain": [
              "200"
            ]
          },
          "metadata": {},
          "execution_count": 8
        }
      ]
    },
    {
      "cell_type": "code",
      "source": [
        "json = respuesta.json()"
      ],
      "metadata": {
        "id": "3zqh8S_ggrh5"
      },
      "execution_count": null,
      "outputs": []
    },
    {
      "cell_type": "code",
      "source": [
        "json"
      ],
      "metadata": {
        "id": "3bbzUylatbVm"
      },
      "execution_count": null,
      "outputs": []
    },
    {
      "cell_type": "code",
      "source": [
        "json['items'][0]"
      ],
      "metadata": {
        "colab": {
          "base_uri": "https://localhost:8080/"
        },
        "id": "Q5o1PFGckBGb",
        "outputId": "107b08ed-ba92-4573-ac39-13e87324e1fa"
      },
      "execution_count": null,
      "outputs": [
        {
          "output_type": "execute_result",
          "data": {
            "text/plain": [
              "{'tags': ['visual-studio-code', 'python-3.7'],\n",
              " 'owner': {'account_id': 14200891,\n",
              "  'reputation': 9,\n",
              "  'user_id': 10258829,\n",
              "  'user_type': 'registered',\n",
              "  'profile_image': 'https://www.gravatar.com/avatar/10c61e8a0f17b6270edbbeed797f7156?s=256&d=identicon&r=PG&f=1',\n",
              "  'display_name': 'hit701',\n",
              "  'link': 'https://stackoverflow.com/users/10258829/hit701'},\n",
              " 'is_answered': False,\n",
              " 'view_count': 21,\n",
              " 'answer_count': 0,\n",
              " 'score': 0,\n",
              " 'last_activity_date': 1667848373,\n",
              " 'creation_date': 1667813796,\n",
              " 'last_edit_date': 1667848373,\n",
              " 'question_id': 74344482,\n",
              " 'content_license': 'CC BY-SA 4.0',\n",
              " 'link': 'https://stackoverflow.com/questions/74344482/finddecoder-imread-cat-jpg-cant-open-read-file-check-file-path-integrity',\n",
              " 'title': 'findDecoder imread_(&#39;cat.jpg&#39;): can&#39;t open/read file: check file path/integrity'}"
            ]
          },
          "metadata": {},
          "execution_count": 18
        }
      ]
    },
    {
      "cell_type": "code",
      "source": [
        "for data in json['items']:\n",
        "  print(data)"
      ],
      "metadata": {
        "id": "PwRJOD7tgvuE"
      },
      "execution_count": null,
      "outputs": []
    },
    {
      "cell_type": "code",
      "source": [
        "for data in json['items']:\n",
        "  print(data['link'])\n",
        "  print(data['title'])\n",
        "  print()"
      ],
      "metadata": {
        "id": "GAUIO2Xxh6NS"
      },
      "execution_count": null,
      "outputs": []
    },
    {
      "cell_type": "code",
      "source": [
        "for data in json['items']:\n",
        "  if data['answer_count']== 0 :\n",
        "    print(data['link'])\n",
        "    print(data['title'])\n",
        "    print()\n",
        "  else:\n",
        "    print(\"No nos interesa por el momento\")"
      ],
      "metadata": {
        "id": "LOAs36_OAtem"
      },
      "execution_count": null,
      "outputs": []
    },
    {
      "cell_type": "markdown",
      "source": [
        "## TRY EXCEPT"
      ],
      "metadata": {
        "id": "F-rmOD5hc0xv"
      }
    },
    {
      "cell_type": "markdown",
      "source": [
        "Cuando automatizamos cosas, no queremos tener que estar revisando todo el proceso continuamente. Si tuviéramos que hacer eso, el proceso no estaría muy automatizado que digamos. Durante la ejecución de nuestro programa pueden suceder errores que hagan que nuestro programa deje de correr.\n",
        "\n",
        "Para evitar que estos errores detengan nuestro programa, podemos usar estructuras try except para indicarle a Python qué hacer cuando un error suceda:"
      ],
      "metadata": {
        "id": "2-RsGYuDde-V"
      }
    },
    {
      "cell_type": "code",
      "source": [
        "lista_1 = [1, 2, 3, 4, 5]\n",
        "\n",
        "lista_1[10]"
      ],
      "metadata": {
        "id": "loG2vuuaddwW"
      },
      "execution_count": null,
      "outputs": []
    },
    {
      "cell_type": "code",
      "source": [
        "dict_1 = {\n",
        "    'a': 1,\n",
        "    'b': 2,\n",
        "    'c': 3,\n",
        "    'd': 4\n",
        "}\n",
        "\n",
        "dict_1['z']"
      ],
      "metadata": {
        "id": "vEN-j13bdjp_"
      },
      "execution_count": null,
      "outputs": []
    },
    {
      "cell_type": "code",
      "source": [
        "int(\"Holi\")"
      ],
      "metadata": {
        "id": "TB3aoBDQfLpK"
      },
      "execution_count": null,
      "outputs": []
    },
    {
      "cell_type": "code",
      "source": [
        "lista_2 = [1, 2, 3, 4, 5]\n",
        "\n",
        "try:\n",
        "    print(lista_2[10])\n",
        "except:\n",
        "    print(\"Ese numero esta fuera de rango\")\n",
        "    print(\"Mejor leamos este número\")\n",
        "    print(lista_2[2])"
      ],
      "metadata": {
        "id": "4a_emSPRgBHl"
      },
      "execution_count": null,
      "outputs": []
    },
    {
      "cell_type": "code",
      "source": [
        "dict_2 = {\n",
        "    'a': 1,\n",
        "    'b': 2,\n",
        "    'c': 3,\n",
        "    'd': 4\n",
        "}\n",
        "\n",
        "try:\n",
        "    print(dict_2['z'])\n",
        "except:\n",
        "    print(\"Esa llave no existe\")\n",
        "    print(\"Mejor leamos esta llave\")\n",
        "    print(dict_2['b'])"
      ],
      "metadata": {
        "id": "RG2iJp8vgH1P"
      },
      "execution_count": null,
      "outputs": []
    },
    {
      "cell_type": "code",
      "source": [
        "try:\n",
        "    print(int(\"Holi\"))\n",
        "except:\n",
        "    print(\"Ese no es un número\")\n",
        "    print(\"Mejor vamos a imprimirlo convirtiéndolo en una lista\")\n",
        "    print(list(\"Holi\"))"
      ],
      "metadata": {
        "id": "Ep5rAPsIgKWU"
      },
      "execution_count": null,
      "outputs": []
    },
    {
      "cell_type": "code",
      "source": [
        "def division(x, y):\n",
        "    try:\n",
        "        # Floor Division : Gives only Fractional Part as Answer\n",
        "        result = x / y\n",
        "        print(\"El resultado de tu divisón es \", result)\n",
        "    except ZeroDivisionError:\n",
        "        print(\"No existe la divisón entre 0 \")\n",
        " \n",
        "# Look at parameters and note the working of Program\n",
        "division(3, 0)"
      ],
      "metadata": {
        "colab": {
          "base_uri": "https://localhost:8080/"
        },
        "id": "o670vR6tgVtX",
        "outputId": "5042321f-66e9-4620-e504-da1c58611522"
      },
      "execution_count": 4,
      "outputs": [
        {
          "output_type": "stream",
          "name": "stdout",
          "text": [
            "No existe la divisón entre 0 \n"
          ]
        }
      ]
    },
    {
      "cell_type": "markdown",
      "source": [
        "## Concatenación de Series\n",
        "\n"
      ],
      "metadata": {
        "id": "G0lru6Svhk-Q"
      }
    },
    {
      "cell_type": "markdown",
      "source": [
        "Cuando obtenemos nuestros datos en \"cachitos\", como cuando hacemos peticiones a una API, necesitamos luego unir todos nuestros datos en un solo DataFrame. Para eso podemos usar la función pd.concat de pandas. Primero vamos a aprender los principios básicos usando Series, para luego poder aplicar esos mismos principios a los DataFrames."
      ],
      "metadata": {
        "id": "vanKIQR-huIJ"
      }
    },
    {
      "cell_type": "code",
      "source": [
        "import pandas as pd\n"
      ],
      "metadata": {
        "id": "ni1OS_NVhD1H"
      },
      "execution_count": null,
      "outputs": []
    },
    {
      "cell_type": "code",
      "source": [
        "serie_1 = pd.Series([1, 2, 3], index=['a', 'b', 'c'])\n",
        "serie_2 = pd.Series([4, 5, 6], index=['d', 'f', 'e'])"
      ],
      "metadata": {
        "id": "6DGOJcbYhykn"
      },
      "execution_count": null,
      "outputs": []
    },
    {
      "cell_type": "code",
      "source": [
        "pd.concat([serie_1, serie_2], axis=0)\n"
      ],
      "metadata": {
        "id": "UWJcOLhph0Ge"
      },
      "execution_count": null,
      "outputs": []
    },
    {
      "cell_type": "markdown",
      "source": [
        "También podemos concatenar horizontalmente:\n",
        "\n"
      ],
      "metadata": {
        "id": "Ze9hBXhLiYIy"
      }
    },
    {
      "cell_type": "code",
      "source": [
        "pd.concat([serie_1, serie_2], axis=1)\n"
      ],
      "metadata": {
        "id": "A8sgGtXDiSsu"
      },
      "execution_count": null,
      "outputs": []
    },
    {
      "cell_type": "markdown",
      "source": [
        "Podemos nombrar nuestras columnas para saber cuál era cuál:\n",
        "\n"
      ],
      "metadata": {
        "id": "iV8jiC53ixJZ"
      }
    },
    {
      "cell_type": "code",
      "source": [
        "pd.concat([serie_1, serie_2], axis=1, keys=['serie_1', 'serie_2'])\n"
      ],
      "metadata": {
        "id": "0MTaPp5fiUwI"
      },
      "execution_count": null,
      "outputs": []
    },
    {
      "cell_type": "markdown",
      "source": [
        "Esto pasa si concatenamos horizontalmente usando el mismo índice:\n",
        "\n"
      ],
      "metadata": {
        "id": "yRIPGZtLizaz"
      }
    },
    {
      "cell_type": "code",
      "source": [
        "serie_3 = pd.Series([7, 8, 9], index=['a', 'b', 'c'])\n",
        "\n",
        "pd.concat([serie_1, serie_3], axis=1, keys=['serie_1', 'serie_3'])"
      ],
      "metadata": {
        "id": "UKJBRVCWi1HY"
      },
      "execution_count": null,
      "outputs": []
    },
    {
      "cell_type": "markdown",
      "source": [
        "Si concatenamos verticalmente dos Series que comparten el índice, tenemos el problema de no poder diferenciar los índices:\n",
        "\n"
      ],
      "metadata": {
        "id": "XnpmMXgNi26K"
      }
    },
    {
      "cell_type": "code",
      "source": [
        "pd.concat([serie_1, serie_3], axis=0)\n"
      ],
      "metadata": {
        "id": "xBOWwJB_i4u0"
      },
      "execution_count": null,
      "outputs": []
    },
    {
      "cell_type": "markdown",
      "source": [
        "A veces queremos esto, pero cuando no, podemos agregar un segundo nivel de índice para hacer la diferencia:\n",
        "\n"
      ],
      "metadata": {
        "id": "xhnY4tEJjWhQ"
      }
    },
    {
      "cell_type": "code",
      "source": [
        "pd.concat([serie_1, serie_3], axis=0, keys=['serie_1', 'serie_3'])\n"
      ],
      "metadata": {
        "id": "TI-eCxhrjZUd"
      },
      "execution_count": null,
      "outputs": []
    },
    {
      "cell_type": "markdown",
      "source": [
        "Esto se llama un Multiíndice. Podemos acceder a un multiíndice en un solo nivel o en ambos:\n",
        "\n"
      ],
      "metadata": {
        "id": "MArRzMHIjvI0"
      }
    },
    {
      "cell_type": "code",
      "source": [
        "series_concat = pd.concat([serie_1, serie_3], axis=0, keys=['serie_1', 'serie_3'])\n"
      ],
      "metadata": {
        "id": "0vU1HnpxjuBR"
      },
      "execution_count": null,
      "outputs": []
    },
    {
      "cell_type": "code",
      "source": [
        "series_concat.loc['serie_1']\n"
      ],
      "metadata": {
        "id": "q-hwPR0pjxHE"
      },
      "execution_count": null,
      "outputs": []
    },
    {
      "cell_type": "code",
      "source": [
        "series_concat.loc[('serie_1', 'b')]\n"
      ],
      "metadata": {
        "id": "ZTgqh896jyib"
      },
      "execution_count": null,
      "outputs": []
    },
    {
      "cell_type": "markdown",
      "source": [
        "## Concatenación de DataFrames"
      ],
      "metadata": {
        "id": "05ZMul5gj-kE"
      }
    },
    {
      "cell_type": "markdown",
      "source": [
        "Los mismos principios de concatenación aplican tanto a Series como a DataFrames. Vamos a verlos en acción y realizar una práctica para que nos quede todo súper claro."
      ],
      "metadata": {
        "id": "eVOIki-BkCCc"
      }
    },
    {
      "cell_type": "code",
      "source": [
        "data_1 = {\n",
        "    'column_1': [1, 2, 3],\n",
        "    'column_2': [4, 5, 6]\n",
        "}\n",
        "\n",
        "df_1 = pd.DataFrame(data_1, index=['a', 'b', 'c'])\n",
        "\n",
        "df_1"
      ],
      "metadata": {
        "id": "k-TZpMBLkIca"
      },
      "execution_count": null,
      "outputs": []
    },
    {
      "cell_type": "code",
      "source": [
        "data_2 = {\n",
        "    'column_1': [7, 8, 9],\n",
        "    'column_2': [10, 11, 12]\n",
        "}\n",
        "\n",
        "df_2 = pd.DataFrame(data_1, index=['d', 'e', 'f'])\n",
        "\n",
        "df_2"
      ],
      "metadata": {
        "id": "6XtjPtnDkMlU"
      },
      "execution_count": null,
      "outputs": []
    },
    {
      "cell_type": "code",
      "source": [
        "pd.concat([df_1, df_2], axis=0)\n"
      ],
      "metadata": {
        "id": "693qt2C0kOVN"
      },
      "execution_count": null,
      "outputs": []
    },
    {
      "cell_type": "code",
      "source": [
        "pd.concat([df_1, df_2], axis=1)\n"
      ],
      "metadata": {
        "id": "SzizVBTikQe0"
      },
      "execution_count": null,
      "outputs": []
    },
    {
      "cell_type": "code",
      "source": [
        "data_3 = {\n",
        "    'column_3': [7, 8, 9],\n",
        "    'column_4': [10, 11, 12]\n",
        "}\n",
        "\n",
        "df_3 = pd.DataFrame(data_3, index=['a', 'b', 'c'])\n",
        "\n",
        "df_3"
      ],
      "metadata": {
        "id": "zMWB4HUWkSPY"
      },
      "execution_count": null,
      "outputs": []
    },
    {
      "cell_type": "code",
      "source": [
        "pd.concat([df_1, df_3], axis=1)\n"
      ],
      "metadata": {
        "id": "hH0wL8YFkT6y"
      },
      "execution_count": null,
      "outputs": []
    },
    {
      "cell_type": "markdown",
      "source": [
        "Si concatenamos verticalmente con el mismo índice, no podemos diferenciarlos:\n",
        "\n"
      ],
      "metadata": {
        "id": "MtP0MG7FkV-x"
      }
    },
    {
      "cell_type": "code",
      "source": [
        "data_4 = {\n",
        "    'column_1': [7, 8, 9],\n",
        "    'column_2': [10, 11, 12]\n",
        "}\n",
        "\n",
        "df_4 = pd.DataFrame(data_4, index=['a', 'b', 'c'])\n",
        "\n",
        "df_4"
      ],
      "metadata": {
        "id": "I62U0JMgkZw2"
      },
      "execution_count": null,
      "outputs": []
    },
    {
      "cell_type": "code",
      "source": [
        "pd.concat([df_1, df_4], axis=0)\n"
      ],
      "metadata": {
        "id": "3yqQijnCkbnK"
      },
      "execution_count": null,
      "outputs": []
    },
    {
      "cell_type": "code",
      "source": [
        "df_concat = pd.concat([df_1, df_4], axis=0, keys=['df_1', 'df_4'])\n",
        "\n",
        "df_concat"
      ],
      "metadata": {
        "id": "wUoPQcEhkdPn"
      },
      "execution_count": null,
      "outputs": []
    },
    {
      "cell_type": "code",
      "source": [
        "df_concat.loc['df_1']\n"
      ],
      "metadata": {
        "id": "nRXJ6_ULke9x"
      },
      "execution_count": null,
      "outputs": []
    },
    {
      "cell_type": "code",
      "source": [
        "df_concat.loc[('df_1', 'b')]\n"
      ],
      "metadata": {
        "id": "5cYM6bhYkgjR"
      },
      "execution_count": null,
      "outputs": []
    },
    {
      "cell_type": "markdown",
      "source": [
        "## Automatizando peticiones"
      ],
      "metadata": {
        "id": "sl3pbU12mr0C"
      }
    },
    {
      "cell_type": "code",
      "source": [
        "import pandas as pd\n",
        "import requests\n",
        "import time"
      ],
      "metadata": {
        "id": "j0LqbyeuneeQ"
      },
      "execution_count": null,
      "outputs": []
    },
    {
      "cell_type": "markdown",
      "source": [
        "Veamos cómo usar todo lo que aprendimos para automatizar el proceso de realizar múltiples peticiones a la API, reunirlas en un DataFrame"
      ],
      "metadata": {
        "id": "1Jcv-fMcmtJx"
      }
    },
    {
      "cell_type": "code",
      "source": [
        "endpoint = 'https://api.nasa.gov/neo/rest/v1/neo/browse/'\n",
        "payload = {'api_key': 'tu_api_key_va_aqui'}"
      ],
      "metadata": {
        "id": "GaqtaQPbnV1R"
      },
      "execution_count": null,
      "outputs": []
    },
    {
      "cell_type": "code",
      "source": [
        "dict_datos = {}\n",
        "\n",
        "for i in range(0, 10):\n",
        "    \n",
        "    try:\n",
        "        time.sleep(5)\n",
        "        r = requests.get(endpoint, params=payload, timeout=5)\n",
        "\n",
        "        if r.status_code == 200:\n",
        "            json = r.json()\n",
        "\n",
        "            data = json['near_earth_objects']\n",
        "            dict_datos[i] = data\n",
        "\n",
        "            new_link = json['links']['next']\n",
        "            endpoint = new_link\n",
        "    except:\n",
        "        continue"
      ],
      "metadata": {
        "id": "m7uCWBvAnYlc"
      },
      "execution_count": null,
      "outputs": []
    },
    {
      "cell_type": "code",
      "source": [
        "for key in dict_datos:\n",
        "    normalized = pd.json_normalize(dict_datos[key])\n",
        "    df = pd.DataFrame.from_dict(normalized)\n",
        "    dict_datos[key] = df"
      ],
      "metadata": {
        "id": "qlBR569fnZS0"
      },
      "execution_count": null,
      "outputs": []
    },
    {
      "cell_type": "code",
      "source": [
        "lista_de_dataframes = []\n",
        "\n",
        "for key in dict_datos:\n",
        "    lista_de_dataframes.append(dict_datos[key])"
      ],
      "metadata": {
        "id": "bD3iQSiZnjn4"
      },
      "execution_count": null,
      "outputs": []
    },
    {
      "cell_type": "code",
      "source": [
        "df_completo = pd.concat(lista_de_dataframes, axis=0).reset_index(drop=True)\n"
      ],
      "metadata": {
        "id": "UMwp0u7xnlMg"
      },
      "execution_count": null,
      "outputs": []
    },
    {
      "cell_type": "code",
      "source": [
        "df_completo\n"
      ],
      "metadata": {
        "id": "Q8dvIpEJnnFi"
      },
      "execution_count": null,
      "outputs": []
    }
  ]
}